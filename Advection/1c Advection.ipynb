{
 "cells": [
  {
   "cell_type": "markdown",
   "metadata": {},
   "source": [
    "# 1c Advection"
   ]
  },
  {
   "cell_type": "markdown",
   "metadata": {},
   "source": [
    "### Background"
   ]
  },
  {
   "cell_type": "markdown",
   "metadata": {},
   "source": [
    "Advection is a central phenomenon in all kinds of fluid dynamics. To quote Wikipedia: \"_In the field of physics, engineering, and earth sciences, advection is the transport of a substance by bulk motion_\".\n",
    "\n",
    "Any property of a gas or fluid, such as color, temperature, density, or even velocity or momentum, may be \"advected\" by the flow.\n",
    "\n",
    "One way to think of and understand advection, and its central importance in fluid dynamics, is to consider the difference between studying the behavior of some system in a coordinate system moving with the flow (a _co-moving_ coordinate system), and a stationary one (a _lab-frame_ coordinate system).\n",
    "\n",
    "Since we are looking at the same phenomenon, the terms that describe the physics (forces, heating / cooling, etc) are the same, and the only difference is apparent, and is due to the motion of the coordinate system.  If what happens is described by $f({\\bf r},t)$, then in a system moving with velocity $\\bf v$, the same thing is described by $f({\\bf r}-{\\bf v}t,t)$.\n",
    "\n",
    "From the derivative chain-rule, the motion gives rise to a difference in partial time derivate $\\partial f/\\partial t$, which is \n",
    "\n",
    "\\begin{equation}\\tag{1}\n",
    "- v_x \\partial f/\\partial x - v_y \\partial f/\\partial y - v_z \\partial f/\\partial z = -\\,{\\bf v} \\cdot \\nabla f\n",
    "\\end{equation}"
   ]
  },
  {
   "attachments": {
    "41c06760-c4a0-4768-8888-3ee989c4da6c.png": {
     "image/png": "[encoded data removed]"
    }
   },
   "cell_type": "markdown",
   "metadata": {},
   "source": [
    "If, for example, the shape of a function is stationary in the co-moving coordinate system, then in the lab-frame one sees the function shape passing by, with the local value changing slowly where the function is smooth, and rapidly where the function is steep.\n",
    "\n",
    "![Advection.png](attachment:41c06760-c4a0-4768-8888-3ee989c4da6c.png)"
   ]
  },
  {
   "cell_type": "markdown",
   "metadata": {},
   "source": [
    "It is customary to write the partial time derivative in the lab-frame $\\partial/\\partial t$, while the one in the co-moving frame is written ${\\rm D}/{\\rm D}t$, so\n",
    "\n",
    "\\begin{equation}\\tag{2}\n",
    "{\\rm D}f/{\\rm D}t = \\partial f/\\partial t + {\\bf v \\cdot \\nabla} f\n",
    "\\end{equation}"
   ]
  },
  {
   "cell_type": "markdown",
   "metadata": {},
   "source": [
    "# Numerical Advection"
   ]
  },
  {
   "cell_type": "code",
   "execution_count": null,
   "metadata": {},
   "outputs": [],
   "source": [
    "import numpy as np\n",
    "import matplotlib.pyplot as plt"
   ]
  },
  {
   "cell_type": "markdown",
   "metadata": {},
   "source": [
    "### Advecting a sine-wave\n",
    "We can test numerical advection by introducing a time stepping scheme, for example the second order Adams-Bashforth scheme (this can be thought of as an extrapolation in the derivative, see also the useful wikipedia entry: https://en.wikipedia.org/wiki/Linear_multistep_method ). The method can be derived in many ways, for the second order scheme we can simply match Taylor expansions forward and backwards in time:\n",
    "\n",
    "\\begin{equation}\n",
    "f(t + \\Delta t) = f(t) + f'(t) \\Delta t + {1\\over 2}f''(t) \\Delta t^2 + \\mathcal{O}(\\Delta t^3)\n",
    "\\end{equation}\n",
    "\n",
    "\\begin{equation}\n",
    "f'(t - \\Delta t) \\Delta t = f'(t) \\Delta t - f''(t) \\Delta t^2 + \\mathcal{O}(\\Delta t^3)\n",
    "\\end{equation}\n",
    "\n",
    "Multiplying the second equation by $1/2$ and adding them together we find after rearrangement\n",
    "\\begin{equation}\n",
    "f(t + \\Delta t) = f(t) + {3\\over 2}f'(t) \\Delta t - {1\\over 2}f'(t-\\Delta t) \\Delta t + \\mathcal{O}(\\Delta t^3)\n",
    "\\end{equation}"
   ]
  },
  {
   "cell_type": "code",
   "execution_count": null,
   "metadata": {},
   "outputs": [],
   "source": [
    "def adams_bashforth(f0,f1,dfdt,dt):\n",
    "    \"\"\" 2nd order Adams-Bashforth time stepping scheme:\n",
    "        f1: function at time t\n",
    "        f0: function at time t-dt\n",
    "        dfdt: procedure giving the time derivative\n",
    "    \"\"\"\n",
    "    return f1+dt*(1.5*dfdt(f1)-0.5*dfdt(f0))"
   ]
  },
  {
   "cell_type": "markdown",
   "metadata": {},
   "source": [
    "Let us use this to advect the function f(x) with velocity $v$, using a time step equal to `courant*ds/v`, where `ds` is the cell size, and `v` is the velocity amplitude:"
   ]
  },
  {
   "cell_type": "markdown",
   "metadata": {},
   "source": [
    "#### Initial condition"
   ]
  },
  {
   "cell_type": "code",
   "execution_count": null,
   "metadata": {},
   "outputs": [],
   "source": [
    "n=16\n",
    "v=1.0\n",
    "def coordinates(n):\n",
    "    ds=2.0*np.pi/n\n",
    "    x=ds*np.arange(n)\n",
    "    return ds,x\n",
    "def IC(x,v,t):\n",
    "    f=np.sin(x-v*t)\n",
    "    return f\n",
    "ds,x=coordinates(n)\n",
    "f0=IC(x,v,0.0)\n",
    "plt.plot(x,f0,'-o');"
   ]
  },
  {
   "cell_type": "markdown",
   "metadata": {},
   "source": [
    "#### Courant condition\n",
    "This routine computes the maximum _wavespeed_ -- simply $v$ for advection -- and sets the timestep such that features in the solution do not propagate more than $C\\times\\Delta x$, a $C$ fraction of a cell, from one iteration to the next."
   ]
  },
  {
   "cell_type": "code",
   "execution_count": null,
   "metadata": {},
   "outputs": [],
   "source": [
    "v=1.0\n",
    "def courant(C,v,ds):\n",
    "    dt=C/np.max(v/ds)\n",
    "    return dt\n",
    "dt=courant(0.2,v,ds)\n",
    "print('dt={:.4f}'.format(dt))"
   ]
  },
  {
   "cell_type": "markdown",
   "metadata": {},
   "source": [
    "#### Time derivative procedure:\n",
    "Define the derivative operator and use it to construct the time-derivative with a _second order in space_ correct result"
   ]
  },
  {
   "cell_type": "code",
   "execution_count": null,
   "metadata": {},
   "outputs": [],
   "source": [
    "def deriv(f,ds,axis=0,order=2):\n",
    "    return (np.roll(f,-1,axis)-np.roll(f,+1,axis))/(2.0*ds)\n",
    "def dfdt(f):\n",
    "    return -v*deriv(f,ds,0)"
   ]
  },
  {
   "cell_type": "markdown",
   "metadata": {},
   "source": [
    "#### 10 time steps\n",
    "Let us construct an initial condition, and a _time evolution loop_ that updates the function values according to our PDE describing advection"
   ]
  },
  {
   "cell_type": "code",
   "execution_count": null,
   "metadata": {},
   "outputs": [],
   "source": [
    "n=16\n",
    "v=1.0\n",
    "C=0.2\n",
    "ds,x=coordinates(n)\n",
    "dt=courant(C,v,ds)\n",
    "f0=IC(x,v,0.0)                        # set \"old time\" f0 = f(0)\n",
    "f1=IC(x,v,dt)                         # set \"current time\" f1 = f(dt)\n",
    "plt.plot(f0,'-+')\n",
    "plt.plot(f1,'-+')\n",
    "for it in range(9):\n",
    "    f2=adams_bashforth(f0,f1,dfdt,dt) # calculate new time f(t+dt)\n",
    "    f0=f1                             # set \"old time\" f0 == f(t)\n",
    "    f1=f2                             # set \"current time\" f1 == f(t+dt) = f2\n",
    "    plt.plot(f1,'-+',label=it)\n",
    "plt.legend();"
   ]
  },
  {
   "cell_type": "markdown",
   "metadata": {},
   "source": [
    "So, this seems to work pretty well, right?  Looking at the plus symbols, we can see that the sine wave has moved about 2 cells, which is consistent with 10 time steps with 0.2 of a cell per time step."
   ]
  },
  {
   "cell_type": "markdown",
   "metadata": {},
   "source": [
    "So, let's try as many steps as would be needed for a full period; i.e, `n` cells:"
   ]
  },
  {
   "cell_type": "code",
   "execution_count": null,
   "metadata": {},
   "outputs": [],
   "source": [
    "n=16\n",
    "ds,x=coordinates(n)\n",
    "dt=courant(C,v,ds)\n",
    "f0=IC(x,v,0.0)                        # set \"old time\" f0 = f(0)\n",
    "f1=IC(x,v,dt)                         # set \"current time\" f1 = f(dt)\n",
    "plt.plot(f0)\n",
    "nt=int(n/C+0.5)\n",
    "print('We need {} steps'.format(nt))\n",
    "t = dt\n",
    "for it in range(nt-1):                # do one step less because we start at t = dt\n",
    "    f2=adams_bashforth(f0,f1,dfdt,dt)\n",
    "    f0=f1\n",
    "    f1=f2\n",
    "    t += dt\n",
    "print(\"End time / 2 pi:\", t / (2 * np.pi))\n",
    "plt.plot(f2);"
   ]
  },
  {
   "cell_type": "markdown",
   "metadata": {},
   "source": [
    "Close, but not exact, so let's compute a measure of the error (slightly different from last exercise, namely the RMS error):"
   ]
  },
  {
   "cell_type": "code",
   "execution_count": null,
   "metadata": {},
   "outputs": [],
   "source": [
    "f0=IC(x,v,0.0)\n",
    "RMS2=np.average((f0-f2)**2)**0.5\n",
    "print('The root-mean-square error is {:.6f}'.format(RMS2))"
   ]
  },
  {
   "cell_type": "markdown",
   "metadata": {},
   "source": [
    "Now it's interesting to see how the error varies with the number of points `n`:"
   ]
  },
  {
   "cell_type": "code",
   "execution_count": null,
   "metadata": {},
   "outputs": [],
   "source": [
    "N=[]\n",
    "RMS2=[]\n",
    "for n in (16,32,64,128,256):\n",
    "    ds,x=coordinates(n)\n",
    "    dt=courant(C,v,ds)\n",
    "    f0=IC(x,v,0.0)\n",
    "    f1=IC(x,v,dt)\n",
    "    nt=int(n/C+0.5)\n",
    "    for it in range(nt-1):\n",
    "        f2=adams_bashforth(f0,f1,dfdt,dt)\n",
    "        f0=f1\n",
    "        f1=f2\n",
    "    f0=IC(x,v,0.0)\n",
    "    rms=np.average((f0-f2)**2)**0.5\n",
    "    N.append(n)\n",
    "    RMS2.append(rms)\n",
    "plt.loglog(N,RMS2,'o');"
   ]
  },
  {
   "cell_type": "markdown",
   "metadata": {},
   "source": [
    "Let's try and fit a line through, observing that the errors seems to drop with a factor of 4 for each step of 2 in `n`:"
   ]
  },
  {
   "cell_type": "code",
   "execution_count": null,
   "metadata": {},
   "outputs": [],
   "source": [
    "plt.loglog(N,RMS2,'o');\n",
    "N=np.array(N)\n",
    "plt.loglog(N,0.1/(N/16.0)**2);"
   ]
  },
  {
   "cell_type": "markdown",
   "metadata": {},
   "source": [
    "We conclude that the error drops with $1/n^2 \\sim dx^2 \\sim dt^2$; i.e., the prodedure is _second order accurate in the resolution and in the timestep_. \n",
    "\n",
    "Second order accuracy means that after advecting a function a fixed amount of time, with a timestep that is reduced according to the cell size, the error scales as $1/n^2$."
   ]
  },
  {
   "cell_type": "markdown",
   "metadata": {},
   "source": [
    "#### __Task 1:__"
   ]
  },
  {
   "cell_type": "markdown",
   "metadata": {},
   "source": [
    "Replace the `deriv()` procedure with your 4th order accurate version, and repeat the computation, but store the error as `RMS4` (so you can plot both in the same plot).  \n",
    "   * What is the accuracy order of the improved procedure?\n",
    "   * The answer may seem surprising (or not).  Discuss!"
   ]
  },
  {
   "cell_type": "markdown",
   "metadata": {},
   "source": [
    "### Errors become visible when advecting a square wave\n",
    "So, this seems rather good, then -- one can get very small advection errors, by choosing high spatial order.  But the problem is the dependence of the errors on the number of points in the sine wave.  One can think of the error as an error in _phase_ of the sine wave (there is also an error in amplitude, but the error in phase is more apparent in this example)."
   ]
  },
  {
   "cell_type": "markdown",
   "metadata": {},
   "source": [
    "Errors in amplitude and phase of sin/cos waves translate to _dispersion_ of shapes that has \"overtones\"; i.e., functions whose Fourier transform contains higher wave numbers because the relative resolution of the different wave numbers."
   ]
  },
  {
   "cell_type": "markdown",
   "metadata": {},
   "source": [
    "#### To illustrate _dispersion_, let's make a square(-ish) wave, for testing:"
   ]
  },
  {
   "cell_type": "markdown",
   "metadata": {},
   "source": [
    "Such a wave may be though of as a superposition of sine-waves.  A _Fourier transform_ would give the individual amplitudes"
   ]
  },
  {
   "cell_type": "code",
   "execution_count": null,
   "metadata": {},
   "outputs": [],
   "source": [
    "n=16\n",
    "ds,x=coordinates(n)\n",
    "def square_wave(x,v,ds,t,steepness=1.0):\n",
    "    f=IC(x,v,t)\n",
    "    return np.tanh((steepness/ds)*f)\n",
    "f0=square_wave(x,v,ds,0.0)\n",
    "plt.plot(x,f0,'-o');"
   ]
  },
  {
   "cell_type": "markdown",
   "metadata": {},
   "source": [
    "We try to evolve it for 10 time steps again, using a copy & paste of what we did before, just with the `square_wave()` as the initial condition, and plotting only the initial and final states:"
   ]
  },
  {
   "cell_type": "code",
   "execution_count": null,
   "metadata": {},
   "outputs": [],
   "source": [
    "n=16\n",
    "C=0.2\n",
    "ds,x=coordinates(n)\n",
    "dt=courant(C,v,ds)\n",
    "nt=int(n/C+0.5)\n",
    "f0=square_wave(x,v,ds,0.0)\n",
    "f1=square_wave(x,v,ds,dt)\n",
    "plt.plot(f0,'-+',label='initial')\n",
    "for it in range(nt-1):\n",
    "    f2=adams_bashforth(f0,f1,dfdt,dt)\n",
    "    f0=f1\n",
    "    f1=f2\n",
    "plt.plot(f2,'-+',label='evolved')\n",
    "plt.legend();"
   ]
  },
  {
   "cell_type": "markdown",
   "metadata": {},
   "source": [
    "The \"square\" wave has already become pretty distorted!"
   ]
  },
  {
   "cell_type": "markdown",
   "metadata": {},
   "source": [
    "Let's repeat this for n=32"
   ]
  },
  {
   "cell_type": "code",
   "execution_count": null,
   "metadata": {},
   "outputs": [],
   "source": [
    "n=32\n",
    "C=0.2\n",
    "ds,x=coordinates(n)\n",
    "dt=courant(C,v,ds)\n",
    "nt=int(n/C+0.5)\n",
    "f0=square_wave(x,v,ds,0.0)\n",
    "f1=square_wave(x,v,ds,dt)\n",
    "plt.plot(f0,'-o',label='initial')\n",
    "for it in range(nt-1):\n",
    "    f2=adams_bashforth(f0,f1,dfdt,dt)\n",
    "    f0=f1\n",
    "    f1=f2\n",
    "plt.plot(f2,'-+',label='evolved')\n",
    "plt.legend();"
   ]
  },
  {
   "cell_type": "markdown",
   "metadata": {},
   "source": [
    "The error at the front of the square wave looks exactly the same!  Try with `n=64` and `n=128`, to confirm!"
   ]
  },
  {
   "cell_type": "markdown",
   "metadata": {},
   "source": [
    "The result is not encouraging; the error remains essentially the same, which shows that the problem cannot be solved by increasing the number of points."
   ]
  },
  {
   "cell_type": "markdown",
   "metadata": {},
   "source": [
    "#### __Task 2:__ Try using the 4th order derivative"
   ]
  },
  {
   "cell_type": "markdown",
   "metadata": {},
   "source": [
    "Try, as above, to replace the 2nd order derivative with the 4th order derivative.  Does the problem go away? Why did we have a problem in the first place (_hint_: think of a square wave as a sum of waves with many different wavelengths)"
   ]
  },
  {
   "cell_type": "markdown",
   "metadata": {},
   "source": [
    "#### __Absalon turn-in:__"
   ]
  },
  {
   "cell_type": "markdown",
   "metadata": {},
   "source": [
    "Answer the questions in Task 1 and 2 in the notebook and upload the notebook together with a PDF file of the notebook."
   ]
  }
 ],
 "metadata": {
  "kernelspec": {
   "display_name": "Python 3 (ipykernel)",
   "language": "python",
   "name": "python3"
  },
  "language_info": {
   "codemirror_mode": {
    "name": "ipython",
    "version": 3
   },
   "file_extension": ".py",
   "mimetype": "text/x-python",
   "name": "python",
   "nbconvert_exporter": "python",
   "pygments_lexer": "ipython3",
   "version": "3.8.15"
  }
 },
 "nbformat": 4,
 "nbformat_minor": 4
}
