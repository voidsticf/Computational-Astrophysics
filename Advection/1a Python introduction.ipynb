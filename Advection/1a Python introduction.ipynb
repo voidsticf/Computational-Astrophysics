{
 "cells": [
  {
   "cell_type": "markdown",
   "metadata": {
    "tags": []
   },
   "source": [
    "# ERDA Jupyter Setup"
   ]
  },
  {
   "cell_type": "markdown",
   "metadata": {},
   "source": [
    "In this step you are becoming familiar with ERDA (the Electronic Research Data Archive at KU Science), where you will be able to run Python in the context of Jupyter Notebooks, with text and executable Python code mixed."
   ]
  },
  {
   "cell_type": "markdown",
   "metadata": {},
   "source": [
    "## Editing a Jupyter notebook"
   ]
  },
  {
   "cell_type": "markdown",
   "metadata": {},
   "source": [
    "A Jupyter notebook is a collection of text and executable code that works like an interactive document. Each cell can be evaluated in an arbitrary order. A _kernel_ running Python is executing the code (see \"Kernel\" in the top menu bar), and will remember the results and e.g. variable definitions between different cells. Often the notebook is intended to be run from top to down, but for example if you play with changing parameters in a setup, it can be useful to edit a small section of cells, and re-evaluate the code. \n",
    "Reading this on ERDA or in a copy on your laptop you can edit the document. The three most important things to know about editing is that\n",
    " - a cell can either be formatted as `Code`, `Markdown` (think simplified html. like this cell), or `raw` text. You can select the format in the notebook menu-bar.\n",
    " - `shift+Enter` will evaluate the contents of a cell, formatting the Markdown text or executing the Python code.\n",
    " - if you would like to add a new cell you can do that by marking a cell, and pressing the `+` sign in the notebook menu-bar. Using the mouse you can change the order of cells by dragging them using the blue ribbon in the left side."
   ]
  },
  {
   "cell_type": "markdown",
   "metadata": {},
   "source": [
    "# Python basics"
   ]
  },
  {
   "cell_type": "markdown",
   "metadata": {},
   "source": [
    "This section, and the next, summarizes _and exemplifies_ some of the basic elements of Python that we are using in the course. To check that you are on top of these things, there is a small Absalon assignment at the end"
   ]
  },
  {
   "cell_type": "markdown",
   "metadata": {},
   "source": [
    "#### Tutorials, Documentation and Online Help"
   ]
  },
  {
   "cell_type": "markdown",
   "metadata": {},
   "source": [
    "Arguably, the fastest and best way to become proficient in Python programming (or in any programming language) -- without having to read longwinded tutorials and lessons -- is by learning from examples.  Code constructs used in a context are much more helpful than the ever so detailed descriptions of language elements. Nevertheless, here are a few links to a small selection of tutorials and books:\n",
    "\n",
    "* [Learn Python in 10 minutes](https://www.stavros.io/tutorials/python/) (free on the web) -- brief and very useful\n",
    "* [Think Python (2nd ed.)](https://greenteapress.com/wp/think-python-2e/) (free on the web) -- more longwinded\n",
    "* [Introduction to Computation and Programming Using Python](https://mitpress.mit.edu/books/introduction-computation-and-programming-using-python-third-edition) (book) -- comprehensive, as expected from a book\n",
    "* ... or just Google, e.g. \"the best Python tutorials\" or \"the best short Python tutorial\" or ...\n",
    "\n",
    "If you want to accomplish a specific thing with Python, here are three good approaches to get help:\n",
    "* Google is your help. You will often find links to StackOverflow, which is a community driven site.\n",
    "* Look up the reference documentation. This is particularly useful for plotting with Matplotlib or for Numpy routines (see below)\n",
    "* Use your peers: you are 28 students this year, and you are welcome to help each other with coding issues"
   ]
  },
  {
   "cell_type": "markdown",
   "metadata": {},
   "source": [
    "## Basic computations in Python\n",
    "To evaluate an expression, just type in normal mathematical notation (exponentiation is **).  "
   ]
  },
  {
   "cell_type": "code",
   "execution_count": null,
   "metadata": {},
   "outputs": [],
   "source": [
    "4*69.23*(17.04-9.86)**2"
   ]
  },
  {
   "cell_type": "markdown",
   "metadata": {},
   "source": [
    "Note that division of integers results in a float.  To get integer division results, use double division sign:"
   ]
  },
  {
   "cell_type": "code",
   "execution_count": null,
   "metadata": {},
   "outputs": [],
   "source": [
    "5/2"
   ]
  },
  {
   "cell_type": "code",
   "execution_count": null,
   "metadata": {},
   "outputs": [],
   "source": [
    "5//2"
   ]
  },
  {
   "cell_type": "code",
   "execution_count": null,
   "metadata": {},
   "outputs": [],
   "source": [
    "-5//2"
   ]
  },
  {
   "cell_type": "markdown",
   "metadata": {},
   "source": [
    "## Using standard mathematical functions\n",
    "Standard math functions, such as exp() and sin(), are not available by default:"
   ]
  },
  {
   "cell_type": "code",
   "execution_count": null,
   "metadata": {},
   "outputs": [],
   "source": [
    "exp(1.)+cos(pi)"
   ]
  },
  {
   "cell_type": "markdown",
   "metadata": {},
   "source": [
    "For interactive use, you can get access to standard math and plotting with the \"magic command\" %pylab, which also defines some common variable names, such as \"pi\". This is handy for small computations, but maybe not recommended for larger notebooks, as discussed below:"
   ]
  },
  {
   "cell_type": "code",
   "execution_count": null,
   "metadata": {},
   "outputs": [],
   "source": [
    "# This works but also populates the namespace of the session\n",
    "# with a lot of global varioables, so is commented out\n",
    "#%pylab inline\n",
    "#exp(1.)+cos(pi)"
   ]
  },
  {
   "cell_type": "markdown",
   "metadata": {},
   "source": [
    "## Basic Language Elements"
   ]
  },
  {
   "cell_type": "markdown",
   "metadata": {},
   "source": [
    "In addition to normal variables (_scalars_), we will be using _lists_, _tuples_, _arrays_, _dictionaries_, and in particular _classes_. They are all examples of _objects_:\n",
    "### Lists\n",
    "_Lists_ are just a series of things, not necessarily numbers:"
   ]
  },
  {
   "cell_type": "code",
   "execution_count": null,
   "metadata": {},
   "outputs": [],
   "source": [
    "mylist=[1,2,'a','b']\n",
    "mylist"
   ]
  },
  {
   "cell_type": "code",
   "execution_count": null,
   "metadata": {},
   "outputs": [],
   "source": [
    "mylist[3]"
   ]
  },
  {
   "cell_type": "code",
   "execution_count": null,
   "metadata": {},
   "outputs": [],
   "source": [
    "mylist.append('c')\n",
    "mylist"
   ]
  },
  {
   "cell_type": "markdown",
   "metadata": {},
   "source": [
    "Here `append()` is a _method_ that all list are born with. In addition to `append`, lists have many other useful built-in methods; cf. the output from"
   ]
  },
  {
   "cell_type": "code",
   "execution_count": null,
   "metadata": {},
   "outputs": [],
   "source": [
    "help(list)"
   ]
  },
  {
   "cell_type": "markdown",
   "metadata": {},
   "source": [
    "The `__name__` entries with underscores are \"hidden\" methods "
   ]
  },
  {
   "cell_type": "markdown",
   "metadata": {},
   "source": [
    "Lists are typically used (also by us) to collect and arrange things."
   ]
  },
  {
   "cell_type": "markdown",
   "metadata": {},
   "source": [
    "## Tuples\n",
    "_Tuples_ are similar to lists, but are _immutable_; i.e., their length and order cannot be changed:"
   ]
  },
  {
   "cell_type": "code",
   "execution_count": null,
   "metadata": {},
   "outputs": [],
   "source": [
    "mytuple=(1,2,3,'a','b',2)"
   ]
  },
  {
   "cell_type": "markdown",
   "metadata": {},
   "source": [
    "A tuple has just two built-in methods: _count(item)_ counts how many _item_ it has, and _index(item)_ gives the (first) location. Notice that Python is zero based. The first element has index 0:"
   ]
  },
  {
   "cell_type": "code",
   "execution_count": null,
   "metadata": {},
   "outputs": [],
   "source": [
    "mytuple.count(2)"
   ]
  },
  {
   "cell_type": "code",
   "execution_count": null,
   "metadata": {},
   "outputs": [],
   "source": [
    "mytuple.index(2)"
   ]
  },
  {
   "cell_type": "code",
   "execution_count": null,
   "metadata": {},
   "outputs": [],
   "source": [
    "mytuple[3]"
   ]
  },
  {
   "cell_type": "markdown",
   "metadata": {},
   "source": [
    "Tuples are used as argument lists to functions, and to return values from functions."
   ]
  },
  {
   "cell_type": "code",
   "execution_count": null,
   "metadata": {},
   "outputs": [],
   "source": [
    "help(tuple)"
   ]
  },
  {
   "cell_type": "markdown",
   "metadata": {},
   "source": [
    "## Arrays"
   ]
  },
  {
   "cell_type": "markdown",
   "metadata": {},
   "source": [
    "_Arrays_ are what we normally think of as arrays in math; things to use in compuations.  If you have not used the `%pylab inline` command above, to get access to them and to use `pi` and standard mathematical functions, you first need to import them from `numpy`:"
   ]
  },
  {
   "cell_type": "code",
   "execution_count": null,
   "metadata": {},
   "outputs": [],
   "source": [
    "import numpy as np"
   ]
  },
  {
   "cell_type": "code",
   "execution_count": null,
   "metadata": {},
   "outputs": [],
   "source": [
    "a=np.array([12.,25.,14])"
   ]
  },
  {
   "cell_type": "code",
   "execution_count": null,
   "metadata": {},
   "outputs": [],
   "source": [
    "a/2"
   ]
  },
  {
   "cell_type": "code",
   "execution_count": null,
   "metadata": {},
   "outputs": [],
   "source": [
    "a**2"
   ]
  },
  {
   "cell_type": "code",
   "execution_count": null,
   "metadata": {},
   "outputs": [],
   "source": [
    "np.sin(a*np.pi/180)"
   ]
  },
  {
   "cell_type": "markdown",
   "metadata": {},
   "source": [
    "A list of lists becomes a two dimensional (2-D) array. While lists can contain anything, they are also slower and less flexible to work with. Therefore we will often convert lists representing vectors and arrays only containing numbers to `numpy` arrays with `np.array`. This gives the convenience of being able to multiply, add, and do other mathematical manipulations with them, and the code executes much faster:"
   ]
  },
  {
   "cell_type": "code",
   "execution_count": null,
   "metadata": {},
   "outputs": [],
   "source": [
    "b=np.array([[1,2,3],[4,5,6]])"
   ]
  },
  {
   "cell_type": "code",
   "execution_count": null,
   "metadata": {},
   "outputs": [],
   "source": [
    "b.shape"
   ]
  },
  {
   "cell_type": "code",
   "execution_count": null,
   "metadata": {},
   "outputs": [],
   "source": [
    "b[0,2]"
   ]
  },
  {
   "cell_type": "code",
   "execution_count": null,
   "metadata": {},
   "outputs": [],
   "source": [
    "b[0]"
   ]
  },
  {
   "cell_type": "code",
   "execution_count": null,
   "metadata": {},
   "outputs": [],
   "source": [
    "b[:,0]"
   ]
  },
  {
   "cell_type": "code",
   "execution_count": null,
   "metadata": {},
   "outputs": [],
   "source": [
    "b.max()"
   ]
  },
  {
   "cell_type": "code",
   "execution_count": null,
   "metadata": {},
   "outputs": [],
   "source": [
    "print(b)\n",
    "print(b*2)"
   ]
  },
  {
   "cell_type": "markdown",
   "metadata": {},
   "source": [
    "## Objects\n",
    "_Objects_ actually need no introduction, since everything in Python is an object.   We have already seen objects exemplified by _lists_, _tuples_, and _numpy arrays_, and even just the numbers we started with are objects."
   ]
  },
  {
   "cell_type": "markdown",
   "metadata": {},
   "source": [
    "Objects have _attributes_ and _methods_.  Think of attributes as scalars, which represent a property of the object.  One example is the  `.shape` attribute of an array, which gives it's \"shape\" (\"dimension\").  Think of _methods_ as functions, which operate on the object. One example is the `.max()` method of an array that we just used to return the largest element."
   ]
  },
  {
   "cell_type": "markdown",
   "metadata": {},
   "source": [
    "To make a new object in python we define a _class_. This example shows a new class which initially only contains the attribute `attr` and function `print_vars`:"
   ]
  },
  {
   "cell_type": "code",
   "execution_count": null,
   "metadata": {},
   "outputs": [],
   "source": [
    "class myclass():\n",
    "    def __init__(self):\n",
    "        self.attr = 'a string'\n",
    "    def print_attribute(self):\n",
    "        print(self.attr)"
   ]
  },
  {
   "cell_type": "markdown",
   "metadata": {},
   "source": [
    "To create an _instance_ of the class (a new object of that type) we have to call the class, which will create the object and execute the hidden `__init__` method:"
   ]
  },
  {
   "cell_type": "code",
   "execution_count": null,
   "metadata": {},
   "outputs": [],
   "source": [
    "myobject=myclass()"
   ]
  },
  {
   "cell_type": "markdown",
   "metadata": {},
   "source": [
    "We can add new attributes to the class on the fly. This is a way to attach data to the object:"
   ]
  },
  {
   "cell_type": "code",
   "execution_count": null,
   "metadata": {},
   "outputs": [],
   "source": [
    "myobject.a=14\n",
    "myobject.b=11"
   ]
  },
  {
   "cell_type": "markdown",
   "metadata": {},
   "source": [
    "To see the contents of an object:"
   ]
  },
  {
   "cell_type": "code",
   "execution_count": null,
   "metadata": {},
   "outputs": [],
   "source": [
    "print(vars(myobject))"
   ]
  },
  {
   "cell_type": "markdown",
   "metadata": {},
   "source": [
    "We can get information about the content of the _attr_ component by using the function `print_attribute` defined by the class"
   ]
  },
  {
   "cell_type": "code",
   "execution_count": null,
   "metadata": {},
   "outputs": [],
   "source": [
    "myobject.print_attribute()"
   ]
  },
  {
   "cell_type": "markdown",
   "metadata": {},
   "source": [
    "Objects defined by classes are good for describing and manipulating properties of things  -- this is exactly why _attributes_ and _methods_ have their names. We will use classes extensively in the course, since they map very nicely to the core objective, namely exploring and learning numerical methods, and the theory behind them. Because classes are used so much throughout the exercises, please make sure you have grasped the basic idea behind classes and objects in python."
   ]
  },
  {
   "cell_type": "markdown",
   "metadata": {},
   "source": [
    "## Dictionaries\n",
    "_Dictionaries_ is a way to index a collection of things with anything; numbers, text, other objects.  Curly brackets are used to create a dictionary, which could be empty:"
   ]
  },
  {
   "cell_type": "code",
   "execution_count": null,
   "metadata": {},
   "outputs": [],
   "source": [
    "mydict={}"
   ]
  },
  {
   "cell_type": "markdown",
   "metadata": {},
   "source": [
    "Now we can enter whatever we want, with whatever \"index\" we want:"
   ]
  },
  {
   "cell_type": "code",
   "execution_count": null,
   "metadata": {},
   "outputs": [],
   "source": [
    "mydict[1]='a text thing in mydict'\n",
    "mydict[2]=23\n",
    "mydict['a']=2\n",
    "print(mydict)"
   ]
  },
  {
   "cell_type": "markdown",
   "metadata": {},
   "source": [
    "Or, it could be initialized from the start:"
   ]
  },
  {
   "cell_type": "code",
   "execution_count": null,
   "metadata": {},
   "outputs": [],
   "source": [
    "mydict = {1:'a text thing in mydict', 2:23, 'a':2}"
   ]
  },
  {
   "cell_type": "markdown",
   "metadata": {},
   "source": [
    "Retrieiving \"things\" is done with [] brackets, just as with _lists_, _tuples_, and _arrays_:"
   ]
  },
  {
   "cell_type": "code",
   "execution_count": null,
   "metadata": {},
   "outputs": [],
   "source": [
    "mydict[2]"
   ]
  },
  {
   "cell_type": "code",
   "execution_count": null,
   "metadata": {},
   "outputs": [],
   "source": [
    "mydict['a']"
   ]
  },
  {
   "cell_type": "markdown",
   "metadata": {},
   "source": [
    "The \"argument\" (here `2` and `'a'`) is called the _key_, and the righthand side is called the _value_."
   ]
  },
  {
   "cell_type": "markdown",
   "metadata": {},
   "source": [
    "Dictionaries are typically used to collect and retrieve information, and we will sometimes be using them to store information about experiments and exercises."
   ]
  },
  {
   "cell_type": "markdown",
   "metadata": {},
   "source": [
    "### __Task 1:__"
   ]
  },
  {
   "cell_type": "markdown",
   "metadata": {},
   "source": [
    "Make a _dictionary_ named `experiment`, which contains four items, illustrating how one could collect information related to a scientific experiment:\n",
    "   1. Your name, as a text string (key: 'name')\n",
    "   2. A tuple, with the current year, month, and date (key: 'date')\n",
    "   3. A list with, say, times ('hr:min') when some lab measurement was made (key: 'times')\n",
    "   4. A numpy 2x3 array, which we imagine be a table of fixed input values needed (key: 'table')\n",
    "\n",
    "Once you have done that, make a _class_ `experiment_class` with four attributes (name, date, times, table) and a function, `print_vars`, to print the content of the class."
   ]
  },
  {
   "cell_type": "code",
   "execution_count": null,
   "metadata": {},
   "outputs": [],
   "source": [
    "import numpy as np\n",
    "experiment={}\n",
    "experiment['name'] = ...\n",
    "..."
   ]
  },
  {
   "cell_type": "markdown",
   "metadata": {},
   "source": [
    "The dictionary is meant as an example on how one can collect a number of different pieces of information into one single entity -- in Python this is typically either a _dictionary_ or a _class_."
   ]
  },
  {
   "cell_type": "markdown",
   "metadata": {},
   "source": [
    "To print the content of the dictionary and of the class do"
   ]
  },
  {
   "cell_type": "code",
   "execution_count": null,
   "metadata": {},
   "outputs": [],
   "source": [
    "print(experiment)\n",
    "expc = experiment_class()\n",
    "expc.print_vars()"
   ]
  },
  {
   "cell_type": "markdown",
   "metadata": {},
   "source": [
    "# Python Control Constructs"
   ]
  },
  {
   "cell_type": "markdown",
   "metadata": {},
   "source": [
    "A basic set of constructs in a programming language are control statements, that can change or repeat the flow of a program. In this section we will use introduce basic control statements in Python"
   ]
  },
  {
   "cell_type": "markdown",
   "metadata": {},
   "source": [
    "## For loops"
   ]
  },
  {
   "cell_type": "markdown",
   "metadata": {},
   "source": [
    "For loops have this syntax -- note the colon and the (automatic) indentation:"
   ]
  },
  {
   "cell_type": "code",
   "execution_count": null,
   "metadata": {},
   "outputs": [],
   "source": [
    "n=10\n",
    "for i in range(n):\n",
    "    print(i,i**0.2)"
   ]
  },
  {
   "cell_type": "markdown",
   "metadata": {},
   "source": [
    "range() is a built-in _generator_; a _thing_ that can generate a range of numbers (but that _isn't_ an actual range of numbers, just a generator for it).  Hence you can ask for a billion numbers to be generatded in a for loop, without actually using the memory that would be needed to hold a billion numbers."
   ]
  },
  {
   "cell_type": "code",
   "execution_count": null,
   "metadata": {},
   "outputs": [],
   "source": [
    "range(2,n)"
   ]
  },
  {
   "cell_type": "markdown",
   "metadata": {},
   "source": [
    "By itself, `range()` is just an expression (a \"generator\"). But the generator can also produce an actual list, or an array:"
   ]
  },
  {
   "cell_type": "code",
   "execution_count": null,
   "metadata": {},
   "outputs": [],
   "source": [
    "list(range(2,n))"
   ]
  },
  {
   "cell_type": "code",
   "execution_count": null,
   "metadata": {},
   "outputs": [],
   "source": [
    "from numpy import array\n",
    "array(range(3,n,2))"
   ]
  },
  {
   "cell_type": "markdown",
   "metadata": {},
   "source": [
    "The `arange()` generator which is part of `numpy` spits out floating point numbers, for example (note that -- as with `range()` -- the 2nd range limit is not included; this is consistent with the [a,b) math notation, and also gives in this example (2.0 - 1.0) / 0.1 elements"
   ]
  },
  {
   "cell_type": "code",
   "execution_count": null,
   "metadata": {},
   "outputs": [],
   "source": [
    "from numpy import arange\n",
    "frange = array(arange(1.0,2.0,0.1))"
   ]
  },
  {
   "cell_type": "markdown",
   "metadata": {},
   "source": [
    "In fact, any such \"iterator\" -- a generator, a list, a tuple, etc -- can stand after the __in__ in a __for__ loop. This is very useful if we would like to operate on a range of objects and makes the notation compact and clean:"
   ]
  },
  {
   "cell_type": "code",
   "execution_count": null,
   "metadata": {
    "tags": []
   },
   "outputs": [],
   "source": [
    "for f in frange:\n",
    "    print(f)"
   ]
  },
  {
   "cell_type": "markdown",
   "metadata": {},
   "source": [
    "It is also possible to iterate on several lists in a single loop using `zip`:"
   ]
  },
  {
   "cell_type": "code",
   "execution_count": null,
   "metadata": {},
   "outputs": [],
   "source": [
    "for r,f in zip(range(10,20), frange):\n",
    "    print(r,f)"
   ]
  },
  {
   "cell_type": "markdown",
   "metadata": {},
   "source": [
    "In the common case of iterating over the index number and the elements of a list `enumerate` is useful:"
   ]
  },
  {
   "cell_type": "code",
   "execution_count": null,
   "metadata": {},
   "outputs": [],
   "source": [
    "for idx,f in enumerate(frange):\n",
    "    print(idx,f)"
   ]
  },
  {
   "cell_type": "markdown",
   "metadata": {},
   "source": [
    "## While loops"
   ]
  },
  {
   "cell_type": "markdown",
   "metadata": {},
   "source": [
    "A __while__ loops kees running until the condition after the `while` is false:"
   ]
  },
  {
   "cell_type": "code",
   "execution_count": null,
   "metadata": {},
   "outputs": [],
   "source": [
    "n=1\n",
    "while n < 1100:\n",
    "    print(n)\n",
    "    n *= 2"
   ]
  },
  {
   "cell_type": "markdown",
   "metadata": {},
   "source": [
    "## Breaking out of loops"
   ]
  },
  {
   "cell_type": "markdown",
   "metadata": {},
   "source": [
    "Sometimes one wants to break out of a loop before it is finished, based on some test.  This is done with a __break__ instruction.  Here's an example, giving the first N-faculty (N!) larger than a hundred thousand"
   ]
  },
  {
   "cell_type": "code",
   "execution_count": null,
   "metadata": {},
   "outputs": [],
   "source": [
    "a=1\n",
    "a_max=10**5\n",
    "for i in range(2,109):\n",
    "    a=a*i\n",
    "    if a>a_max:\n",
    "        break\n",
    "print(i,a)"
   ]
  },
  {
   "cell_type": "markdown",
   "metadata": {},
   "source": [
    "Surprisingly few loops, right? "
   ]
  },
  {
   "cell_type": "markdown",
   "metadata": {},
   "source": [
    "## Conditional constructs"
   ]
  },
  {
   "cell_type": "markdown",
   "metadata": {},
   "source": [
    "The syntax of __if statements__ in Python is"
   ]
  },
  {
   "cell_type": "code",
   "execution_count": null,
   "metadata": {},
   "outputs": [],
   "source": [
    "condition=[False,False,False,False,True]\n",
    "\n",
    "if condition[0]:\n",
    "    print('code 0')\n",
    "elif condition[1]:\n",
    "    print('code 1')\n",
    "elif condition[2]:\n",
    "    print('code 2')\n",
    "else:\n",
    "    print('code 3')"
   ]
  },
  {
   "cell_type": "markdown",
   "metadata": {},
   "source": [
    "As always in Python, conditional blocks begin after a colon at the end of a line, and are set aside by indentation only -- no  _begin/end_ pairs or curly brackets are used. _It is therefore extremely important to keep track of the indentation of your code, because results depend on it._"
   ]
  },
  {
   "cell_type": "markdown",
   "metadata": {},
   "source": [
    "A condition may also be used in direct assignments:"
   ]
  },
  {
   "cell_type": "code",
   "execution_count": null,
   "metadata": {},
   "outputs": [],
   "source": [
    "a=12 if condition[1] else 11\n",
    "print(a)"
   ]
  },
  {
   "cell_type": "markdown",
   "metadata": {},
   "source": [
    "## Comprehension"
   ]
  },
  {
   "cell_type": "markdown",
   "metadata": {},
   "source": [
    "A _comprehension_ is a compact way to make a new _list_, which is a function of or selection from an existing _list_ (or _iterator_).  It looks like this:"
   ]
  },
  {
   "cell_type": "code",
   "execution_count": null,
   "metadata": {},
   "outputs": [],
   "source": [
    "a = [1,3,4,8,5,3,2,4,6,3]\n",
    "b = [x**2 for x in a]\n",
    "print(b)"
   ]
  },
  {
   "cell_type": "markdown",
   "metadata": {},
   "source": [
    "That example produces a one-to-one mapping of a list to a new one of the same length. A _selection_ is made by adding an `if` expression:"
   ]
  },
  {
   "cell_type": "code",
   "execution_count": null,
   "metadata": {},
   "outputs": [],
   "source": [
    "c = [x for x in a if 2*(x//2)==x]\n",
    "print(c)"
   ]
  },
  {
   "cell_type": "markdown",
   "metadata": {},
   "source": [
    "### __Task 2:__"
   ]
  },
  {
   "cell_type": "markdown",
   "metadata": {},
   "source": [
    "The task is to make a for-loop construct that produce a list of all primes smaller than a thousand, using for example code like this:"
   ]
  },
  {
   "cell_type": "markdown",
   "metadata": {},
   "source": [
    "```\n",
    "list=[]\n",
    "for i in range(2,1000):\n",
    "    ok=True\n",
    "    ...\n",
    "    if ok:\n",
    "        list.append(i)\n",
    "print(list)\n",
    "``` "
   ]
  },
  {
   "cell_type": "markdown",
   "metadata": {},
   "source": [
    "Hints:\n",
    " 1. A number is a prime if it is not divisible by any prime smaller than itself\n",
    " 2. In Python 3, the expression `11/2` gives `5.5`, while `11//2` (integer arithmetics) gives 5"
   ]
  },
  {
   "cell_type": "markdown",
   "metadata": {},
   "source": [
    "# Python Libraries"
   ]
  },
  {
   "cell_type": "markdown",
   "metadata": {},
   "source": [
    "In the course, and in your general (data analytics and visualization) work with Python you will typicall be using the __numpy__ and __matplotlib.pyplot__ Python 'modules'.  A Python _module_ is a \"library\" with useful procedures (in practice either a file `library.py` or a folder `library/`).  To use procedures in a libary, one can refer to them by their full name, after an `import` statement, such as in"
   ]
  },
  {
   "cell_type": "markdown",
   "metadata": {},
   "source": [
    "#### import"
   ]
  },
  {
   "cell_type": "code",
   "execution_count": null,
   "metadata": {},
   "outputs": [],
   "source": [
    "import numpy\n",
    "x = numpy.arange(0.0,1.0,0.05)\n",
    "print(x)\n",
    "import matplotlib.pyplot\n",
    "matplotlib.pyplot.plot(numpy.sin(x*2.0*numpy.pi),'-+')"
   ]
  },
  {
   "cell_type": "markdown",
   "metadata": {},
   "source": [
    "This gets pretty heavy and unreadable, though, so one can use short-cut names for the libaries:"
   ]
  },
  {
   "cell_type": "markdown",
   "metadata": {},
   "source": [
    "#### import as"
   ]
  },
  {
   "cell_type": "code",
   "execution_count": null,
   "metadata": {},
   "outputs": [],
   "source": [
    "import numpy as np\n",
    "x = np.arange(0.0,1.0,0.05)\n",
    "print(x)\n",
    "import matplotlib.pyplot as plt\n",
    "plt.plot(np.sin(x*2.0*np.pi),'-+');"
   ]
  },
  {
   "cell_type": "markdown",
   "metadata": {},
   "source": [
    "### %pylab inline and from ... import"
   ]
  },
  {
   "cell_type": "markdown",
   "metadata": {},
   "source": [
    "It is possible to import all procedure from a library, using this syntax:"
   ]
  },
  {
   "cell_type": "markdown",
   "metadata": {},
   "source": [
    "```\n",
    "from numpy import *\n",
    "from matplotlib.pyplot import *\n",
    "```"
   ]
  },
  {
   "cell_type": "markdown",
   "metadata": {},
   "source": [
    "Since using the `numpy` and `matplotlib.pyplot` procedures in interactive work is extremely common and basic, there is a \"magic command\" (one among several) that accomplishes this, and also chooses (via the argument), the type of graphics interpreter to use. `%pylab inline`"
   ]
  },
  {
   "cell_type": "markdown",
   "metadata": {},
   "source": [
    "### Don't do this in the general case!"
   ]
  },
  {
   "cell_type": "markdown",
   "metadata": {},
   "source": [
    "For a several reasons this is not recommended in the general case (it leads to socalled _namespace pollution_):\n",
    "   1. The number of imported procedures can be huge, and libraries may contain names that overlap with variable names, or with names in other libraries which can cause confusion.\n",
    "   2. Procedures may mask (overload) builtin Python procedures (such as `abs(), sum(), int()`and so on), which can also cause confusion.\n",
    "   3. Many Python editors have automatic syntax control, and will not detect missing og mismatched procedure names in this case.\n",
    "   4. Not much typing is gained by omitting `np.` and `plt.`, and one quickly gets used to typing the abbreviations.\n",
    "   5. It is good practice to keep the `name.` syntax in front of the procedure, because it informs the reader (yourself in a couple of months!) in which library the procedure is defined. "
   ]
  },
  {
   "cell_type": "markdown",
   "metadata": {},
   "source": [
    "So, when using other libraries, and also when using `numpy` and `matplotlib.pyplot` in files with pure Python code (perhaps a personal library), it is better to type names that include the (abbreviated) library name !"
   ]
  },
  {
   "cell_type": "markdown",
   "metadata": {},
   "source": [
    "#### __Task 3:__"
   ]
  },
  {
   "cell_type": "markdown",
   "metadata": {},
   "source": [
    "Let's take a look at the `numpy.roll` function, which we will need in the next Jupyter Notebook"
   ]
  },
  {
   "cell_type": "code",
   "execution_count": null,
   "metadata": {},
   "outputs": [],
   "source": [
    "import numpy as np\n",
    "help(np.roll)"
   ]
  },
  {
   "cell_type": "markdown",
   "metadata": {},
   "source": [
    "Suppose we have a list `f=[0,1,2,1,0,-1,-2,-1]`, which we would refer to as $f_i$ in math notation"
   ]
  },
  {
   "cell_type": "markdown",
   "metadata": {},
   "source": [
    "What would be the expression that produces the list that corresponds to $f_{i+1}$ ?"
   ]
  },
  {
   "cell_type": "markdown",
   "metadata": {},
   "source": [
    "# Embedded animation with matplotlib"
   ]
  },
  {
   "cell_type": "markdown",
   "metadata": {},
   "source": [
    "There exists a large variety of powerful visualization tools in Python. Arguably, the most popular package is `matplotlib`, and in particular the sub package `matplotlib.pyplot`. We will use it in the exercises to explore our data. You will learn by example, and I assume you have a basic idea of how to produce plots. Plots are really good for analysing data.\n",
    "\n",
    "An alternative, less quantitative but more intuitive approach is to display animations. Our eyes and brains can comprehend more data if it is changing compared to e.g. making hundreds of panel plots. Here is a basic example of how to construct an embeded animation in a jupyter notebook. You will encounter more in the exercises the coming weeks.\n",
    "\n",
    "There are (at least) two ways to embed animations. The most popular it seems is to use HTML5 to embed a pre-rendered movie. The movie is encoded with an external tool. This method does not currently work on ERDA because the program to encode movies, `ffmpeg`, is not installed. An alternative method that does work and is actually better for exploration is to use javascript to produce a widget that can be viewed frame by frame or as an animation."
   ]
  },
  {
   "cell_type": "markdown",
   "metadata": {},
   "source": [
    "#### Animation based on a list of precomputed images"
   ]
  },
  {
   "cell_type": "markdown",
   "metadata": {},
   "source": [
    "Often we will make a simulation where there is some time avancement and more complicated logic. In this example we will build the animation by storing a list of scenes and then passing them to the animate library for it to be rendered. Each scene consist of a single plot with an image, but it could also be more complicated.\n",
    "\n",
    "The example is adapted from the matplotlib reference documentation: https://matplotlib.org/stable/gallery/animation/dynamic_image.html"
   ]
  },
  {
   "cell_type": "code",
   "execution_count": null,
   "metadata": {
    "tags": []
   },
   "outputs": [],
   "source": [
    "from matplotlib import animation\n",
    "from IPython.display import HTML"
   ]
  },
  {
   "cell_type": "code",
   "execution_count": null,
   "metadata": {},
   "outputs": [],
   "source": [
    "# define the figure to animate (it will show below as a static frame)\n",
    "fig, ax = plt.subplots()\n",
    "\n",
    "# simple function to make a 2D dataset\n",
    "def f(x, y):\n",
    "    return np.sin(x) + np.cos(y)\n",
    "\n",
    "# setup coordinate arrays. y is reshaped to become a (100,1) array\n",
    "# Python define axes from right to left, so x is implicitly a (1,120) array\n",
    "# When used together the result is promoted to a (100,120) 2D array\n",
    "x = np.linspace(0, 2 * np.pi, 120)\n",
    "y = np.linspace(0, 2 * np.pi, 100).reshape(-1, 1)\n",
    "\n",
    "# ims is a list of lists, each row is a list of artists to draw in the\n",
    "# current frame; here we are just animating one artist, the image, in\n",
    "# each frame\n",
    "ims = []\n",
    "\n",
    "# make a time-loop\n",
    "for i in range(60):\n",
    "    x += np.pi / 15.\n",
    "    y += np.pi / 20.\n",
    "    im = plt.imshow(f(x, y), animated=True)\n",
    "    ims.append([im])\n",
    "\n",
    "# create animation object\n",
    "anim = animation.ArtistAnimation(fig, ims, interval=50, blit=True,\n",
    "                                 repeat_delay=1000)\n",
    "\n",
    "# render animation javascript widget\n",
    "HTML(anim.to_jshtml())"
   ]
  },
  {
   "cell_type": "markdown",
   "metadata": {},
   "source": [
    "### __Absalon turn in:__"
   ]
  },
  {
   "cell_type": "markdown",
   "metadata": {},
   "source": [
    "This exercise is submitted entirely as a text file or as a PDF with the text.\n",
    "  1. From task 1: Paste in the code for making the dictionary and the class together with the output from your dictionary and your class:\n",
    "```\n",
    "print(experiment)\n",
    "expc = experiments_class()\n",
    "expc.print_vars()\n",
    "```\n",
    "  2. From task 2: Paste in the code and the printout of the list\n",
    "  3. From task 3: Type the expression for rolling into the Absalon text field"
   ]
  }
 ],
 "metadata": {
  "kernelspec": {
   "display_name": "Python 3 (ipykernel)",
   "language": "python",
   "name": "python3"
  },
  "language_info": {
   "codemirror_mode": {
    "name": "ipython",
    "version": 3
   },
   "file_extension": ".py",
   "mimetype": "text/x-python",
   "name": "python",
   "nbconvert_exporter": "python",
   "pygments_lexer": "ipython3",
   "version": "3.8.13"
  }
 },
 "nbformat": 4,
 "nbformat_minor": 4
}
