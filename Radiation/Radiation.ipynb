{
 "cells": [
  {
   "cell_type": "markdown",
   "metadata": {},
   "source": [
    "# Radiation and the Planck Function\n",
    "\n",
    "The Planck function gives the radiative flux from a \"black body\" at temperature T.  One can get it per unit wavelength or per unit frequency, but it's often better to think in terms of \"per unit log\", and (or \"because\") then it doesn't matter if one uses one or the other.\n",
    "\n",
    "Then the Planck function is -- in units of energy per unit area and time (see Wikipedia):\n",
    "\n",
    "\\begin{equation}\\tag{1}\n",
    "B(\\lambda,T)\\, d\\lambda = \\frac{2 h c^2}{\\lambda^4} \\frac{1}{e^{\\frac{h c}{\\lambda k_B T}}-1} \\frac{d\\lambda}{\\lambda} \\,,\n",
    "\\end{equation}\n",
    "\n",
    "or, using the non-dimensional argument $x = \\frac{h c}{\\lambda k_B T}$\n",
    "\n",
    "\\begin{equation}\\tag{2}\n",
    "{\n",
    "B(\\lambda,T)\\, d\\lambda \n",
    "= \\frac{2 k_B^4 T^4}{h^3 c^2} \\frac{x^4}{e^{x}-1}\\, \\frac{dx}{x}  \n",
    "%= \\frac{2 k_B^4 T^4}{h^3 c^2} \\frac{x^3}{e^{x}-1}\\, dx  \n",
    "\\,,\n",
    "}\n",
    "\\end{equation}\n",
    "\n",
    "The integral over $x$ gives $\\pi^4/15$, so the constant in front is (including another $\\pi$ from flux integration):\n",
    "\n",
    "\\begin{equation}\\tag{3}\n",
    "{\n",
    "\\sigma_{SB} = \\frac{2 \\pi^5 k_B^4}{15 h^3 c^2} \\,,\n",
    "}\n",
    "\\end{equation}\n",
    "\n",
    "where $\\sigma_{SB}$ is called ___Stefan Boltzmann's constant___.\n"
   ]
  },
  {
   "cell_type": "markdown",
   "metadata": {},
   "source": [
    "The general shape of the Planck Function, in terms of contributions per log interval \n",
    "$d\\ln \\lambda = d\\ln \\nu = d\\ln x = dx/x$, is:"
   ]
  },
  {
   "cell_type": "code",
   "execution_count": null,
   "metadata": {},
   "outputs": [],
   "source": [
    "import matplotlib.pyplot as plt\n",
    "import numpy as np\n",
    "\n",
    "x = np.logspace(-0.5,1.1,100)\n",
    "plt.loglog(x,x**4/(np.exp(x)-1))\n",
    "plt.xlabel(r'$x= hc / \\lambda k_B T$')\n",
    "plt.ylabel(r'$\\lambda F_{\\lambda}$')\n",
    "plt.title('Energy per log interval');"
   ]
  },
  {
   "cell_type": "markdown",
   "metadata": {},
   "source": [
    "The power law at low frequency is the so-called \"Wien\"-part of the spectrum.  At large $x$ there is a sharp drop."
   ]
  },
  {
   "cell_type": "markdown",
   "metadata": {},
   "source": [
    "## An optimized Planck function"
   ]
  },
  {
   "cell_type": "markdown",
   "metadata": {},
   "source": [
    "The Planck function potentially takes a significant amount of time, so the definition of it in the `radiaiton.py` package, which is in the same directory as this notebook, has a `simple` method, and an optimized default method.  Let's measure the speed when computing $200^3$ values, repeatly, for one second:"
   ]
  },
  {
   "cell_type": "markdown",
   "metadata": {},
   "source": [
    "### Testing CGS and code values"
   ]
  },
  {
   "cell_type": "code",
   "execution_count": null,
   "metadata": {},
   "outputs": [],
   "source": [
    "from radiation import Planck\n",
    "from scaling import scaling, CGS\n",
    "\n",
    "T = 1000.\n",
    "lamb = 1e4*CGS.Angstrom\n",
    "S_cgs = Planck(T,lamb,units=CGS,verbose=0)\n",
    "print('At T = {:.3e} and lambda = {:.3e} (CGS), B(T,lambda) = {:.3e} (CGS)'.format(T,lamb,S_cgs))\n",
    "\n",
    "code = scaling(l='pc',t='Myr',m='Solar',verbose=0)\n",
    "lamb /= code.l\n",
    "S_code = Planck(T,lamb,units=code,verbose=0)\n",
    "print('At T = {:.3e} and lambda = {:.3e} (code), B(T,lambda) = {:.3e} (code)'.format(T,lamb,S_code))\n",
    "\n",
    "S_expect = S_cgs / (code.E*code.v)\n",
    "ok = 'not ' if np.abs(S_code/S_expect-1.0) > 1e-4 else ''\n",
    "print('The expected rescaled S value is {:.3e}, {}correct!'.format(S_expect,ok))"
   ]
  },
  {
   "cell_type": "markdown",
   "metadata": {},
   "source": [
    "### Measuring cost per point"
   ]
  },
  {
   "cell_type": "code",
   "execution_count": null,
   "metadata": {},
   "outputs": [],
   "source": [
    "from time import time\n",
    "n = 200\n",
    "T = np.ones((n,n,n))\n",
    "lamb = 1.\n",
    "def timeit(method='simple'):\n",
    "    start = time()\n",
    "    it = 0\n",
    "    used = 0.0\n",
    "    while used < 1:\n",
    "        it += 1\n",
    "        p = Planck(T,lamb,units=CGS,method=method)\n",
    "        used = time()-start\n",
    "    print('Evaluating the {} Planck function takes about '.format(method) +\n",
    "         '{:.0f} nanosec/point ({} iterations)'.format(1e9*used/(it*n**3),it))"
   ]
  },
  {
   "cell_type": "code",
   "execution_count": null,
   "metadata": {},
   "outputs": [],
   "source": [
    "timeit('simple')\n",
    "timeit('optimized')"
   ]
  },
  {
   "cell_type": "markdown",
   "metadata": {},
   "source": [
    "That quite significant difference comes from the simple optimization of basically writing `((T*x)**2)**2` instead of `T**4 x**4`; cf. `radiation.py`!"
   ]
  }
 ],
 "metadata": {
  "kernelspec": {
   "display_name": "Python 3 (ipykernel)",
   "language": "python",
   "name": "python3"
  },
  "language_info": {
   "codemirror_mode": {
    "name": "ipython",
    "version": 3
   },
   "file_extension": ".py",
   "mimetype": "text/x-python",
   "name": "python",
   "nbconvert_exporter": "python",
   "pygments_lexer": "ipython3",
   "version": "3.12.6"
  }
 },
 "nbformat": 4,
 "nbformat_minor": 4
}
