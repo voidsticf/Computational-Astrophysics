{
 "cells": [
  {
   "cell_type": "markdown",
   "metadata": {},
   "source": [
    "# RT Cooling and Heating\n",
    "\n",
    "This notebook illustrates how to add cooling and heating by radiation transport (RT) to a prestellar core described by a Bonnor-Ebert sphere. The general idea is that the warm ISM that surrounds the BE-sphere is optically thin to UV-radiation, and can thus be kept at a constant temperature by being exposed to external radiation with that \"radiation temperature\".  The BE-sphere itself is very optically thick in UV-light, and is hence not affected much by the external UV, except in a thin boundary layer.\n",
    "\n",
    "At the same time, the whole BE-sphere is optically transparent to infrared radiation.  As a simple estimate, we can use the fact that the Sun has a surface temperature of about 5000 K (in round numbers), and a radiation field that peaks at about 0.5 micrometer ($\\mu$m), while the cold ISM, which is about 500 times cooler peaks instead at of the order of 300 $\\mu$m.\n",
    "\n",
    "## Estimates of UV and IR opacitiess\n",
    "\n",
    "We can estimate the opacity at these very much lower temperatures by using the simple law of _dust extinction_, which states that the absorption by dust is roughly proportional to wavenumber (inverse wavelenght); cf. Fig 1 below."
   ]
  },
  {
   "cell_type": "markdown",
   "metadata": {},
   "source": [
    "<img src=\"./Interstellar_extinction.png\" width=\"600\"/>\n",
    "\n",
    "Fig. 1: The visual extinction as a function of wavenumber (Credit: Karl D. Gordon - Own work, CC BY-SA 3.0, https://commons.wikimedia.org/w/index.php?curid=1502191)"
   ]
  },
  {
   "cell_type": "markdown",
   "metadata": {},
   "source": [
    "Fig. 1 shows that the extinction by dust is essentially linearly proportional to wavenumber, for wavelenghts longer than some 2500 Å.  So, we can conclude that the cold part of the ISM is shielded very efficiently from visual and UV light, while it is at the same time much more transparent to infrared light."
   ]
  },
  {
   "cell_type": "code",
   "execution_count": null,
   "metadata": {},
   "outputs": [],
   "source": [
    "import numpy as np\n",
    "import matplotlib.pyplot as plt\n",
    "from scaling import scaling, CGS\n",
    "import matplotlib as mpl\n",
    "mpl.rcParams['figure.max_open_warning'] = 40"
   ]
  },
  {
   "cell_type": "markdown",
   "metadata": {},
   "source": [
    "#### Relation between extinction and absorption in the visual\n",
    "\n",
    "Extinction $A_V$ is measured in \"magnitudes\", with $A_v=1$ corresponging to about $1.8\\,10^{21}$ H atoms per cm$^2$. $A_V$ is related to optical depth through the relation from the magnitude law relating intensity (really flux, but it scales the same way)\n",
    "\n",
    "$$A_V = 2.5 \\log_{10}(e)\\tau_V $$\n",
    "\n",
    "since we are counting hydrogen atoms, a good mean molecular weight is about 1.4. We can therefore find $\\kappa_V$ in the optical as\n",
    "$$ \\kappa_V\\,N_\\textrm{col}\\,\\mu m_p = \\int \\kappa_V \\rho dl = \\tau_V = \\frac{A_V}{2.5 \\log_{10}(e)} = \\frac{1}{2.5 \\log_{10}(e)} \\frac{N_\\textrm{col}}{1.8\\,10^{21} \\textrm{ cm}^{-2}} $$"
   ]
  },
  {
   "cell_type": "code",
   "execution_count": null,
   "metadata": {},
   "outputs": [],
   "source": [
    "# notice how we use the scaling module to get unit mass (m_u) in CGS units\n",
    "mu = 1.4 # molecular mass for atomic hydrogen\n",
    "kappa_V = 1. / (2.5*np.log10(np.exp(1.))*1.8e21*mu*CGS.m_u)\n",
    "print('The absorption in the visual is {:.1e} cm2/g.'.format(kappa_V))"
   ]
  },
  {
   "cell_type": "markdown",
   "metadata": {},
   "source": [
    "\n",
    "#### Absorption at infrared wavelengths\n",
    "At long wavelengths matter is much more transparent. That is why we use sub-mm and radio telescopes such as ALMA and VLA to observe star forming regions and pierce through dusty galaxies. The visual band has a weighted central wavelength of 540 nm. If there were a completely linear relation between extinction at different wavelengths, then the absorption at e.g.~1 mm would be $\\kappa = 220\\textrm{ cm}^2 \\textrm{ g}^{-1}\\,540\\textrm{ nm }/\\,1\\textrm{ mm} = 0.12\\textrm{ cm}^2 \\textrm{ g}^{-1}$. In reality the relation is not completely linear and a typical value for $\\kappa$ at a wavelength of 1 mm is $\\kappa_{mm} = 1\\textrm{ cm}^2 \\textrm{ g}^{-1}$. "
   ]
  },
  {
   "cell_type": "code",
   "execution_count": null,
   "metadata": {},
   "outputs": [],
   "source": [
    "# long wavelength absorption\n",
    "def kappa_long(T):\n",
    "    # define absorption at 1 mm\n",
    "    kappa_mm = 1\n",
    "    # use Wien's displacement law to find wavelength where thermal radiation peaks\n",
    "    b = 2.898 # mm K\n",
    "    peak_mm = b / T\n",
    "    # assume a inverse proportional relation for kappa\n",
    "    kappa = kappa_mm * 1. / peak_mm\n",
    "    return kappa\n",
    "\n",
    "# general absorption coefficient\n",
    "def kappa(T,lamb=None):\n",
    "    b = 0.2898 # cm K    \n",
    "    if lamb != None:\n",
    "        TT = b / lamb # assume input wavelength is in cm\n",
    "    else:\n",
    "        TT = T\n",
    "    if TT > 589: # use high temperature coefficient\n",
    "        lam = b / TT             # corresponding peak wavelength\n",
    "        kap = 220. * 0.54 / lam  # get kappa\n",
    "    elif TT > 70.: # between 70 K and 589 K the absorption is relatively flat\n",
    "        lam = b / 589.\n",
    "        kap = 220. * 0.54 / lam\n",
    "    else:          # below 70 K use long wavelength approximation\n",
    "        kap = kappa_long(TT)\n",
    "    return kap"
   ]
  },
  {
   "cell_type": "markdown",
   "metadata": {},
   "source": [
    "### Expected equilibria"
   ]
  },
  {
   "cell_type": "markdown",
   "metadata": {},
   "source": [
    "If there is an incoming radiation field with a radiation temperature of about 5000 K, the optically thin parts will settle to that temperature, while the optically thick parts will radiate from a surface located at a column density of about $0.005\\textrm{ g cm}^{-2}$ in the visual since $\\tau = \\kappa \\,N_\\textrm{col}$.\n",
    "\n",
    "The total surface density at the center of the BE-sphere may be estimated by taking a lenght $L=10^4$ AU, and a mass density of about $\\rho = \\frac{1 M_O}{L^3}$ giving $\\Sigma_\\textrm{col} = \\rho\\,L$. If we assume that the BE-sphere has a temperature of $T=10$ K then we can estimate the optical depth at the peak radiation intensity"
   ]
  },
  {
   "cell_type": "code",
   "execution_count": null,
   "metadata": {},
   "outputs": [],
   "source": [
    "sigma_col = (CGS.m_Sun/(1e4*CGS.AU)**3) * (1e4*CGS.AU)\n",
    "print(sigma_col,\"g / cm2\")"
   ]
  },
  {
   "cell_type": "markdown",
   "metadata": {},
   "source": [
    "with a corresponding optical depth of"
   ]
  },
  {
   "cell_type": "code",
   "execution_count": null,
   "metadata": {},
   "outputs": [],
   "source": [
    "tau = kappa(T=10.)*sigma_col\n",
    "print('IR optical depth estimate tau={:.2f}'.format(tau))"
   ]
  },
  {
   "cell_type": "markdown",
   "metadata": {},
   "source": [
    "It is thus indeed reasonable to assume that the interior of the BE-sphere is optically thin to IR cooling, which implies an estimated cooling per unit volume and time (factor 4 comes from radiating in all directions instead of through a surface elements, as is done for an optically thick black-body)\n",
    "\n",
    "\\begin{equation}\n",
    "q_{IR} = - 4\\kappa\\rho\\sigma_{Stefan} T^4 \\,,\n",
    "\\end{equation}\n",
    "\n",
    "and to compensate for that, in such a way that we get the observed temperature of about 10 K, we should add a cosmic ray heating per unit volume that matches it when $T_{BE}=10$ K:\n",
    "\n",
    "\\begin{equation}\n",
    "q_{CR} = + 4\\kappa\\rho\\sigma_{Stefan} (10 K)^4 \\,,\n",
    "\\end{equation}\n"
   ]
  },
  {
   "cell_type": "markdown",
   "metadata": {},
   "source": [
    "## Setting up an Bonnor-Ebert sphere\n",
    "\n",
    "We use the exact BE_sphere procedure from assignment `5a`; cf. the `BE_sphere.ipynb` notebook.  Note that `G` is not a free parameter, but has the value of the actual constant of nature -- scaled to code units !\n",
    "\n",
    "First we use the HD class (from week 2) to setup a box. Then we use the BE_sphere procedure to fill the grid with reasonable variables\n",
    "\n",
    "We define a set of units for our experiment by using the scaling package"
   ]
  },
  {
   "cell_type": "code",
   "execution_count": null,
   "metadata": {},
   "outputs": [],
   "source": [
    "from BE_sphere import BE_sphere\n",
    "from HD        import HD\n",
    "\n",
    "class BE_experiment(HD):\n",
    "    def __init__(u, units, verbose=0, **kwargs):\n",
    "        HD.__init__(u,**kwargs)\n",
    "        u.units = units\n",
    "        BE_sphere(u, verbose=verbose)\n",
    "        u.T = u.temperature()\n",
    "\n",
    "units = scaling (l=2e4*CGS.AU, v=CGS.kms, m=CGS.m_Sun, verbose=2);\n",
    "u = BE_experiment (units, n=100, gamma=1.01);"
   ]
  },
  {
   "cell_type": "markdown",
   "metadata": {},
   "source": [
    "We can try to plot a few variables to visualize the initial condition\n",
    "\n",
    "See the Scaling.ipynb notebook for a discussion of the scaling to and from code units !"
   ]
  },
  {
   "cell_type": "code",
   "execution_count": null,
   "metadata": {},
   "outputs": [],
   "source": [
    "P = u.E*(u.gamma-1.0)*u.units.P\n",
    "T = u.T*u.units.T\n",
    "N = u.D*u.units.D/(u.units.mu*CGS.m_u)\n",
    "P = P/CGS.k_B\n",
    "\n",
    "plt.figure(figsize=(16,4))\n",
    "m = u.n[0]//2\n",
    "x = u.x*u.units.l/CGS.AU\n",
    "plt.subplot(1,3,1); plt.semilogy(x,N[:,m,m],'-+'); plt.xlabel('AU'); plt.title('number density');        \n",
    "plt.subplot(1,3,2); plt.semilogy(x,P[:,m,m],'-+'); plt.xlabel('AU'); plt.title('pressure [kT]');\n",
    "plt.subplot(1,3,3); plt.semilogy(x,T[:,m,m],'-+'); plt.xlabel('AU'); plt.title('temperature [T]');"
   ]
  },
  {
   "cell_type": "markdown",
   "metadata": {},
   "source": [
    "###  Generic RT solver class\n",
    "\n",
    "This class contains routines for computing radiative transfer. It defines a basic set of variables describing the setup, a number of service functions, and the integral solver we used Tuesday."
   ]
  },
  {
   "cell_type": "code",
   "execution_count": null,
   "metadata": {},
   "outputs": [],
   "source": [
    "from radiation import Planck\n",
    "\n",
    "class void(object):\n",
    "    pass\n",
    "\n",
    "class RT(object):\n",
    "    \"\"\" basic RT properties \"\"\"\n",
    "    def __init__(u, n=32, direction=[0,], waves=[1], \n",
    "                 units=CGS, ds=1.):\n",
    "        u.n       = (n,n,n)\n",
    "        u.ds      = ds\n",
    "        u.direction  = np.array(direction)\n",
    "        u.weight  = 4.*np.pi / len(u.direction) # area per ray \n",
    "        u.units   = units\n",
    "        u.waves   = waves\n",
    "        u.qtot    = np.zeros(u.n)\n",
    "    \n",
    "    def setup (u, D, T, iw=0):\n",
    "        \"\"\" Compute values needed by the solver \"\"\"\n",
    "        u.opacity (D, T, iw)\n",
    "        u.source_function (T, iw)\n",
    "        u.optical_depths ()\n",
    "    \n",
    "    def transpose (u, axis, forward=True):\n",
    "        \"\"\" Transpose values to be used in solver, so axis \n",
    "            becomes the new x-axis (when forward is true), \n",
    "            or is put back in place (when forward is false)\n",
    "        \"\"\"\n",
    "        if axis==0:\n",
    "            return\n",
    "        # Move axis to first index\n",
    "        if forward:\n",
    "            if axis==1:\n",
    "                t = [1,2,0]\n",
    "            elif axis==2:\n",
    "                t = [2,0,1]\n",
    "            # Transpose rho*kappa, source function, and accumulated effective heating\n",
    "            u.rkap   = np.transpose(u.rkap,t)\n",
    "            u.source = np.transpose(u.source,t)\n",
    "            u.qtot   = np.transpose(u.qtot,t)\n",
    "            # recompute optical depths, since they are a running sum of rkap\n",
    "            u.optical_depths()\n",
    "            \n",
    "        # Move first index to axis\n",
    "        else:\n",
    "            if axis==1:\n",
    "                t = [2,0,1]\n",
    "            elif axis==2:\n",
    "                t = [1,2,0]\n",
    "            # Transpose back rho*kappa, source function, and accumulated effective heating\n",
    "            u.rkap   = np.transpose(u.rkap,t)\n",
    "            u.source = np.transpose(u.source,t)\n",
    "            u.qtot   = np.transpose(u.qtot,t)\n",
    "            # recompute optical depths, since they are a running sum of rkap\n",
    "            u.optical_depths()\n",
    "\n",
    "    def opacity(u, D, T, iw=0):\n",
    "        \"\"\" Absorption for one set of wavelengths \"\"\"\n",
    "        wave = u.waves[iw]\n",
    "        u.rkap = D*kappa(T*u.units.T, lamb=wave) * (u.units.m / u.units.l**2)\n",
    "\n",
    "    def source_function(u, T, iw=0):\n",
    "        \"\"\" Weighted source funtion for temperatures \"\"\"\n",
    "        u.source = Planck(T, u.waves[iw], units=u.units)*u.weight\n",
    "\n",
    "    def optical_depths (u, ds=u.ds):\n",
    "        \"\"\" optical depth increment across one interval of size u.ds \"\"\"\n",
    "        u.dtau = np.zeros(u.n)\n",
    "        for i in range(u.dtau.shape[0]-1):\n",
    "            u.dtau[i] = u.optical_depth (u.rkap[i], u.rkap[i+1], ds)\n",
    "\n",
    "    def optical_depth (u, rk0, rk1, ds=1):\n",
    "        \"\"\" optical depth increment across one interval of size u.ds \"\"\"\n",
    "        return 0.5*ds*(rk0 + rk1)\n",
    "    \n",
    "    def radiation_solver (u, Left=None, Right=None):\n",
    "        \"\"\" integral solver from the Tuesday exercise \"\"\"\n",
    "        dtau = u.dtau\n",
    "        S = u.source\n",
    "        I = np.zeros_like(S) # intensity array\n",
    "        Q = - np.copy(S)     # heating starting at \"-S\"\n",
    "\n",
    "        # Forward solution, from the left to the right boundary\n",
    "        if type(Left) != type(None):            \n",
    "            I[0] = Left\n",
    "        else:\n",
    "            I[0] = 0.            \n",
    "\n",
    "        for i in range(1,I.shape[0]):\n",
    "            e1 = np.exp(-dtau[i-1])\n",
    "            e2 = 1.0 - e1\n",
    "            e3 = e1 - e2/dtau[i-1]\n",
    "            e4 = - e3\n",
    "            e5 = e2 + e3\n",
    "            I[i] = e1*I[i-1] + e4*S[i-1] + e5*S[i]\n",
    "        \n",
    "        Q += 0.5*I # add heat from forward ray\n",
    "        \n",
    "        # Reverse solution, from the right to the left boundary\n",
    "        if type(Right) != type(None):\n",
    "            I[-1] = Right\n",
    "        else:\n",
    "            I[-1] = 0.\n",
    "\n",
    "        for i in range(I.shape[0]-2,-1,-1):\n",
    "            e1 = np.exp(-dtau[i])\n",
    "            e2 = 1.0 - e1\n",
    "            e3 = e1 - e2/dtau[i]\n",
    "            e4 = - e3\n",
    "            e5 = e2 + e3\n",
    "            I[i] = e1*I[i+1] + e4*S[i+1] + e5*S[i]\n",
    "        \n",
    "        Q += 0.5*I # add heat from reverse ray\n",
    "        \n",
    "        u.qtot += u.rkap*Q\n",
    "    \n",
    "    def rt_step(u,u_HD):\n",
    "    \n",
    "        u_HD.T = (u_HD.pgas() / u_HD.D)\n",
    "        \n",
    "        u.qtot[:] = 0.\n",
    "        \n",
    "        for iw in range(len(u.waves)):\n",
    "            u.setup(u_HD.D, u_HD.T, iw=iw)\n",
    "            u.radiation_solver()"
   ]
  },
  {
   "cell_type": "markdown",
   "metadata": {},
   "source": [
    "## Set up Bonnor-Ebert experiment with radiative transfer\n",
    "The combination of the Bonnor Ebert sphere and the RT class allows us to set up an experiment by\n",
    "  1. choose the units of the experiment\n",
    "  2. define our Bonnor-Ebert initial condition\n",
    "  3. set up the radiative transfer object with a number of wavelengths"
   ]
  },
  {
   "cell_type": "code",
   "execution_count": null,
   "metadata": {},
   "outputs": [],
   "source": [
    "units = scaling (l=2e4*CGS.AU, v=CGS.kms, m=CGS.m_Sun, verbose=2);\n",
    "u = BE_experiment (units, n=100, gamma=1.01);\n",
    "\n",
    "UV = 0.3e-4   # First wavelength bin is at 0.3 micron\n",
    "IR = 500.0e-4 # Second wavelength bin is at 500. micron\n",
    "\n",
    "rt = RT(n=u.n[0],waves=[UV,IR],units=u.units,ds=u.ds,direction=[0,1,2])"
   ]
  },
  {
   "cell_type": "markdown",
   "metadata": {},
   "source": [
    "Having established temperatures and densities we can compute and plot the values used by the RT solver.  \n",
    "\n",
    "The RT solver primarily needs `rkap` $= \\rho\\kappa(\\rho,T)$ and `source` = $S(T)$, but has a `setup` method that takes `(D, T)` and computes `rkap` and `source` from these."
   ]
  },
  {
   "cell_type": "code",
   "execution_count": null,
   "metadata": {},
   "outputs": [],
   "source": [
    "rt.setup(u.D, u.T, iw=0); s0 = rt.source; dtau0 = rt.dtau; rkap0 = rt.rkap\n",
    "rt.setup(u.D, u.T, iw=1); s1 = rt.source; dtau1 = rt.dtau; rkap1 = rt.rkap\n",
    "m=u.n[0]//2 # midplane\n",
    "\n",
    "plt.figure(figsize=(16,10))\n",
    "\n",
    "plt.subplot(2,2,1); \n",
    "plt.semilogy(rkap1[:,m,m]); \n",
    "plt.semilogy(rkap0[:,m,m]); \n",
    "plt.title('rho kappa');\n",
    "\n",
    "plt.subplot(2,2,2); \n",
    "plt.semilogy(s1[:,m,m],'-+',label='IR'); \n",
    "plt.semilogy(s0[:,m,m],'-+',label='UV'); \n",
    "plt.title('source'); plt.legend();\n",
    "\n",
    "plt.subplot(2,2,3); \n",
    "plt.semilogy(dtau1[:-1,m,m],'-+'); \n",
    "plt.semilogy(dtau0[:-1,m,m],'-+'); \n",
    "plt.title('Delta tau');\n",
    "\n",
    "\n",
    "plt.subplot(2,2,4); \n",
    "plt.semilogy((s1*dtau1)[:-1,m,m],'-+'); \n",
    "plt.semilogy((s0*dtau0)[:-1,m,m],'-+'); \n",
    "plt.title('source * Delta tau');\n",
    "\n",
    "print('total UV-tau:',np.sum(dtau0[:,m,m]))\n",
    "print('total IR-tau:',np.sum(dtau1[:,m,m]))"
   ]
  },
  {
   "cell_type": "markdown",
   "metadata": {},
   "source": [
    "### Images og cooling and heating\n",
    "We can now compute the cooling and heating in different wave-bands and make slices"
   ]
  },
  {
   "cell_type": "code",
   "execution_count": null,
   "metadata": {},
   "outputs": [],
   "source": [
    "import images as im\n",
    "\n",
    "m = u.n[2]//2 # use index through center for slices\n",
    "\n",
    "# UV wavelength:\n",
    "rt.setup(u.D, u.T, iw=0)\n",
    "rt.radiation_solver()\n",
    "heating = +np.maximum(rt.qtot[:,:,m],0.0)\n",
    "cooling = -np.minimum(rt.qtot[:,:,m],0.0)\n",
    "im.imshows([heating**0.1,cooling**0.1],title=np.array(['UV heating','UV cooling']));\n",
    "\n",
    "# IR wavelength:\n",
    "rt.setup(u.D, u.T, iw=1)\n",
    "rt.qtot[:] = 0.\n",
    "rt.radiation_solver()\n",
    "heating = +np.maximum(rt.qtot[:,:,m],0.0)\n",
    "cooling = -np.minimum(rt.qtot[:,:,m],0.0)\n",
    "\n",
    "# We put heating and cooling to the power 0.1 to extend the dynamical range (could also use log)\n",
    "im.imshows([heating**0.1,cooling**0.1],title=np.array(['IR heating','IR cooling']));"
   ]
  },
  {
   "cell_type": "markdown",
   "metadata": {},
   "source": [
    "### __Task 1: Describe Heating and Cooling for the BE sphere__ (10p)\n",
    "\n",
    "You now have a setup where you can have different wavelengths, and compute the heating and cooling rates for the setup. The solver works by looping over a direction and the a wavelength (either UV or IR).  For each direction it (should) compute the radiation transport in first the forward and then the reverse direction, and add the contributions from the two wavelenghts into `u.qtot`. Describe what is happening in terms of the heating and cooling."
   ]
  },
  {
   "cell_type": "markdown",
   "metadata": {},
   "source": [
    "### __Task 2: Repair the symmetry of the solutions__ (40p)\n",
    "\n",
    "Amend the setup so that it respect the symmetry of the solution for a real BE-sphere. In addition, add proper boundary conditions for the two wavelength bands."
   ]
  },
  {
   "cell_type": "markdown",
   "metadata": {},
   "source": [
    "## HD with self gravity and radiation\n",
    "Notice that I had to add a fudge factor, since there is a non-trivial conversion between radition from rays, and the angle integrated net heating rate.\n",
    "To reduce clutter I have moved all the hydro and selfgravity files out of the notebook and in to seperate routines. They are essential the same as in last week. The main addition here is that first the HD + self-gravity solver is called and then the RT related source terms are added."
   ]
  },
  {
   "cell_type": "code",
   "execution_count": null,
   "metadata": {},
   "outputs": [],
   "source": [
    "## from HD          import HD\n",
    "from solvers     import MUSCL\n",
    "from Riemann     import HLL\n",
    "from selfgravity import FFT\n",
    "from scaling     import scaling, CGS\n",
    "    \n",
    "# Add a fudge factor, since we are not taking in to account\n",
    "# directional coverage and wavelength integration for heating and cooling\n",
    "fudge_factor = 1e-12\n",
    "\n",
    "# Function that combines af HD solver with radiative transfer\n",
    "def Step(u, rt, tend=None):\n",
    "    \n",
    "    # Add half a time step worth of heating / cooling from last timestep\n",
    "    u.E += 0.5*u.dt*rt.qtot * fudge_factor\n",
    "    dtold = u.dt\n",
    "\n",
    "    # Take a HD step\n",
    "    u.solver.Step(u,tend=tend)\n",
    "    \n",
    "    # Add another half a time step worth of heating / cooling from last timestep\n",
    "    u.E += (u.dt - 0.5*dtold)*rt.qtot * fudge_factor\n",
    "    qold = np.copy(rt.qtot)\n",
    "\n",
    "    # Refresh the net heating / cooling rate\n",
    "    rt.rt_step(u)\n",
    "    \n",
    "    # Correct half a time step worth of heating / cooling with new solution\n",
    "    u.E += 0.5*u.dt*(rt.qtot - qold)  * fudge_factor"
   ]
  },
  {
   "cell_type": "code",
   "execution_count": null,
   "metadata": {},
   "outputs": [],
   "source": [
    "units = scaling (l=2e4*CGS.AU, v=CGS.kms, m=CGS.m_Sun, verbose=2);\n",
    "u = BE_experiment (units, n=100, gamma=1.01);\n",
    "\n",
    "UV = 0.3e-4   # First wavelength bin is at 0.3 micron\n",
    "IR = 500.0e-4 # Second wavelength bin is at 500. micron\n",
    "\n",
    "rt = RT(n=u.n[0],waves=[UV,IR],units=u.units,ds=u.ds)\n",
    "u.solver = MUSCL(u)\n",
    "\n",
    "# Initial net heating / cooling rate\n",
    "rt.rt_step(u)\n",
    "\n",
    "Step(u, rt)"
   ]
  },
  {
   "cell_type": "markdown",
   "metadata": {},
   "source": [
    "Example of how to take 20 timesteps and plot the evolution (if executed several times, it will continue the evolution)"
   ]
  },
  {
   "cell_type": "code",
   "execution_count": null,
   "metadata": {},
   "outputs": [],
   "source": [
    "import images as im\n",
    "\n",
    "for i in range(20):\n",
    "    Step(u, rt)\n",
    "    print(\"It, time [yr, code_units]: \", u.it, u.t * u.units.t / CGS.yr, u.t)\n",
    "    u.T = (u.pgas() / u.D) * u.units.T\n",
    "    m = u.n[2]//2\n",
    "    dens = u.D[:,:,m]*u.units.D / (CGS.mu*CGS.m_u)\n",
    "    vx = (u.velocity())[0,:,:,m]*u.units.v/CGS.kms\n",
    "    temp = u.T[:,:,m]\n",
    "    im.imshows([dens,temp,vx,fudge_factor*rt.qtot[:,:,m]],title=np.array(['Density','Temperature','vx','Q']));"
   ]
  },
  {
   "cell_type": "markdown",
   "metadata": {},
   "source": [
    "### Radial plots\n",
    "Define ```rr``` as the radial distance from the center (see ```HD.py```) and make plots of radial velocity, pressure, temperature, and density"
   ]
  },
  {
   "cell_type": "code",
   "execution_count": null,
   "metadata": {},
   "outputs": [],
   "source": [
    "rr = np.sqrt(np.sum(u.coords**2,axis=0))\n",
    "vr = np.sum(u.velocity()*u.coords,axis=0) / rr\n",
    "\n",
    "plt.figure(figsize=(16,10))\n",
    "plt.subplot(3,2,1); plt.scatter(rr, vr, linewidths=0.02)\n",
    "plt.xlabel('AU'); plt.title('radial velocity');        \n",
    "\n",
    "plt.subplot(3,2,2); plt.scatter(rr, u.pgas(), linewidths=0.02)\n",
    "plt.xlabel('AU'); plt.title('pressure [kT]');\n",
    "\n",
    "plt.subplot(3,2,3); plt.scatter(rr, u.T,linewidths=0.02)\n",
    "plt.xlabel('AU'); plt.title('temperature [T]');\n",
    "\n",
    "plt.subplot(3,2,4); plt.scatter(rr, u.D,linewidths=0.02)\n",
    "plt.xlabel('AU'); plt.title('density');\n",
    "\n",
    "plt.subplot(3,2,5); plt.scatter(rr, fudge_factor*rt.qtot,linewidths=0.02)\n",
    "plt.xlabel('AU'); plt.title('Total net heating');"
   ]
  },
  {
   "cell_type": "markdown",
   "metadata": {},
   "source": [
    "### __Task 3: Setup a full experiment and discuss the results; include cosmic rays__ (40p)\n",
    "\n",
    "Once the radiative transfer is working, you can take the next step and couple it to Hydro dynamics. You should be able to see things changing in three different ways as the experiment evolves.  Run it for at least a few minutes, but for as long as you like -- or as long as it works:\n",
    "\n",
    "   1. The very sharp discontinuity is changing.\n",
    "   2. The region outside the discontinuity should basically keep its high temperature.  Is this the case, and if not, how little or how much is the temperature changing there?\n",
    "   3. The temperature at the center should stay at 10 K, but it can only do that if the cooling in the IR is compensated for by a corresponding heating, which in reality comes mainly from cosmic rays. Add an artificial term, as in the notes above, so the temperature is stabilized."
   ]
  },
  {
   "cell_type": "markdown",
   "metadata": {},
   "source": [
    "#### __Absalon turn-in:__\n",
    "\n",
    "Please answer the tasks here, at the end, and submit by uploading the notebook and corresponding PDF. For task 3"
   ]
  }
 ],
 "metadata": {
  "kernelspec": {
   "display_name": "Python 3",
   "language": "python",
   "name": "python3"
  },
  "language_info": {
   "codemirror_mode": {
    "name": "ipython",
    "version": 3
   },
   "file_extension": ".py",
   "mimetype": "text/x-python",
   "name": "python",
   "nbconvert_exporter": "python",
   "pygments_lexer": "ipython3",
   "version": "3.8.8"
  }
 },
 "nbformat": 4,
 "nbformat_minor": 4
}
