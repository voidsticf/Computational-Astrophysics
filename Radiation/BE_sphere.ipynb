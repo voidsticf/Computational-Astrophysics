{
 "cells": [
  {
   "cell_type": "markdown",
   "metadata": {},
   "source": [
    "# Bonner-Ebert sphere numerical solution\n",
    "\n",
    "This demonstrates the `BE_sphere.py` package, which can be used in a similar way in the assignment of this week"
   ]
  },
  {
   "cell_type": "code",
   "execution_count": null,
   "metadata": {},
   "outputs": [],
   "source": [
    "import numpy as np\n",
    "import matplotlib.pyplot as plt\n",
    "\n",
    "from BE_sphere import BE_sphere\n",
    "from scaling   import scaling, CGS\n",
    "from HD        import HD"
   ]
  },
  {
   "cell_type": "markdown",
   "metadata": {},
   "source": [
    "### Initialize and plot in physical units"
   ]
  },
  {
   "cell_type": "code",
   "execution_count": null,
   "metadata": {},
   "outputs": [],
   "source": [
    "class BE_experiment(HD):\n",
    "    def __init__(u, units, verbose=0,gamma=1.0001, **kwargs):\n",
    "        HD.__init__(u,gamma=gamma,**kwargs)\n",
    "        u.units = units\n",
    "        BE_sphere(u, verbose=verbose,gamma=gamma)\n",
    "\n",
    "# This sets numerical units such that 1 length = 2e4 AU, 1 velocity = 1 km/s, 1 mass = 1 solar mass\n",
    "units = scaling (l=2e4*CGS.AU, v=CGS.kms, m=CGS.m_Sun, verbose=2)\n",
    "u = BE_experiment (units, n=100, gamma=1.01, verbose=0)\n",
    "\n",
    "P = u.E*(u.gamma-1.0)*u.units.P\n",
    "T = u.T*u.units.T\n",
    "N = u.D*u.units.D/(u.units.mu*CGS.m_u)\n",
    "P = P/CGS.k_B\n",
    "\n",
    "plt.figure(figsize=(16,4))\n",
    "m = u.n[0]//2\n",
    "x = u.x*u.units.l/CGS.AU\n",
    "plt.subplot(1,3,1); plt.semilogy(x,N[:,m,m],'-+'); plt.xlabel('AU'); plt.title('number density');        \n",
    "plt.subplot(1,3,2); plt.semilogy(x,P[:,m,m],'-+'); plt.xlabel('AU'); plt.title('pressure [kT]');\n",
    "plt.subplot(1,3,3); plt.semilogy(x,T[:,m,m],'-+'); plt.xlabel('AU'); plt.title('temperature [T]');"
   ]
  },
  {
   "cell_type": "markdown",
   "metadata": {},
   "source": [
    "### Print BE parameters and scaling constants"
   ]
  },
  {
   "cell_type": "code",
   "execution_count": null,
   "metadata": {},
   "outputs": [],
   "source": [
    "T_BE= 10./u.units.T\n",
    "c_BE = (T_BE)**0.5\n",
    "c_BE_CGS = c_BE*u.units.v\n",
    "x_BE = 6.5\n",
    "M_BE = 1.0\n",
    "D_0=(1.18*c_BE**3)**2/(M_BE**2*u.units.G**3)\n",
    "D_0_CGS=(1.18*c_BE_CGS**3)**2/((M_BE*CGS.m_Sun)**2*CGS.G**3)\n",
    "y_BE=14.1\n",
    "D_c=D_0*y_BE\n",
    "D_c_CGS=D_0_CGS*y_BE\n",
    "R_BE=x_BE/(4.*np.pi)**0.5*c_BE/(u.units.G*D_c)**0.5\n",
    "R_BE_CGS=x_BE/(4.*np.pi)**0.5*c_BE*u.units.v/(CGS.G*D_c*u.units.D)**0.5\n",
    "print('Unit of density          : {:.2e}'.format(u.units.D))\n",
    "print('Unit of H-number density : {:.2e}'.format(u.units.D/(u.units.mu*CGS.m_u)))\n",
    "print('Unit of temperature      : {:.2e}'.format(u.units.T))\n",
    "print('Cold ISM temperature     : {:.2e}'.format(T_BE*u.units.T))\n",
    "print('Cold ISM sound speed     : {:.2e}'.format(c_BE*u.units.v))\n",
    "print('BE radius                : {:.2e}'.format(R_BE))\n",
    "print('BE radius (AU)           : {:.2e}'.format(R_BE_CGS/CGS.AU))\n",
    "print('BE central density       : {:.2e}'.format(D_c))"
   ]
  }
 ],
 "metadata": {
  "kernelspec": {
   "display_name": "Python 3",
   "language": "python",
   "name": "python3"
  },
  "language_info": {
   "codemirror_mode": {
    "name": "ipython",
    "version": 3
   },
   "file_extension": ".py",
   "mimetype": "text/x-python",
   "name": "python",
   "nbconvert_exporter": "python",
   "pygments_lexer": "ipython3",
   "version": "3.8.8"
  }
 },
 "nbformat": 4,
 "nbformat_minor": 4
}
