{
 "cells": [
  {
   "cell_type": "markdown",
   "metadata": {},
   "source": [
    "# 6a. Radiation Transport (RT) Solvers\n",
    "\n",
    "## 6.0 Fundamental concepts and equations\n",
    "\n",
    "The fundamental equation we will be using and solving is\n",
    "\n",
    "\\begin{equation}\\tag{1}\n",
    "\\frac{d I_{\\Omega,\\nu}(\\tau)}{d \\tau_{\\nu}} = I_{\\Omega,\\nu}(\\tau_{\\Omega,\\nu}) - S_{\\Omega,\\nu}(\\tau_{\\Omega,\\nu}) \\,,\n",
    "\\end{equation}\n",
    "\n",
    "where $I_{\\Omega,\\nu}(\\tau)$ is the ___specific radition intensity___ (energy per unit area, time, and frequency interval; e.g. Watt per square meter and Hertz) at frequency $\\nu$ in the direction $\\Omega$, $S_{\\Omega,\\nu}(\\tau)$ is the corresponding ___source funtion___ (same units), and $d\\tau$ is the ___optical deptht increment___\n",
    "\n",
    "\\begin{equation}\\tag{2}\n",
    "d\\tau_{\\nu} = \\rho\\kappa_{\\nu} ds \\,,\n",
    "\\end{equation}\n",
    "\n",
    "where $ds$ is an length interval along a \"ray\" of light in the direction $-\\Omega$, $\\rho$ is the mass density, and $\\kappa_{\\nu}$ is the ___opacity___ (in area-per-unit-mass) at frequency $\\nu$. The sign change for the right hand side of equation (1) comes from counting $\\tau$ in the opposite direction from $ds$. This is common f.x. in atmospheres where we put $\\tau=0$ at infinity (if we did the same with an optical thick atmosphere we would get in trouble numerically and conceptually).\n",
    "\n",
    "The Python package `radiation.py`, discussed in `Radiation.ipynb`, can supply source function values. Opacity values are normally given by table lookup (such as the *OPAL project* for stellar interiors), but in this weeks exercise, we will only use simple approximations or constant values."
   ]
  },
  {
   "cell_type": "markdown",
   "metadata": {},
   "source": [
    "Note that, by convention, the optical depth is counted in the direction opposite to the direction of propagation, and therefore the absorption of light is represented by a _positive_ term, and the emission of light by a _negative_ term.\n",
    "\n",
    "Instead of the frequency $\\nu$ one can instead use the ___wavelength___\n",
    "\n",
    "\\begin{equation}\\tag{3}\n",
    "\\lambda = \\frac{c}{\\nu}\\,.\n",
    "\\end{equation}\n",
    "\n",
    "Since, in this context, $\\Omega$ and $\\nu$ are just \"indices\", which enumerate various cases, we may as well drop them, and write  \n",
    "\n",
    "\\begin{equation}\\tag{4}\n",
    "\\frac{d I}{d \\tau} = I - S \\,,\n",
    "\\end{equation}"
   ]
  },
  {
   "cell_type": "markdown",
   "metadata": {},
   "source": [
    "## 6.1 The Feautrier formalism\n",
    "\n",
    "The ___Feautrier method___ is both a technique for solving Eq. (4), which also gives immediate and useful insight into some fundamental properties of the solutions, and therefore we start with that.   The idea is to combine the equations for light going in opposite directions, while counting optical depth always in the same direction.  Writing $I^-$ for the \"outgoing\" direction (opposite to the direction in which $\\tau$ increases) and $I^+$ for the intensity in the \"incoming\" direction, we have\n",
    "\n",
    "\\begin{equation}\\tag{5}\n",
    "\\frac{d I^-}{d \\tau} = I^- - S \\,,\n",
    "\\end{equation}\n",
    "\n",
    "\\begin{equation}\\tag{6}\n",
    "\\frac{d I^+}{d \\tau} = -I^+ + S \\,,\n",
    "\\end{equation}\n",
    "\n",
    "Taking the average sum and difference, and defining\n",
    "\n",
    "\\begin{equation}\\tag{7}\n",
    "P = \\frac{1}{2} (I^++ I^-) \\,,\n",
    "\\end{equation}\n",
    "\n",
    "\\begin{equation}\\tag{8}\n",
    "R = \\frac{1}{2} (I^- - I^+) \\,,\n",
    "\\end{equation}"
   ]
  },
  {
   "cell_type": "markdown",
   "metadata": {},
   "source": [
    "we get these equations for $P$ and $R$:\n",
    "\n",
    "\\begin{equation}\\tag{9}\n",
    "\\frac{d P}{d\\tau} = R \\,,\n",
    "\\end{equation}\n",
    "\n",
    "\n",
    "\\begin{equation}\\tag{10}\n",
    "\\frac{d R}{d\\tau} = P-S \\,,\n",
    "\\end{equation}\n",
    "\n",
    "which may be combined into a 2nd order (\"Feautrier\") differential equation for $P$:\n",
    "\n",
    "\\begin{equation}\\tag{11}\n",
    "\\frac{d^2 P}{d\\tau^2} = P-S \\,.\n",
    "\\end{equation}\n",
    "\n",
    "Since we are often more interested in the _net_ difference between the intensity and the source function, it may also be useful to make the definition"
   ]
  },
  {
   "cell_type": "markdown",
   "metadata": {},
   "source": [
    "\\begin{equation}\\tag{12}\n",
    "Q = P-S \\,,\n",
    "\\end{equation}\n",
    "\n",
    "which when substututed into Eq. 11 yields\n",
    "\n",
    "\\begin{equation}\\tag{13}\n",
    "\\frac{d^2 Q}{d\\tau^2} = Q -  \\frac{d^2 S}{d\\tau^2}\\,.\n",
    "\\end{equation}\n",
    "\n",
    "If the _net intensity_, or _heating rate_, $Q$ is systematically smaller than $S$ over an interval of $\\tau$, we can immediately deduce a limiting solution,\n",
    "\n",
    "\\begin{equation}\\tag{14}\n",
    "Q =  \\frac{d^2 S}{d\\tau^2}\\,.\n",
    "\\end{equation}\n",
    "\n",
    "From other arguments (basically just looking at Eq. 11) we understand that $I$ is very close to $S$ at large optical depth, so in such a regimen Eq. 14 is asymtotically accurate, and only requires evaluating a local 2nd derivative of S.\n",
    "\n",
    "We may also draw another conclusion from Eq. 14; namely, that if we are only interested in the _net intensity_ (which is all we need to compute radiative cooling and heating), then we actually don't need the source function $S$ itself, but only its 2nd order derivative along the line of sight.  And at the boundaries, what we need is apparently only $Q$ (although we may actually get it from knowing both $I$ and $S$)."
   ]
  },
  {
   "cell_type": "markdown",
   "metadata": {},
   "source": [
    "## 6.2 Solution methods and Python optimization\n",
    "\n",
    "An essential property of essentially all algorithms for solving the the radiation transport problem (Eq. 11) is that they are fundamentally _recursive_:  To get the solution at one point along a ray, one needs to know the solution at the previous (\"upstream\") point.  This necessitates writing algorithms as loops, which as know is potentially enormously much slower than when array expressions may be used.\n",
    "\n",
    "However, we also know that we always have to make a large number of independent solutions; e.g. for a large number of parallel rays, or for rays in different directions $\\Omega$, or for solutions for different frequencies along the sam rays.  So, as long as we can write a solver that operates \"array-wise\" over several solutions at once, there is no negative consequence of having to loop over the direction along the rays."
   ]
  },
  {
   "cell_type": "markdown",
   "metadata": {},
   "source": [
    "### 6.2.1  A simple integral solver\n",
    "\n",
    "Eq. 6 actually has an explicit, simple, and exact analytical solution:\n",
    "\n",
    "\\begin{equation}\\tag{15}\n",
    "  I(\\tau_{i+1}) = I(\\tau_i) \\, e^{-(\\tau_{i+1}-\\tau_i)} + \n",
    "  \\int_{\\tau_i}^{\\tau_{i+1}} S(\\tau') \\, e^{-(\\tau'-\\tau_i)} \\,\\, d\\tau' \\,,\n",
    "\\end{equation}\n",
    "\n",
    "which also has the simple interpretation:  The intensity at the next point is the previous intensity attenuated by an exponential optical depth factor, plus the contributions from the source function over the interval, likwise attenuated with the same type of factor.\n",
    "\n",
    "If we assume that the source funtion $S(\\tau)$ is linear, then there is an exact solution; "
   ]
  },
  {
   "cell_type": "markdown",
   "metadata": {},
   "source": [
    "\\begin{equation}\\tag{16}\n",
    "  I_{i} = I_{i-1}\\, e_1 + S_i \\, e_2 + S'_{i-1/2}\\Delta\\tau_{i-1/2}\\, e_3 \\,,\n",
    "\\end{equation}\n",
    "\n",
    "where $S'_{i-1/2}(\\tau)$ is the 1st derivative of $S(\\tau)$ between $S_{i-1}$ and $S_{i}$, $\\Delta\\tau_{i-1/2}=\\tau_i - \\tau_{i-1}$, and \n",
    "\n",
    "\\begin{align}\n",
    "  e_1 &= 𝑒^{−\\Delta\\tau_{i-1/2}}\\,,\\\\  \\tag{17}\n",
    "  e_2 &= 1-e_1\\,,\\\\ \n",
    "  e_3 &= e_1 - e_2/\\Delta\\tau_{i-1/2} \\,, \n",
    "\\end{align}\n",
    "\n",
    "or, since $S'_{i-1/2} = (S_i - S_{i-1})/\\Delta\\tau_{i-1/2}$, \n",
    "\n",
    "\n",
    "\\begin{equation}\\tag{18}\n",
    "  I_{i} = I_{i-1}\\, e_1 + S_{i-1}\\, e_4 + S_{i}\\, e_5 \\,,\n",
    "\\end{equation}\n",
    "\n",
    "where\n",
    "\n",
    "\\begin{align}\n",
    "  e_4 &= -e_3 \\,,\\\\  \\tag{19}\n",
    "  e_5 &= e_2 + e_3 \\,,\n",
    "\\end{align}"
   ]
  },
  {
   "cell_type": "markdown",
   "metadata": {},
   "source": [
    "#### __An important \"rule of thumb\":__\n",
    "\n",
    "An interesting corollary is that, since when $\\Delta\\tau \\rightarrow \\infty$, then $e_1 \\rightarrow 0$, the asymptotic solution becomes \n",
    "\n",
    "\\begin{equation}\\tag{20}\n",
    "  I(\\tau_{i}) \\rightarrow S(\\tau_i) - S'(\\tau_{i}) \\,,\n",
    "\\end{equation}\n",
    "\n",
    "which also may be written, more generally (still assuming a linear $S(\\tau)$)\n",
    "\n",
    "\\begin{equation}\\tag{21}\n",
    "  I(\\tau) \\rightarrow S(\\tau-1) \\,,\n",
    "\\end{equation}\n",
    "\n",
    "So, the radiation intensity is approximately equal to ___the source function at one optical depth distance \"upstream\"___ (= where the light is coming from).  This is a good approximation not only when the source function is linear, but may also be seen as the result of the weighted average in Eq. (15)"
   ]
  },
  {
   "cell_type": "markdown",
   "metadata": {},
   "source": [
    "### Python code:"
   ]
  },
  {
   "cell_type": "code",
   "execution_count": 1,
   "metadata": {},
   "outputs": [],
   "source": [
    "import numpy as np\n",
    "import matplotlib.pyplot as plt\n",
    "from time import time"
   ]
  },
  {
   "cell_type": "markdown",
   "metadata": {},
   "source": [
    "A python code with the 1st order integral solver may thus be written as follows. It is important to realise we have to make a choice of staggering for `dtau`. I have chosen to make it upstaggered, such that `dtau[i-1]`$=\\Delta \\tau_{i-1/2}$. We allow for solving either from left to right (incoming) or from right to left (outgoing):"
   ]
  },
  {
   "cell_type": "code",
   "execution_count": 2,
   "metadata": {},
   "outputs": [],
   "source": [
    "def integral_1st (S, dtau, Left=None, Right=None):\n",
    "    I = np.zeros_like(S)\n",
    "    # Forward solution, from the left to the right boundary (I+ direction, increasing tau)\n",
    "    if type(Left) != type(None):\n",
    "        I[0] = Left\n",
    "        for i in range(1,S.shape[0]): # We assume I[0] is given or zero\n",
    "            e1 = np.exp(-dtau[i-1])\n",
    "            e2 = 1.0 - e1\n",
    "            e3 = e1 - e2/dtau[i-1]\n",
    "            e4 = - e3\n",
    "            e5 = e2 + e3\n",
    "            I[i] = e1*I[i-1] + e4*S[i-1] + e5*S[i]\n",
    "    # Reverse solution, from the right to the left boundary (I- direction, decreasing tau)\n",
    "    elif type(Right) != type(None): \n",
    "        I[-1] = Right\n",
    "        for i in range(S.shape[0]-2,-1,-1): # We assume I[-1] is given or zero\n",
    "            e1 = np.exp(-dtau[i])\n",
    "            e2 = 1.0 - e1\n",
    "            e3 = e1 - e2/dtau[i]\n",
    "            e4 = - e3\n",
    "            e5 = e2 + e3\n",
    "            I[i] = e1*I[i+1] + e4*S[i+1] + e5*S[i]\n",
    "    else:\n",
    "        print('ERROR: Either the Ileft or Iright boundary condition must be given !')\n",
    "    return I"
   ]
  },
  {
   "cell_type": "markdown",
   "metadata": {},
   "source": [
    "__NOTE:__ The shapes of `S` and `dtau` can be anything from just  1-D arrays `(n)` to multidimensional arrays`(n,m1,m2,m3,...)`!  The only requirement is that the direction of propagation should be in the first index.  One may use the `.transpose()` array method to reorder."
   ]
  },
  {
   "cell_type": "markdown",
   "metadata": {},
   "source": [
    "### Testing the solver on a case with known solution\n",
    "\n",
    "A simpe linear source function is\n",
    "\n",
    "\\begin{equation}\\tag{22}\n",
    "  S(\\tau) = A + B \\tau \\,,\n",
    "\\end{equation}\n"
   ]
  },
  {
   "cell_type": "markdown",
   "metadata": {},
   "source": [
    "### __Task 1: Construct a test__ (10 p)\n",
    "\n",
    "Use pen and paper (or overkill with a symbolic code) to solve Eq. (5) and Eq. (6) with the source function Eq. (22), and use the solution to test the 1st order solver (or to test your test ;-):"
   ]
  },
  {
   "cell_type": "code",
   "execution_count": 3,
   "metadata": {},
   "outputs": [],
   "source": [
    "import sympy\n",
    "A, B, tau = sympy.symbols(\"A, B, tau\")\n",
    "I = sympy.Function(\"I\")\n",
    "S = A + B * tau"
   ]
  },
  {
   "cell_type": "code",
   "execution_count": 4,
   "metadata": {},
   "outputs": [
    {
     "data": {
      "text/latex": [
       "$\\displaystyle I{\\left(\\tau \\right)} = \\left(C_{1} + \\left(A + B \\tau + B\\right) e^{- \\tau}\\right) e^{\\tau}$"
      ],
      "text/plain": [
       "Eq(I(tau), (C1 + (A + B*tau + B)*exp(-tau))*exp(tau))"
      ]
     },
     "execution_count": 4,
     "metadata": {},
     "output_type": "execute_result"
    }
   ],
   "source": [
    "equation = sympy.Eq(I(tau).diff(tau),I(tau)-S)\n",
    "sympy.dsolve(equation, I(tau))"
   ]
  },
  {
   "cell_type": "code",
   "execution_count": 5,
   "metadata": {},
   "outputs": [
    {
     "data": {
      "text/latex": [
       "$\\displaystyle I{\\left(\\tau \\right)} = \\left(C_{1} + \\left(A + B \\tau - B\\right) e^{\\tau}\\right) e^{- \\tau}$"
      ],
      "text/plain": [
       "Eq(I(tau), (C1 + (A + B*tau - B)*exp(tau))*exp(-tau))"
      ]
     },
     "execution_count": 5,
     "metadata": {},
     "output_type": "execute_result"
    }
   ],
   "source": [
    "equation = sympy.Eq(I(tau).diff(tau),-I(tau)+S)\n",
    "sympy.dsolve(equation, I(tau))"
   ]
  },
  {
   "cell_type": "code",
   "execution_count": 6,
   "metadata": {},
   "outputs": [
    {
     "data": {
      "image/png": "[encoded data removed]",
      "text/plain": [
       "<Figure size 432x288 with 1 Axes>"
      ]
     },
     "metadata": {
      "needs_background": "light"
     },
     "output_type": "display_data"
    }
   ],
   "source": [
    "def Iplus_1st(tau,A,B):\n",
    "    \"\"\" Intentionally the wrong exact solution; REPLACE WITH CORRECT SOLUTION \"\"\"\n",
    "    return (A+B*tau-B)\n",
    "\n",
    "def plus_test(n=20,A=0.5,B=2,solver=integral_1st):\n",
    "    \"\"\" Compute the 1st order numerical solution and compare \"\"\"\n",
    "    tau = np.logspace(-6,3,n)\n",
    "    dtau = np.zeros_like(tau)\n",
    "    S = np.zeros_like(tau)\n",
    "    for i in range(n-1):\n",
    "        dtau[i] = tau[i+1]-tau[i]\n",
    "        S[i] = A + B*tau[i]\n",
    "    S[-1] = A + B*tau[-1]\n",
    "    I_exact = Iplus_1st(tau,A,B)\n",
    "    I = integral_1st (S, dtau, Left=I_exact[0])\n",
    "    plt.loglog(tau,I,'o')\n",
    "    plt.loglog(tau,I_exact)\n",
    "    plt.title('The maximum error is {:.3e}'.format(np.max(np.abs(I/I_exact-1.0))))\n",
    "    plt.xlabel('--------------->                Incoming radiation                                 ');\n",
    "\n",
    "plus_test(A=1,B=2,solver=integral_1st)"
   ]
  },
  {
   "cell_type": "code",
   "execution_count": 7,
   "metadata": {},
   "outputs": [
    {
     "data": {
      "image/png": "[encoded data removed]",
      "text/plain": [
       "<Figure size 432x288 with 1 Axes>"
      ]
     },
     "metadata": {
      "needs_background": "light"
     },
     "output_type": "display_data"
    }
   ],
   "source": [
    "def Iminus_1st(tau,A,B):\n",
    "    return (A+B*tau+B)\n",
    "\n",
    "def minus_test(n=20,A=0.5,B=2):\n",
    "    \"\"\" Compute the 1st order numerical solution and compare \"\"\"\n",
    "    tau = np.logspace(-6,3,n)\n",
    "    dtau = np.zeros_like(tau)\n",
    "    S = np.zeros_like(tau)\n",
    "    for i in range(n-1):\n",
    "        dtau[i] = tau[i+1]-tau[i]\n",
    "        S[i] = A + B*tau[i]\n",
    "    S[-1] = A + B*tau[-1]\n",
    "    I_exact = Iminus_1st(tau,A,B)\n",
    "    I = integral_1st (S, dtau, Right=I_exact[-1])\n",
    "    plt.loglog(tau,I,'o')\n",
    "    plt.loglog(tau,I_exact)\n",
    "    plt.title('The maximum error is {:.3e}'.format(np.max(np.abs(I/I_exact-1.0))))\n",
    "    plt.xlabel('               Outgoing radiation            <---------------');\n",
    "    \n",
    "minus_test(B=1,A=0.33)"
   ]
  },
  {
   "cell_type": "markdown",
   "metadata": {},
   "source": [
    "### Task 2: Stars behind a BE sphere (30p)\n",
    "\n",
    "Given your radiative transfer solver, imagine that you place for example 100 stars behind a Bonnor-Ebert sphere. Assume that the BE-sphere has a mass of 1 solar mass and a temperature of 10 K (which means the BE-radius is about 10,000 AU), and assume an opacity $\\kappa = 1$ cm$^2$ per gram.  Then compute the intensity of the light that comes through, and make a nice image! Try at other wavelengths, use that $\\kappa \\propto \\kappa_0 / \\lambda$ is a good approximation, and that the above opacity corresponds to a wavelength of roughly 1 mm.\n",
    "\n",
    "Use the ```BE_sphere.py``` to set up you core; you can see how it is used in ```BE_sphere.ipynb```.\n",
    "\n",
    "It's OK to place the stars in a 10x10 pattern, but it of course looks nicer to place the stars randomly (and to use more than 100 of them)!\n",
    "\n",
    "Comment on the results; does it makes sense; how does it compare to the famous B68?"
   ]
  },
  {
   "cell_type": "code",
   "execution_count": 8,
   "metadata": {},
   "outputs": [
    {
     "name": "stdout",
     "output_type": "stream",
     "text": [
      "BE_sphere: gamma,T_K= 1.01 10.0\n"
     ]
    }
   ],
   "source": [
    "import numpy as np\n",
    "import matplotlib.pyplot as plt\n",
    "\n",
    "from BE_sphere import BE_sphere\n",
    "from scaling   import scaling, CGS\n",
    "from HD        import HD\n",
    "\n",
    "class BE_experiment(HD):\n",
    "    def __init__(u, units, verbose=0,gamma=1.0001, **kwargs):\n",
    "        HD.__init__(u,gamma=gamma,**kwargs)\n",
    "        u.units = units\n",
    "        BE_sphere(u, verbose=verbose,gamma=gamma)\n",
    "\n",
    "# This sets numerical units such that 1 length = 1e4 AU, 1 velocity = 1 km/s, 1 mass = 1 solar mass\n",
    "units = scaling (l=1e4*CGS.AU, v=CGS.kms, m=CGS.m_Sun, verbose=0)\n",
    "u = BE_experiment (units, n=100, gamma=1.01, verbose=0)"
   ]
  },
  {
   "cell_type": "markdown",
   "metadata": {},
   "source": [
    "Make background intensity (initial condition"
   ]
  },
  {
   "cell_type": "code",
   "execution_count": 9,
   "metadata": {},
   "outputs": [],
   "source": [
    "nstars = 500\n",
    "\n",
    "x,y = np.random.rand(2,nstars)*np.array(u.n)[1:,None] #probability uniform across the sky\n",
    "radius = 0.2/np.random.power(3, nstars) # probability of distance \\propto r^2 => r\\propto 1/r^2\n",
    "x_grid, y_grid = np.mgrid[0:u.n[1], 0:u.n[2]]\n",
    "xdiff = (x[:, None,None]-x_grid[None,:,:,])\n",
    "ydiff = (y[:, None,None]-y_grid[None,:,:,])\n",
    "nradiusses = np.hypot(xdiff,ydiff)/radius[:,None,None]\n",
    "background = np.sum(np.tanh((1-nradiusses)*10)/2+1/2,0) # make soft edge on stars\n",
    "background = np.clip(background,0,1) # cap to make drawing prettier"
   ]
  },
  {
   "cell_type": "code",
   "execution_count": 10,
   "metadata": {},
   "outputs": [],
   "source": [
    "def calc_at_wavelengt(factor):\n",
    "    kappa = factor\n",
    "    ds = u.ds*u.units.l*u.n[0]\n",
    "    rho = u.D*u.units.D\n",
    "    dtau = (rho*kappa*ds)\n",
    "    return integral_1st (np.zeros_like(dtau), dtau, Left=background)[-1]"
   ]
  },
  {
   "cell_type": "markdown",
   "metadata": {},
   "source": [
    "To make a nice image, we run the code at 3 different opacities corresponding to 3 different wavelengths. We then show the image using these wavelengths as the RGB channels, with a small dampening to the red channel to make the stars appear slightly blue"
   ]
  },
  {
   "cell_type": "code",
   "execution_count": 11,
   "metadata": {},
   "outputs": [
    {
     "data": {
      "text/plain": [
       "<matplotlib.image.AxesImage at 0x7fceac00e2e0>"
      ]
     },
     "execution_count": 11,
     "metadata": {},
     "output_type": "execute_result"
    },
    {
     "data": {
      "image/png": "[encoded data removed]",
      "text/plain": [
       "<Figure size 720x720 with 1 Axes>"
      ]
     },
     "metadata": {
      "needs_background": "light"
     },
     "output_type": "display_data"
    }
   ],
   "source": [
    "plt.figure(figsize=(10,10))\n",
    "plt.imshow(np.transpose([calc_at_wavelengt(0.3)*0.9,calc_at_wavelengt(0.5)*0.95,calc_at_wavelengt(1)],[1,2,0]))"
   ]
  },
  {
   "cell_type": "markdown",
   "metadata": {},
   "source": [
    "### 6.2.2  A better integral solver\n",
    "\n",
    "The simple 1st order integral solver above may be sufficient for some purposes, such as diagnostics of light from a radiating body.  It requires only that one evaluates one exponential, one divide, two mulitiplications, and three add/subtract, to compute the three $e$-coefficients that enter into Eq. (18).\n",
    "\n",
    "However, already in Eq. (13) we learnt that, for accurate work (e.g. when computing heating and cooling) the 2nd derivative of $S$ is important, and hence assuming a linear source function is not enough.  But we can use the results in Eqs. (17-19) to get the more accurate solution with no further derivation, by defining \n",
    "\n",
    "\\begin{align}\n",
    "  Q^+ = I^+ - S \\,,  \\\\\n",
    "  Q^- = I^- - S \\,, \\tag{23} \n",
    "\\end{align}"
   ]
  },
  {
   "cell_type": "markdown",
   "metadata": {},
   "source": [
    "\n",
    "which leads to \n",
    "\n",
    "\\begin{align}\n",
    "\\frac{d Q^+}{d \\tau} = - Q^+ - \\frac{d S}{d\\tau} =   - Q^+ - S' \\,, \\\\\n",
    "\\frac{d Q^-}{d \\tau} = + Q^- - \\frac{d S}{d\\tau} =   + Q^- - S' \\,. \\tag{24} \n",
    "\\end{align}\n",
    "\n",
    "These are equations with exactly the same form as Eqs. (5-6), only with $Q^\\pm$ instead of $I^\\pm$, and $S'$ or $-S'$ instead of $S$, and hence for a linear S' (a quadratic S) they have the solutions like (cf. Eq. 16):\n",
    "\n",
    "\\begin{equation}\n",
    "  Q_{i}^+ = Q_{i-1}^+\\, e_1 - S'_{i}\\, e_2 - S''_{i}\\,\\Delta\\tau_{i-1/2} \\, e_3 \\,. \\tag{25}\n",
    "\\end{equation}\n",
    "\n",
    "By expressing the 1st and second derivatives as finite differences, one can write for example, now with 2nd order accuracy in $S(\\tau)$:\n",
    "\n",
    "\\begin{equation}\\tag{26}\n",
    "  Q_{i}^+ = Q_{i-1}^+\\, e_1 + S_{i-1}\\, e_6 + S_{i}\\, e_7 + S_{i+1}\\, e_8 \\,.\n",
    "\\end{equation}"
   ]
  },
  {
   "cell_type": "markdown",
   "metadata": {},
   "source": [
    "#### __Bonus Task: Compute the coefficients needed in the accurate integral RT solver__ (20 p)\n",
    "\n",
    "Derive, using pen and paper (or symbolic Python, or Mathematic or Maple), expression for $e_{6,7,8}$. You will need them below, so be careful, and double check against a known solution! Start out by computing the first and second derivatives of the source function centered on point $i$ from\n",
    "\n",
    "\n",
    "\\begin{equation}\\tag{27}\n",
    "  S'_i = \\frac{\\Delta\\tau_{i-1/2} S'_{i+1/2} + \\Delta\\tau_{i+1/2} S'_{i-1/2}}{(\\Delta\\tau_{i-1}+\\Delta\\tau_i)}\n",
    "\\end{equation}\n",
    "\n",
    "\\begin{equation}\\tag{28}\n",
    "  S''_i = \\frac{S'_{i+1/2} - S'_{i-1/2} }{{1 \\over 2}(\\Delta\\tau_{i-1}+\\Delta\\tau_i)}\n",
    "\\end{equation}\n",
    "\n",
    "__NOTE:__ both $S'_i$ and $S''_i$ are centered on the same point as $I_i$, $S_i$, and $\\tau_i$.\n",
    "\n",
    "__NOTE:__ It may not be the best and simplest approach to compute long and complicated expression for each of e6, e7, and e8.  They contain common expression, stemming from the implementation of Eqs. 26-27, so computing intermediate expression may actually give fewer operations, and hence faster code!\n",
    "\n",
    "__PRIZE:__ If you implement the solver, there are 20 extra points, if it is faster than one of my solvers! The test will be made with the `timeit` procedure below, on ERDA, repeating a few times to get a stable average. Naturally, _the code only qualifies to participate if the result is exact_ for a 2nd order source function!"
   ]
  },
  {
   "cell_type": "markdown",
   "metadata": {},
   "source": [
    "### Python code:\n",
    "\n",
    "A python code with the accurate integral solver may be written as follows (you need to import your own e6-e8 coefficients and make two cases; one for Q+ another for Q- !):"
   ]
  },
  {
   "cell_type": "code",
   "execution_count": 12,
   "metadata": {
    "collapsed": true,
    "jupyter": {
     "outputs_hidden": true
    },
    "tags": []
   },
   "outputs": [
    {
     "name": "stdout",
     "output_type": "stream",
     "text": [
      "Collecting package metadata (current_repodata.json): done\n",
      "Solving environment: done\n",
      "\n",
      "\n",
      "==> WARNING: A newer version of conda exists. <==\n",
      "  current version: 4.9.2\n",
      "  latest version: 4.11.0\n",
      "\n",
      "Please update conda by running\n",
      "\n",
      "    $ conda update -n base conda\n",
      "\n",
      "\n",
      "\n",
      "## Package Plan ##\n",
      "\n",
      "  environment location: /opt/conda/envs/python3\n",
      "\n",
      "  added / updated specs:\n",
      "    - icc_rt\n",
      "\n",
      "\n",
      "The following packages will be downloaded:\n",
      "\n",
      "    package                    |            build\n",
      "    ---------------------------|-----------------\n",
      "    asttokens-2.0.5            |     pyhd8ed1ab_0          21 KB  conda-forge\n",
      "    black-21.12b0              |     pyhd8ed1ab_0         122 KB  conda-forge\n",
      "    ca-certificates-2021.10.8  |       ha878542_0         139 KB  conda-forge\n",
      "    certifi-2021.10.8          |   py38h578d9bd_1         145 KB  conda-forge\n",
      "    click-8.0.3                |   py38h578d9bd_1         146 KB  conda-forge\n",
      "    dataclasses-0.8            |     pyhc8e2a94_3          10 KB  conda-forge\n",
      "    decorator-5.1.1            |     pyhd8ed1ab_0          12 KB  conda-forge\n",
      "    entrypoints-0.3            |  pyhd8ed1ab_1003           8 KB  conda-forge\n",
      "    executing-0.8.2            |     pyhd8ed1ab_0          18 KB  conda-forge\n",
      "    icc_rt-2020.2              |        intel_254         9.7 MB  numba\n",
      "    ipython-8.0.0              |   py38h578d9bd_0         1.1 MB  conda-forge\n",
      "    jedi-0.18.1                |   py38h578d9bd_0        1010 KB  conda-forge\n",
      "    jupyter_client-7.1.0       |     pyhd8ed1ab_0          89 KB  conda-forge\n",
      "    jupyter_core-4.9.1         |   py38h578d9bd_1          80 KB  conda-forge\n",
      "    ld_impl_linux-64-2.36.1    |       hea4e1c9_2         667 KB  conda-forge\n",
      "    libffi-3.4.2               |       h7f98852_5          57 KB  conda-forge\n",
      "    libgcc-ng-11.2.0           |      h1d223b6_11         887 KB  conda-forge\n",
      "    libgomp-11.2.0             |      h1d223b6_11         427 KB  conda-forge\n",
      "    libnsl-2.0.0               |       h7f98852_0          31 KB  conda-forge\n",
      "    libstdcxx-ng-11.2.0        |      he4da1e4_11         4.2 MB  conda-forge\n",
      "    libzlib-1.2.11             |    h36c2ea0_1013          59 KB  conda-forge\n",
      "    matplotlib-inline-0.1.3    |     pyhd8ed1ab_0          11 KB  conda-forge\n",
      "    mypy_extensions-0.4.3      |   py38h578d9bd_4          10 KB  conda-forge\n",
      "    nest-asyncio-1.5.4         |     pyhd8ed1ab_0           9 KB  conda-forge\n",
      "    openssl-3.0.0              |       h7f98852_2         2.9 MB  conda-forge\n",
      "    parso-0.8.3                |     pyhd8ed1ab_0          69 KB  conda-forge\n",
      "    pathspec-0.9.0             |     pyhd8ed1ab_0          31 KB  conda-forge\n",
      "    pip-21.3.1                 |     pyhd8ed1ab_0         1.2 MB  conda-forge\n",
      "    platformdirs-2.3.0         |     pyhd8ed1ab_0          14 KB  conda-forge\n",
      "    prompt-toolkit-3.0.24      |     pyha770c72_0         249 KB  conda-forge\n",
      "    pure_eval-0.2.1            |     pyhd8ed1ab_1          14 KB  conda-forge\n",
      "    pygments-2.11.2            |     pyhd8ed1ab_0         796 KB  conda-forge\n",
      "    python-3.8.12              |hf930737_2_cpython        26.2 MB  conda-forge\n",
      "    python-dateutil-2.8.2      |     pyhd8ed1ab_0         240 KB  conda-forge\n",
      "    python_abi-3.8             |           2_cp38           4 KB  conda-forge\n",
      "    pyzmq-22.3.0               |   py38h2035c66_1         515 KB  conda-forge\n",
      "    setuptools-60.5.0          |   py38h578d9bd_0        1024 KB  conda-forge\n",
      "    sqlite-3.37.0              |       h9cd32fc_0         1.5 MB  conda-forge\n",
      "    stack_data-0.1.3           |     pyhd8ed1ab_1          21 KB  conda-forge\n",
      "    tk-8.6.11                  |       h27826a3_1         3.3 MB  conda-forge\n",
      "    tomli-1.2.2                |     pyhd8ed1ab_0          15 KB  conda-forge\n",
      "    tornado-6.1                |   py38h497a2fe_2         647 KB  conda-forge\n",
      "    traitlets-5.1.1            |     pyhd8ed1ab_0          82 KB  conda-forge\n",
      "    typed-ast-1.5.1            |   py38h497a2fe_0         212 KB  conda-forge\n",
      "    typing_extensions-4.0.1    |     pyha770c72_0          26 KB  conda-forge\n",
      "    wheel-0.37.1               |     pyhd8ed1ab_0          31 KB  conda-forge\n",
      "    zeromq-4.3.4               |       h9c3ff4c_1         351 KB  conda-forge\n",
      "    zlib-1.2.11                |    h36c2ea0_1013          86 KB  conda-forge\n",
      "    ------------------------------------------------------------\n",
      "                                           Total:        58.2 MB\n",
      "\n",
      "The following NEW packages will be INSTALLED:\n",
      "\n",
      "  asttokens          conda-forge/noarch::asttokens-2.0.5-pyhd8ed1ab_0\n",
      "  black              conda-forge/noarch::black-21.12b0-pyhd8ed1ab_0\n",
      "  click              conda-forge/linux-64::click-8.0.3-py38h578d9bd_1\n",
      "  dataclasses        conda-forge/noarch::dataclasses-0.8-pyhc8e2a94_3\n",
      "  entrypoints        conda-forge/noarch::entrypoints-0.3-pyhd8ed1ab_1003\n",
      "  executing          conda-forge/noarch::executing-0.8.2-pyhd8ed1ab_0\n",
      "  icc_rt             numba/linux-64::icc_rt-2020.2-intel_254\n",
      "  libnsl             conda-forge/linux-64::libnsl-2.0.0-h7f98852_0\n",
      "  libzlib            conda-forge/linux-64::libzlib-1.2.11-h36c2ea0_1013\n",
      "  mypy_extensions    conda-forge/linux-64::mypy_extensions-0.4.3-py38h578d9bd_4\n",
      "  nest-asyncio       conda-forge/noarch::nest-asyncio-1.5.4-pyhd8ed1ab_0\n",
      "  pathspec           conda-forge/noarch::pathspec-0.9.0-pyhd8ed1ab_0\n",
      "  platformdirs       conda-forge/noarch::platformdirs-2.3.0-pyhd8ed1ab_0\n",
      "  pure_eval          conda-forge/noarch::pure_eval-0.2.1-pyhd8ed1ab_1\n",
      "  stack_data         conda-forge/noarch::stack_data-0.1.3-pyhd8ed1ab_1\n",
      "  tomli              conda-forge/noarch::tomli-1.2.2-pyhd8ed1ab_0\n",
      "  typed-ast          conda-forge/linux-64::typed-ast-1.5.1-py38h497a2fe_0\n",
      "  typing_extensions  conda-forge/noarch::typing_extensions-4.0.1-pyha770c72_0\n",
      "\n",
      "The following packages will be REMOVED:\n",
      "\n",
      "  ipython_genutils-0.2.0-py_1\n",
      "\n",
      "The following packages will be UPDATED:\n",
      "\n",
      "  ca-certificates                      2020.12.5-ha878542_0 --> 2021.10.8-ha878542_0\n",
      "  certifi                          2020.12.5-py38h578d9bd_1 --> 2021.10.8-py38h578d9bd_1\n",
      "  decorator                              5.0.7-pyhd8ed1ab_0 --> 5.1.1-pyhd8ed1ab_0\n",
      "  ipython                             7.23.1-py38hd0cf306_0 --> 8.0.0-py38h578d9bd_0\n",
      "  jedi                                0.18.0-py38h578d9bd_2 --> 0.18.1-py38h578d9bd_0\n",
      "  jupyter_client                        6.1.12-pyhd8ed1ab_0 --> 7.1.0-pyhd8ed1ab_0\n",
      "  jupyter_core                         4.7.1-py38h578d9bd_0 --> 4.9.1-py38h578d9bd_1\n",
      "  ld_impl_linux-64                        2.35.1-hea4e1c9_2 --> 2.36.1-hea4e1c9_2\n",
      "  libffi                                     3.3-h58526e2_2 --> 3.4.2-h7f98852_5\n",
      "  libgcc-ng                               9.3.0-h2828fa1_19 --> 11.2.0-h1d223b6_11\n",
      "  libgomp                                 9.3.0-h2828fa1_19 --> 11.2.0-h1d223b6_11\n",
      "  libstdcxx-ng                            9.3.0-h6de172a_19 --> 11.2.0-he4da1e4_11\n",
      "  matplotlib-inline                      0.1.2-pyhd8ed1ab_2 --> 0.1.3-pyhd8ed1ab_0\n",
      "  openssl                                 1.1.1k-h7f98852_0 --> 3.0.0-h7f98852_2\n",
      "  parso                                  0.8.2-pyhd8ed1ab_0 --> 0.8.3-pyhd8ed1ab_0\n",
      "  pip                                   21.1.1-pyhd8ed1ab_0 --> 21.3.1-pyhd8ed1ab_0\n",
      "  prompt-toolkit                        3.0.18-pyha770c72_0 --> 3.0.24-pyha770c72_0\n",
      "  pygments                               2.9.0-pyhd8ed1ab_0 --> 2.11.2-pyhd8ed1ab_0\n",
      "  python                           3.8.8-hffdb5ce_0_cpython --> 3.8.12-hf930737_2_cpython\n",
      "  python-dateutil                                2.8.1-py_0 --> 2.8.2-pyhd8ed1ab_0\n",
      "  python_abi                                     3.8-1_cp38 --> 3.8-2_cp38\n",
      "  pyzmq                               22.0.3-py38h2035c66_1 --> 22.3.0-py38h2035c66_1\n",
      "  setuptools                          49.6.0-py38h578d9bd_3 --> 60.5.0-py38h578d9bd_0\n",
      "  sqlite                                  3.35.5-h74cdb3f_0 --> 3.37.0-h9cd32fc_0\n",
      "  tk                                      8.6.10-h21135ba_1 --> 8.6.11-h27826a3_1\n",
      "  tornado                                6.1-py38h497a2fe_1 --> 6.1-py38h497a2fe_2\n",
      "  traitlets                                      5.0.5-py_0 --> 5.1.1-pyhd8ed1ab_0\n",
      "  wheel                                 0.36.2-pyhd3deb0d_0 --> 0.37.1-pyhd8ed1ab_0\n",
      "  zeromq                                   4.3.4-h9c3ff4c_0 --> 4.3.4-h9c3ff4c_1\n",
      "  zlib                                 1.2.11-h516909a_1010 --> 1.2.11-h36c2ea0_1013\n",
      "\n",
      "\n",
      "\n",
      "Downloading and Extracting Packages\n",
      "openssl-3.0.0        | 2.9 MB    | ##################################### | 100% \n",
      "jupyter_client-7.1.0 | 89 KB     | ##################################### | 100% \n",
      "pygments-2.11.2      | 796 KB    | ##################################### | 100% \n",
      "libnsl-2.0.0         | 31 KB     | ##################################### | 100% \n",
      "sqlite-3.37.0        | 1.5 MB    | ##################################### | 100% \n",
      "tk-8.6.11            | 3.3 MB    | ##################################### | 100% \n",
      "mypy_extensions-0.4. | 10 KB     | ##################################### | 100% \n",
      "pip-21.3.1           | 1.2 MB    | ##################################### | 100% \n",
      "ipython-8.0.0        | 1.1 MB    | ##################################### | 100% \n",
      "pure_eval-0.2.1      | 14 KB     | ##################################### | 100% \n",
      "zeromq-4.3.4         | 351 KB    | ##################################### | 100% \n",
      "dataclasses-0.8      | 10 KB     | ##################################### | 100% \n",
      "matplotlib-inline-0. | 11 KB     | ##################################### | 100% \n",
      "wheel-0.37.1         | 31 KB     | ##################################### | 100% \n",
      "entrypoints-0.3      | 8 KB      | ##################################### | 100% \n",
      "ca-certificates-2021 | 139 KB    | ##################################### | 100% \n",
      "jedi-0.18.1          | 1010 KB   | ##################################### | 100% \n",
      "libstdcxx-ng-11.2.0  | 4.2 MB    | ##################################### | 100% \n",
      "libgcc-ng-11.2.0     | 887 KB    | ##################################### | 100% \n",
      "nest-asyncio-1.5.4   | 9 KB      | ##################################### | 100% \n",
      "typed-ast-1.5.1      | 212 KB    | ##################################### | 100% \n",
      "python-dateutil-2.8. | 240 KB    | ##################################### | 100% \n",
      "traitlets-5.1.1      | 82 KB     | ##################################### | 100% \n",
      "pathspec-0.9.0       | 31 KB     | ##################################### | 100% \n",
      "executing-0.8.2      | 18 KB     | ##################################### | 100% \n",
      "python-3.8.12        | 26.2 MB   | ##################################### | 100% \n",
      "libzlib-1.2.11       | 59 KB     | ##################################### | 100% \n",
      "parso-0.8.3          | 69 KB     | ##################################### | 100% \n",
      "tomli-1.2.2          | 15 KB     | ##################################### | 100% \n",
      "decorator-5.1.1      | 12 KB     | ##################################### | 100% \n",
      "icc_rt-2020.2        | 9.7 MB    | ##################################### | 100% \n",
      "black-21.12b0        | 122 KB    | ##################################### | 100% \n",
      "platformdirs-2.3.0   | 14 KB     | ##################################### | 100% \n",
      "certifi-2021.10.8    | 145 KB    | ##################################### | 100% \n",
      "setuptools-60.5.0    | 1024 KB   | ##################################### | 100% \n",
      "prompt-toolkit-3.0.2 | 249 KB    | ##################################### | 100% \n",
      "jupyter_core-4.9.1   | 80 KB     | ##################################### | 100% \n",
      "asttokens-2.0.5      | 21 KB     | ##################################### | 100% \n",
      "zlib-1.2.11          | 86 KB     | ##################################### | 100% \n",
      "tornado-6.1          | 647 KB    | ##################################### | 100% \n",
      "stack_data-0.1.3     | 21 KB     | ##################################### | 100% \n",
      "libffi-3.4.2         | 57 KB     | ##################################### | 100% \n",
      "typing_extensions-4. | 26 KB     | ##################################### | 100% \n",
      "ld_impl_linux-64-2.3 | 667 KB    | ##################################### | 100% \n",
      "click-8.0.3          | 146 KB    | ##################################### | 100% \n",
      "pyzmq-22.3.0         | 515 KB    | ##################################### | 100% \n",
      "python_abi-3.8       | 4 KB      | ##################################### | 100% \n",
      "libgomp-11.2.0       | 427 KB    | ##################################### | 100% \n",
      "Preparing transaction: done\n",
      "Verifying transaction: done\n",
      "Executing transaction: done\n",
      "\n",
      "Note: you may need to restart the kernel to use updated packages.\n"
     ]
    }
   ],
   "source": [
    "conda install -c numba icc_rt -S"
   ]
  },
  {
   "cell_type": "code",
   "execution_count": 13,
   "metadata": {},
   "outputs": [],
   "source": [
    "import numba\n",
    "@numba.njit(fastmath=True, parallel=False)\n",
    "def Q_integral_2nd_32_inner (S0, dtau0, Initial):\n",
    "    S = S0.astype(np.float32)\n",
    "    dtau = dtau0.astype(np.float32)\n",
    "    Q = np.empty(S.shape, dtype=np.float32)\n",
    "    Q[0] = Initial.astype(np.float32)\n",
    "    for j in numba.prange(S.shape[1]): \n",
    "        for k in range(S.shape[2]):\n",
    "            right_grad = (S[1, j, k] - S[0, j, k])/dtau[0, j, k]\n",
    "            for i in range(1,S.shape[0]-1):\n",
    "                e1 = np.exp(-dtau[i-1, j, k])\n",
    "                e2 = np.float32(1) - e1\n",
    "                e3 = e1 - e2/dtau[i-1, j, k]\n",
    "                \n",
    "                left_grad = right_grad\n",
    "                right_grad = (S[i+1, j, k] - S[i, j, k])/dtau[i, j, k]\n",
    "                inv_tau_sum = np.float32(1) / dtau[i, j, k]+dtau[i-1, j, k]\n",
    "                mean_grad = (left_grad*dtau[i, j, k]+right_grad*dtau[i-1, j, k]) * inv_tau_sum\n",
    "                double_diff = np.float32(2)*(right_grad-left_grad)   * inv_tau_sum\n",
    "\n",
    "                Q[i,j,k] = e1*Q[i-1, j, k] + e2*mean_grad + double_diff * dtau[-1, j, k] * e3\n",
    "                #x0 = np.float32(1)/(dtau[i-1, j, k]+dtau[i, j, k])\n",
    "                #x2 = x1 # reuse calc, right before is now left\n",
    "                #x1 = (S[i+1, j, k] - S[i, j, k])/dtau[i, j, k]\n",
    "\n",
    "                #Q[i, j, k] = e1*Q[i-1, j, k] + x0*(e2*(x1*dtau[i-1, j, k] + x2*dtau[i, j, k]) - np.float32(2)*e3*(x1-x2)*dtau[i-1, j, k])\n",
    "    return Q\n",
    "\"\"\"\n",
    "def Q_integral_2nd_32_inner (S, dtau, Initial):\n",
    "    Q = np.empty(S.shape)\n",
    "    Q[0] = Initial\n",
    "    for i in range(1,S.shape[0]-1):\n",
    "        e1 = np.exp(-dtau[i-1])\n",
    "        e2 = np.float32(1) - e1\n",
    "        e3 = e1 - e2/dtau[i-1]\n",
    "\n",
    "        a = 1/(dtau[i-1]+dtau[i])\n",
    "        b = dtau[i]/dtau[i-1]\n",
    "        c = e2 + 2*e3\n",
    "        \n",
    "        e6 = -(e2*b-2*e3)*a\n",
    "        e7 = e2/dtau[i-1] - c/dtau[i]\n",
    "        e8 = c*a/b\n",
    "\n",
    "        Q[i] = e1*Q[i-1] + e6*S[i-1] + e7*S[i] + e8*S[i+1]\n",
    "    return Q\"\"\"\n",
    "\n",
    "def Q_integral_2nd (S, dtau, Left=None, Right=None):\n",
    "    def expand_dims(a, dims): \n",
    "        return np.expand_dims(a, list(range(a.ndim, dims)))\n",
    "    # Forward solution, from the left to the right boundary (I+ direction, increasing tau)\n",
    "    if type(Left) != type(None):\n",
    "        return Q_integral_2nd_32_inner(expand_dims(S,3), expand_dims(dtau,3), expand_dims(Left,2)).reshape(S.shape)\n",
    "    elif type(Right) != type(None): \n",
    "        return Q_integral_2nd_32_inner(expand_dims(S[::-1],3), expand_dims(np.roll(dtau[::-1],-1,0),3), expand_dims(Right,2))[::-1].reshape(S.shape)\n",
    "    else:\n",
    "        print('ERROR: Either the Ileft or Iright boundary condition must be given !')\n",
    "    return I"
   ]
  },
  {
   "cell_type": "markdown",
   "metadata": {},
   "source": [
    "For reasons unknown -- but presumably because the virtual machine does not get full attention -- the time for a solution varies signficantly, but typically has a well defined bottom, showing up at least some time during 40 attempts."
   ]
  },
  {
   "cell_type": "code",
   "execution_count": 14,
   "metadata": {},
   "outputs": [],
   "source": [
    "def timeit(solver,duration=10):\n",
    "    n = 200\n",
    "    S = np.ones((n,n,n))\n",
    "    dtau = np.ones((n,n,n))\n",
    "    Q0 = np.ones((n,n))    \n",
    "    def test(solver):\n",
    "        t = time()\n",
    "        Q = solver (S, dtau, Left=Q0)\n",
    "        used = time()-t\n",
    "        return 1e9*used/n**3\n",
    "    start = time()\n",
    "    worst = test(solver)\n",
    "    best = worst\n",
    "    used = time()-start\n",
    "    while used < duration:\n",
    "        ns = test(solver)\n",
    "        if ns < best:\n",
    "            best = ns\n",
    "        if ns > worst:\n",
    "            worst = ns\n",
    "        used = time()-start\n",
    "        plt.plot(used, ns, 'o')\n",
    "    plt.ylim(0,worst*1.1); plt.xlabel('time'); plt.ylabel('cost')\n",
    "    print('{}: {:.2f} seconds =>  {:.1f} nanoseconds per point'.format(solver.__name__,used,best))"
   ]
  },
  {
   "cell_type": "code",
   "execution_count": 15,
   "metadata": {},
   "outputs": [
    {
     "data": {
      "text/latex": [
       "$\\displaystyle I{\\left(\\tau \\right)} = \\left(C_{1} + \\left(A + B \\tau + B + C \\tau^{2} + 2 C \\tau + 2 C\\right) e^{- \\tau}\\right) e^{\\tau}$"
      ],
      "text/plain": [
       "Eq(I(tau), (C1 + (A + B*tau + B + C*tau**2 + 2*C*tau + 2*C)*exp(-tau))*exp(tau))"
      ]
     },
     "execution_count": 15,
     "metadata": {},
     "output_type": "execute_result"
    }
   ],
   "source": [
    "import sympy\n",
    "A, B, C, tau = sympy.symbols(\"A, B, C, tau\")\n",
    "I = sympy.Function(\"I\")\n",
    "S = A + B * tau + C * tau**2\n",
    "equation = sympy.Eq(I(tau).diff(tau),I(tau)-S)\n",
    "sympy.dsolve(equation, I(tau))"
   ]
  },
  {
   "cell_type": "code",
   "execution_count": 16,
   "metadata": {},
   "outputs": [],
   "source": [
    "def Qplus(tau,A,B,C):\n",
    "    \"\"\" The correct exact 2nd order S() solution \"\"\"\n",
    "    return A+B*tau+B+C*tau**2+2*C*tau+2*C\n",
    "\n",
    "def Qminus(tau,A,B,C):\n",
    "    \"\"\" The correct exact 2nd order S() solution \"\"\"\n",
    "    return A*tau + B + C # wrong!\n",
    "\n",
    "def Q_test (solver, n=50, A=1., B=1, C=2, plus=True, verbose=0):\n",
    "    \"\"\" Compute the 2nd order numerical solution and compare \"\"\"\n",
    "    tau = np.logspace(-6,3,n)\n",
    "    dtau = np.zeros_like(tau)\n",
    "    S = np.zeros_like(tau)\n",
    "    for i in range(n-1):\n",
    "        dtau[i] = tau[i+1]-tau[i]\n",
    "        S[i] = A + B*tau[i] + C*tau[i]**2\n",
    "    S[-1] = A + B*tau[-1] + C*tau[-1]**2\n",
    "    Q0 = Qplus(tau,A,B,C) if plus else Qminus(tau,A,B,C)\n",
    "    Q1 = solver (S, dtau,\n",
    "                 Left=Q0[0] if plus else None,\n",
    "                 Right=None if plus else Q0[-1]\n",
    "                )\n",
    "    error = (Q1-Q0)/S\n",
    "    if verbose:\n",
    "        print('Q0',Q0[1:-2])\n",
    "        print('Q1',Q1[1:-2])\n",
    "        print('dQ',Q1[1:-2]-Q0[1:-2])\n",
    "        print('er',error[1:-2])\n",
    "    plt.semilogx(tau[1:-2], Q0[1:-2], 'o')\n",
    "    plt.semilogx(tau[1:-2], Q1[1:-2])\n",
    "    plt.title('{}: max err = {:.3e}'.format(solver.__name__,np.max(np.abs(error[1:-2]))))\n",
    "    if plus:\n",
    "        plt.xlabel('--------------->                Incoming radiation                   ');\n",
    "    else:\n",
    "        plt.xlabel('<---------------                Outgoing radiation                   ');\n",
    "    return dtau\n",
    "\n",
    "np.set_printoptions(linewidth=170, formatter={'float_kind':lambda x: \"{:10.3e}\".format(x)})"
   ]
  },
  {
   "cell_type": "code",
   "execution_count": 17,
   "metadata": {},
   "outputs": [
    {
     "name": "stdout",
     "output_type": "stream",
     "text": [
      "\n"
     ]
    },
    {
     "data": {
      "image/png": "[encoded data removed]",
      "text/plain": [
       "<Figure size 1152x288 with 2 Axes>"
      ]
     },
     "metadata": {
      "needs_background": "light"
     },
     "output_type": "display_data"
    }
   ],
   "source": [
    "A = 1.0; B = 0.1; C = +0.002\n",
    "plt.figure(figsize=(16,4))\n",
    "plt.subplot(1,3,1); Q_test (Q_integral_2nd, A=A, B=B, C=C, plus=1); print('')\n",
    "plt.subplot(1,3,2); Q_test (Q_integral_2nd, A=A, B=B, C=C, plus=0);"
   ]
  },
  {
   "cell_type": "markdown",
   "metadata": {},
   "source": [
    "## Absalon Handin:\n",
    "\n",
    "Copy the solution to task 1, task 2, and possibly the bonus task down here. This gives you a clean reference code above, and makes it easier to see what has been modified.\n",
    "\n",
    "Submit notebook and pdf of notebook to Absalon"
   ]
  },
  {
   "cell_type": "markdown",
   "metadata": {},
   "source": [
    "### __Task 1: Construct a test__ (10 p)\n",
    "\n",
    "Use pen and paper (or overkill with a symbolic code) to solve Eq. (5) and Eq. (6) with the source function Eq. (22), and use the solution to test the 1st order solver (or to test your test ;-):"
   ]
  },
  {
   "cell_type": "code",
   "execution_count": 18,
   "metadata": {},
   "outputs": [],
   "source": [
    "import sympy\n",
    "A, B, tau = sympy.symbols(\"A, B, tau\")\n",
    "I = sympy.Function(\"I\")\n",
    "S = A + B * tau"
   ]
  },
  {
   "cell_type": "code",
   "execution_count": 19,
   "metadata": {},
   "outputs": [
    {
     "data": {
      "text/latex": [
       "$\\displaystyle I{\\left(\\tau \\right)} = \\left(C_{1} + \\left(A + B \\tau + B\\right) e^{- \\tau}\\right) e^{\\tau}$"
      ],
      "text/plain": [
       "Eq(I(tau), (C1 + (A + B*tau + B)*exp(-tau))*exp(tau))"
      ]
     },
     "execution_count": 19,
     "metadata": {},
     "output_type": "execute_result"
    }
   ],
   "source": [
    "equation = sympy.Eq(I(tau).diff(tau),I(tau)-S)\n",
    "sympy.dsolve(equation, I(tau))"
   ]
  },
  {
   "cell_type": "code",
   "execution_count": 20,
   "metadata": {},
   "outputs": [
    {
     "data": {
      "text/latex": [
       "$\\displaystyle I{\\left(\\tau \\right)} = \\left(C_{1} + \\left(A + B \\tau - B\\right) e^{\\tau}\\right) e^{- \\tau}$"
      ],
      "text/plain": [
       "Eq(I(tau), (C1 + (A + B*tau - B)*exp(tau))*exp(-tau))"
      ]
     },
     "execution_count": 20,
     "metadata": {},
     "output_type": "execute_result"
    }
   ],
   "source": [
    "equation = sympy.Eq(I(tau).diff(tau),-I(tau)+S)\n",
    "sympy.dsolve(equation, I(tau))"
   ]
  },
  {
   "cell_type": "code",
   "execution_count": 21,
   "metadata": {},
   "outputs": [
    {
     "data": {
      "image/png": "[encoded data removed]",
      "text/plain": [
       "<Figure size 432x288 with 1 Axes>"
      ]
     },
     "metadata": {
      "needs_background": "light"
     },
     "output_type": "display_data"
    }
   ],
   "source": [
    "def Iplus_1st(tau,A,B):\n",
    "    \"\"\" Intentionally the wrong exact solution; REPLACE WITH CORRECT SOLUTION \"\"\"\n",
    "    return (A+B*tau-B)\n",
    "\n",
    "def plus_test(n=20,A=0.5,B=2,solver=integral_1st):\n",
    "    \"\"\" Compute the 1st order numerical solution and compare \"\"\"\n",
    "    tau = np.logspace(-6,3,n)\n",
    "    dtau = np.zeros_like(tau)\n",
    "    S = np.zeros_like(tau)\n",
    "    for i in range(n-1):\n",
    "        dtau[i] = tau[i+1]-tau[i]\n",
    "        S[i] = A + B*tau[i]\n",
    "    S[-1] = A + B*tau[-1]\n",
    "    I_exact = Iplus_1st(tau,A,B)\n",
    "    I = integral_1st (S, dtau, Left=I_exact[0])\n",
    "    plt.loglog(tau,I,'o')\n",
    "    plt.loglog(tau,I_exact)\n",
    "    plt.title('The maximum error is {:.3e}'.format(np.max(np.abs(I/I_exact-1.0))))\n",
    "    plt.xlabel('--------------->                Incoming radiation                                 ');\n",
    "\n",
    "plus_test(A=1,B=2,solver=integral_1st)"
   ]
  },
  {
   "cell_type": "code",
   "execution_count": 22,
   "metadata": {},
   "outputs": [
    {
     "data": {
      "image/png": "[encoded data removed]",
      "text/plain": [
       "<Figure size 432x288 with 1 Axes>"
      ]
     },
     "metadata": {
      "needs_background": "light"
     },
     "output_type": "display_data"
    }
   ],
   "source": [
    "def Iminus_1st(tau,A,B):\n",
    "    return (A+B*tau+B)\n",
    "\n",
    "def minus_test(n=20,A=0.5,B=2):\n",
    "    \"\"\" Compute the 1st order numerical solution and compare \"\"\"\n",
    "    tau = np.logspace(-6,3,n)\n",
    "    dtau = np.zeros_like(tau)\n",
    "    S = np.zeros_like(tau)\n",
    "    for i in range(n-1):\n",
    "        dtau[i] = tau[i+1]-tau[i]\n",
    "        S[i] = A + B*tau[i]\n",
    "    S[-1] = A + B*tau[-1]\n",
    "    I_exact = Iminus_1st(tau,A,B)\n",
    "    I = integral_1st (S, dtau, Right=I_exact[-1])\n",
    "    plt.loglog(tau,I,'o')\n",
    "    plt.loglog(tau,I_exact)\n",
    "    plt.title('The maximum error is {:.3e}'.format(np.max(np.abs(I/I_exact-1.0))))\n",
    "    plt.xlabel('               Outgoing radiation            <---------------');\n",
    "    \n",
    "minus_test(B=1,A=0.33)"
   ]
  },
  {
   "cell_type": "markdown",
   "metadata": {},
   "source": [
    "### Task 2: Stars behind a BE sphere (30p)\n",
    "\n",
    "Given your radiative transfer solver, imagine that you place for example 100 stars behind a Bonnor-Ebert sphere. Assume that the BE-sphere has a mass of 1 solar mass and a temperature of 10 K (which means the BE-radius is about 10,000 AU), and assume an opacity $\\kappa = 1$ cm$^2$ per gram.  Then compute the intensity of the light that comes through, and make a nice image! Try at other wavelengths, use that $\\kappa \\propto \\kappa_0 / \\lambda$ is a good approximation, and that the above opacity corresponds to a wavelength of roughly 1 mm.\n",
    "\n",
    "Use the ```BE_sphere.py``` to set up you core; you can see how it is used in ```BE_sphere.ipynb```.\n",
    "\n",
    "It's OK to place the stars in a 10x10 pattern, but it of course looks nicer to place the stars randomly (and to use more than 100 of them)!\n",
    "\n",
    "Comment on the results; does it makes sense; how does it compare to the famous B68?"
   ]
  },
  {
   "cell_type": "code",
   "execution_count": 23,
   "metadata": {},
   "outputs": [
    {
     "name": "stdout",
     "output_type": "stream",
     "text": [
      "BE_sphere: gamma,T_K= 1.01 10.0\n"
     ]
    }
   ],
   "source": [
    "import numpy as np\n",
    "import matplotlib.pyplot as plt\n",
    "\n",
    "from BE_sphere import BE_sphere\n",
    "from scaling   import scaling, CGS\n",
    "from HD        import HD\n",
    "\n",
    "class BE_experiment(HD):\n",
    "    def __init__(u, units, verbose=0,gamma=1.0001, **kwargs):\n",
    "        HD.__init__(u,gamma=gamma,**kwargs)\n",
    "        u.units = units\n",
    "        BE_sphere(u, verbose=verbose,gamma=gamma)\n",
    "\n",
    "# This sets numerical units such that 1 length = 1e4 AU, 1 velocity = 1 km/s, 1 mass = 1 solar mass\n",
    "units = scaling (l=1e4*CGS.AU, v=CGS.kms, m=CGS.m_Sun, verbose=0)\n",
    "u = BE_experiment (units, n=100, gamma=1.01, verbose=0)"
   ]
  },
  {
   "cell_type": "markdown",
   "metadata": {},
   "source": [
    "Make background intensity (initial condition"
   ]
  },
  {
   "cell_type": "code",
   "execution_count": 24,
   "metadata": {},
   "outputs": [],
   "source": [
    "nstars = 500\n",
    "\n",
    "x,y = np.random.rand(2,nstars)*np.array(u.n)[1:,None] #probability uniform across the sky\n",
    "radius = 0.2/np.random.power(3, nstars) # probability of distance \\propto r^2 => r\\propto 1/r^2\n",
    "x_grid, y_grid = np.mgrid[0:u.n[1], 0:u.n[2]]\n",
    "xdiff = (x[:, None,None]-x_grid[None,:,:,])\n",
    "ydiff = (y[:, None,None]-y_grid[None,:,:,])\n",
    "nradiusses = np.hypot(xdiff,ydiff)/radius[:,None,None]\n",
    "background = np.sum(np.tanh((1-nradiusses)*10)/2+1/2,0) # make soft edge on stars\n",
    "background = np.clip(background,0,1) # cap to make drawing prettier"
   ]
  },
  {
   "cell_type": "code",
   "execution_count": 25,
   "metadata": {},
   "outputs": [],
   "source": [
    "def calc_at_wavelengt(factor):\n",
    "    kappa = factor\n",
    "    ds = u.ds*u.units.l*u.n[0]\n",
    "    rho = u.D*u.units.D\n",
    "    dtau = (rho*kappa*ds)\n",
    "    return integral_1st (np.zeros_like(dtau), dtau, Left=background)[-1]"
   ]
  },
  {
   "cell_type": "markdown",
   "metadata": {},
   "source": [
    "To make a nice image, we run the code at 3 different opacities corresponding to 3 different wavelengths. We then show the image using these wavelengths as the RGB channels, with a small dampening to the red channel to make the stars appear slightly blue"
   ]
  },
  {
   "cell_type": "code",
   "execution_count": 26,
   "metadata": {},
   "outputs": [
    {
     "data": {
      "text/plain": [
       "<matplotlib.image.AxesImage at 0x7fcec829fa60>"
      ]
     },
     "execution_count": 26,
     "metadata": {},
     "output_type": "execute_result"
    },
    {
     "data": {
      "image/png": "[encoded data removed]",
      "text/plain": [
       "<Figure size 720x720 with 1 Axes>"
      ]
     },
     "metadata": {
      "needs_background": "light"
     },
     "output_type": "display_data"
    }
   ],
   "source": [
    "plt.figure(figsize=(10,10))\n",
    "plt.imshow(np.transpose([calc_at_wavelengt(0.3)*0.9,calc_at_wavelengt(0.5)*0.95,calc_at_wavelengt(1)],[1,2,0]))"
   ]
  },
  {
   "cell_type": "markdown",
   "metadata": {},
   "source": [
    "# Task 3:\n",
    "\n",
    "After A LONG time of debugging, I have given up making this thing work. But here is the sympy code for calculating the expression, as well as for extracting the coeficiencts e6, e7 and e8: "
   ]
  },
  {
   "cell_type": "code",
   "execution_count": 27,
   "metadata": {},
   "outputs": [],
   "source": [
    "import sympy\n",
    "S = sympy.IndexedBase(\"S\")\n",
    "dS = sympy.IndexedBase(\"dS\")\n",
    "dtau = sympy.IndexedBase(r\"\\Delta \\tau\")\n",
    "half = sympy.Rational(1,2)\n",
    "dtauSum = lambda i: dtau[i+half] + dtau[i-half]# sympy.IndexedBase(r\"\\Sigma \\Delta \\tau\")\n",
    "i = sympy.symbols(\"i\")\n",
    "Q, e1, e2, e3 = sympy.symbols(\"Q, e1, e2, e3\")\n",
    "#e1 = sympy.exp(-dtau[i-half])\n",
    "#e2 = 1-e1\n",
    "#e3 = e1-e2/dtaAAAAAu[i-half]\n",
    "\n",
    "edgeDiff = lambda i: (S[i+half]-S[i-half])/dtau[i]\n",
    "centerDiff = (dtau[i-half]*edgeDiff(i+half)+dtau[i+half]*edgeDiff(i-half))/dtauSum(i)\n",
    "center2Diff = 2*(edgeDiff(i+half)-edgeDiff(i-half))/dtauSum(i)\n",
    "expr = Q*e1+centerDiff*e2+center2Diff*dtau[i-half]*e3"
   ]
  },
  {
   "cell_type": "code",
   "execution_count": 28,
   "metadata": {},
   "outputs": [
    {
     "data": {
      "text/latex": [
       "$\\displaystyle Q e_{1} + \\frac{e_{2} \\left(\\frac{\\left({S}_{i + 1} - {S}_{i}\\right) {\\Delta \\tau}_{i - \\frac{1}{2}}}{{\\Delta \\tau}_{i + \\frac{1}{2}}} + \\frac{\\left(- {S}_{i - 1} + {S}_{i}\\right) {\\Delta \\tau}_{i + \\frac{1}{2}}}{{\\Delta \\tau}_{i - \\frac{1}{2}}}\\right)}{{\\Delta \\tau}_{i + \\frac{1}{2}} + {\\Delta \\tau}_{i - \\frac{1}{2}}} + \\frac{e_{3} \\left(\\frac{2 \\left({S}_{i + 1} - {S}_{i}\\right)}{{\\Delta \\tau}_{i + \\frac{1}{2}}} - \\frac{2 \\left(- {S}_{i - 1} + {S}_{i}\\right)}{{\\Delta \\tau}_{i - \\frac{1}{2}}}\\right) {\\Delta \\tau}_{i - \\frac{1}{2}}}{{\\Delta \\tau}_{i + \\frac{1}{2}} + {\\Delta \\tau}_{i - \\frac{1}{2}}}$"
      ],
      "text/plain": [
       "Q*e1 + e2*((S[i + 1] - S[i])*\\Delta \\tau[i - 1/2]/\\Delta \\tau[i + 1/2] + (-S[i - 1] + S[i])*\\Delta \\tau[i + 1/2]/\\Delta \\tau[i - 1/2])/(\\Delta \\tau[i + 1/2] + \\Delta \\tau[i - 1/2]) + e3*(2*(S[i + 1] - S[i])/\\Delta \\tau[i + 1/2] - 2*(-S[i - 1] + S[i])/\\Delta \\tau[i - 1/2])*\\Delta \\tau[i - 1/2]/(\\Delta \\tau[i + 1/2] + \\Delta \\tau[i - 1/2])"
      ]
     },
     "execution_count": 28,
     "metadata": {},
     "output_type": "execute_result"
    }
   ],
   "source": [
    "expr"
   ]
  },
  {
   "cell_type": "code",
   "execution_count": 29,
   "metadata": {},
   "outputs": [
    {
     "data": {
      "text/latex": [
       "$\\displaystyle \\frac{- e_{2} {\\Delta \\tau}_{i + \\frac{1}{2}} + 2 e_{3} {\\Delta \\tau}_{i - \\frac{1}{2}}}{\\left({\\Delta \\tau}_{i + \\frac{1}{2}} + {\\Delta \\tau}_{i - \\frac{1}{2}}\\right) {\\Delta \\tau}_{i - \\frac{1}{2}}}$"
      ],
      "text/plain": [
       "(-e2*\\Delta \\tau[i + 1/2] + 2*e3*\\Delta \\tau[i - 1/2])/((\\Delta \\tau[i + 1/2] + \\Delta \\tau[i - 1/2])*\\Delta \\tau[i - 1/2])"
      ]
     },
     "execution_count": 29,
     "metadata": {},
     "output_type": "execute_result"
    }
   ],
   "source": [
    "expr.diff(S[i-1]).simplify()"
   ]
  },
  {
   "cell_type": "code",
   "execution_count": 30,
   "metadata": {},
   "outputs": [
    {
     "data": {
      "text/latex": [
       "$\\displaystyle \\frac{e_{2}}{{\\Delta \\tau}_{i - \\frac{1}{2}}} - \\frac{e_{2}}{{\\Delta \\tau}_{i + \\frac{1}{2}}} - \\frac{2 e_{3}}{{\\Delta \\tau}_{i + \\frac{1}{2}}}$"
      ],
      "text/plain": [
       "e2/\\Delta \\tau[i - 1/2] - e2/\\Delta \\tau[i + 1/2] - 2*e3/\\Delta \\tau[i + 1/2]"
      ]
     },
     "execution_count": 30,
     "metadata": {},
     "output_type": "execute_result"
    }
   ],
   "source": [
    "expr.diff(S[i]).simplify()"
   ]
  },
  {
   "cell_type": "code",
   "execution_count": 31,
   "metadata": {},
   "outputs": [
    {
     "data": {
      "text/latex": [
       "$\\displaystyle \\frac{\\left(e_{2} + 2 e_{3}\\right) {\\Delta \\tau}_{i - \\frac{1}{2}}}{\\left({\\Delta \\tau}_{i + \\frac{1}{2}} + {\\Delta \\tau}_{i - \\frac{1}{2}}\\right) {\\Delta \\tau}_{i + \\frac{1}{2}}}$"
      ],
      "text/plain": [
       "(e2 + 2*e3)*\\Delta \\tau[i - 1/2]/((\\Delta \\tau[i + 1/2] + \\Delta \\tau[i - 1/2])*\\Delta \\tau[i + 1/2])"
      ]
     },
     "execution_count": 31,
     "metadata": {},
     "output_type": "execute_result"
    }
   ],
   "source": [
    "expr.diff(S[i+1]).simplify()"
   ]
  },
  {
   "cell_type": "markdown",
   "metadata": {},
   "source": [
    "You can see how i have implemented it in two ways: Both by combining \"logically meaningfull\" subexpressions like \"left gradient\", \"right gradient\" etc, and by using the coefficients calculated above. Unfortunately, it doesn't matter, because it doesn't work... :(\n",
    "\n",
    "i was gonna write a bit about how transposing the iteration space and installing the intel short vector library allows all calculations to be performed on data residing in the registers which maximixe the performance, but with a disfunctional code this seems a bit useless"
   ]
  },
  {
   "cell_type": "code",
   "execution_count": 32,
   "metadata": {},
   "outputs": [],
   "source": [
    "import numba\n",
    "@numba.njit(fastmath=True, parallel=True)\n",
    "def Q_integral_2nd_32_inner (S0, dtau0, Initial):\n",
    "    S = S0.astype(np.float32)\n",
    "    dtau = dtau0.astype(np.float32)\n",
    "    Q = np.empty(S.shape, dtype=np.float32)\n",
    "    Q[0] = Initial.astype(np.float32)\n",
    "    for j in numba.prange(S.shape[1]): \n",
    "        for k in range(S.shape[2]):\n",
    "            right_grad = (S[1, j, k] - S[0, j, k])/dtau[0, j, k]\n",
    "            for i in range(1,S.shape[0]-1):\n",
    "                e1 = np.exp(-dtau[i-1, j, k])\n",
    "                e2 = np.float32(1) - e1\n",
    "                e3 = e1 - e2/dtau[i-1, j, k]\n",
    "                \n",
    "                left_grad = right_grad\n",
    "                right_grad = (S[i+1, j, k] - S[i, j, k])/dtau[i, j, k]\n",
    "                inv_tau_sum = np.float32(1) / dtau[i, j, k]+dtau[i-1, j, k]\n",
    "                mean_grad = (left_grad*dtau[i, j, k]+right_grad*dtau[i-1, j, k]) * inv_tau_sum\n",
    "                double_diff = np.float32(2)*(right_grad-left_grad)   * inv_tau_sum\n",
    "\n",
    "                Q[i,j,k] = e1*Q[i-1, j, k] + e2*mean_grad + double_diff * dtau[-1, j, k] * e3\n",
    "                #x0 = np.float32(1)/(dtau[i-1, j, k]+dtau[i, j, k])\n",
    "                #x2 = x1 # reuse calc, right before is now left\n",
    "                #x1 = (S[i+1, j, k] - S[i, j, k])/dtau[i, j, k]\n",
    "\n",
    "                #Q[i, j, k] = e1*Q[i-1, j, k] + x0*(e2*(x1*dtau[i-1, j, k] + x2*dtau[i, j, k]) - np.float32(2)*e3*(x1-x2)*dtau[i-1, j, k])\n",
    "    return Q\n",
    "\"\"\"\n",
    "def Q_integral_2nd_32_inner (S, dtau, Initial):\n",
    "    Q = np.empty(S.shape)\n",
    "    Q[0] = Initial\n",
    "    for i in range(1,S.shape[0]-1):\n",
    "        e1 = np.exp(-dtau[i-1])\n",
    "        e2 = np.float32(1) - e1\n",
    "        e3 = e1 - e2/dtau[i-1]\n",
    "\n",
    "        a = 1/(dtau[i-1]+dtau[i])\n",
    "        b = dtau[i]/dtau[i-1]\n",
    "        c = e2 + 2*e3\n",
    "        \n",
    "        e6 = -(e2*b-2*e3)*a\n",
    "        e7 = e2/dtau[i-1] - c/dtau[i]\n",
    "        e8 = c*a/b\n",
    "\n",
    "        Q[i] = e1*Q[i-1] + e6*S[i-1] + e7*S[i] + e8*S[i+1]\n",
    "    return Q\"\"\"\n",
    "\n",
    "def Q_integral_2nd (S, dtau, Left=None, Right=None):\n",
    "    def expand_dims(a, dims): \n",
    "        return np.expand_dims(a, list(range(a.ndim, dims)))\n",
    "    # Forward solution, from the left to the right boundary (I+ direction, increasing tau)\n",
    "    if type(Left) != type(None):\n",
    "        return Q_integral_2nd_32_inner(expand_dims(S,3), expand_dims(dtau,3), expand_dims(Left,2)).reshape(S.shape)\n",
    "    elif type(Right) != type(None): \n",
    "        return Q_integral_2nd_32_inner(expand_dims(S[::-1],3), expand_dims(np.roll(dtau[::-1],-1,0),3), expand_dims(Right,2))[::-1].reshape(S.shape)\n",
    "    else:\n",
    "        print('ERROR: Either the Ileft or Iright boundary condition must be given !')\n",
    "    return I"
   ]
  },
  {
   "cell_type": "code",
   "execution_count": 33,
   "metadata": {},
   "outputs": [
    {
     "name": "stdout",
     "output_type": "stream",
     "text": [
      "\n"
     ]
    },
    {
     "data": {
      "image/png": "[encoded data removed]",
      "text/plain": [
       "<Figure size 1152x288 with 2 Axes>"
      ]
     },
     "metadata": {
      "needs_background": "light"
     },
     "output_type": "display_data"
    }
   ],
   "source": [
    "A = 1.0; B = 0.1; C = +0.002\n",
    "plt.figure(figsize=(16,4))\n",
    "plt.subplot(1,3,1); Q_test (Q_integral_2nd, A=A, B=B, C=C, plus=1); print('')\n",
    "plt.subplot(1,3,2); Q_test (Q_integral_2nd, A=A, B=B, C=C, plus=0);"
   ]
  },
  {
   "cell_type": "code",
   "execution_count": 34,
   "metadata": {},
   "outputs": [
    {
     "name": "stdout",
     "output_type": "stream",
     "text": [
      "integral_1st: 10.01 seconds =>  25.3 nanoseconds per point\n"
     ]
    },
    {
     "data": {
      "image/png": "[encoded data removed]",
      "text/plain": [
       "<Figure size 432x288 with 1 Axes>"
      ]
     },
     "metadata": {
      "needs_background": "light"
     },
     "output_type": "display_data"
    }
   ],
   "source": [
    "timeit(integral_1st)"
   ]
  },
  {
   "cell_type": "code",
   "execution_count": 35,
   "metadata": {},
   "outputs": [
    {
     "name": "stdout",
     "output_type": "stream",
     "text": [
      "Q_integral_2nd: 10.36 seconds =>  24.5 nanoseconds per point\n"
     ]
    },
    {
     "data": {
      "image/png": "[encoded data removed]",
      "text/plain": [
       "<Figure size 432x288 with 1 Axes>"
      ]
     },
     "metadata": {
      "needs_background": "light"
     },
     "output_type": "display_data"
    }
   ],
   "source": [
    "timeit(Q_integral_2nd)"
   ]
  }
 ],
 "metadata": {
  "kernelspec": {
   "display_name": "Python 3 (ipykernel)",
   "language": "python",
   "name": "python3"
  },
  "language_info": {
   "codemirror_mode": {
    "name": "ipython",
    "version": 3
   },
   "file_extension": ".py",
   "mimetype": "text/x-python",
   "name": "python",
   "nbconvert_exporter": "python",
   "pygments_lexer": "ipython3",
   "version": "3.8.15"
  }
 },
 "nbformat": 4,
 "nbformat_minor": 4
}
