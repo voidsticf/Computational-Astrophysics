{
 "cells": [
  {
   "cell_type": "code",
   "execution_count": null,
   "metadata": {},
   "outputs": [],
   "source": []
  },
  {
   "cell_type": "markdown",
   "metadata": {},
   "source": [
    "# 2b. 2-D Riemann Solvers, applied to Blast Waves"
   ]
  },
  {
   "cell_type": "markdown",
   "metadata": {},
   "source": [
    "## Hydrodynamics\n",
    "The equations of hydrodynamics are\n",
    "\\begin{align}\n",
    "\\partial_t \\rho + \\mathbf{\\nabla} \\cdot [\\rho\\,\\mathbf{v}] & = 0 \\\\\n",
    "\\partial_t \\rho\\,\\mathbf{v} + \\mathbf{\\nabla} \\cdot [\\rho\\, \\mathbf{v}\\otimes\\mathbf{v} + P \\mathsf{I}] & = 0 \\\\\n",
    "\\partial_t E + \\mathbf{\\nabla} \\cdot [(E + P)\\, \\mathbf{v}] & = 0\\,,\n",
    "\\end{align}\n",
    "where $\\rho$ is density, $\\mathbf{v}$ is velocity, $P$ is pressure, and $E$ is the total energy density. $E = \\rho e + {1 \\over 2} \\rho v^2$, and $e$ is the internal energy per mass. This is complemented by an equation of state $P = (\\gamma - 1)\\rho e$.\n",
    "\n",
    "This can also be written in the Lagranian form\n",
    "\\begin{align}\n",
    "\\partial_t \\rho & = - \\mathbf{v} \\cdot \\mathbf{\\nabla} \\rho\n",
    "- \\rho \\mathbf{\\nabla} \\cdot \\mathbf{v} \\\\\n",
    "\\partial_t \\mathbf{v} & = - (\\mathbf{v} \\cdot \\mathbf{\\nabla}) \\mathbf{v}\n",
    "- \\frac{1}{\\rho} \\mathbf{\\nabla} P  \\\\\n",
    "\\partial_t P &= - \\mathbf{v} \\cdot \\mathbf{\\nabla} P\n",
    "- \\gamma P \\mathbf{\\nabla} \\cdot \\mathbf{v}\\,,\n",
    "\\end{align}\n",
    "where the advective derivative ($-\\mathbf{v} \\cdot \\mathbf{\\nabla}$) is explicit."
   ]
  },
  {
   "cell_type": "markdown",
   "metadata": {},
   "source": [
    "Today, we will switch to using 2-D solvers, so we can study for example _blast waves_."
   ]
  },
  {
   "cell_type": "markdown",
   "metadata": {},
   "source": [
    "### Standard libaries"
   ]
  },
  {
   "cell_type": "code",
   "execution_count": 1,
   "metadata": {},
   "outputs": [],
   "source": [
    "import numpy as np\n",
    "import matplotlib.pyplot as plt\n",
    "from time import time"
   ]
  },
  {
   "cell_type": "markdown",
   "metadata": {},
   "source": [
    "## Using a Python class to store things\n",
    "We start by defining a class `hd`, with things we will need for 2-D hydrodynamics.  Notice how we now use Python ___classes___ to make it possible to include also _methods_ (functions, subroutines), bound to the classes. "
   ]
  },
  {
   "cell_type": "code",
   "execution_count": 2,
   "metadata": {},
   "outputs": [],
   "source": [
    "class void():\n",
    "    \"\"\" Empty class, used to create ad hoc objects \"\"\"\n",
    "    pass\n",
    "\n",
    "class hd():\n",
    "    \"\"\" Template class for hydrodynamics, with parameters, variables and methods \"\"\"\n",
    "    def __init__(self,n=64,gamma=1.4,Lbox=2.,cs=None):\n",
    "        \"\"\" Initialization of arrays for conservative variables \"\"\"\n",
    "        self.n=n                     # number of points along a coordinate axis. n*n in total\n",
    "        self.Lbox=Lbox               # box size\n",
    "        self.t = 0.                  # time\n",
    "        self.it = 0                  # iterations\n",
    "        self.gamma = gamma           # adiabatic index\n",
    "        if gamma==1:                 # only set sound speed if gas isothermal\n",
    "            self.cs = cs\n",
    "        self.rho   = np.ones((n,n))  # density\n",
    "        self.Etot  = np.ones((n,n))  # total energy\n",
    "        self.Px    = np.zeros((n,n)) # momentum in x-direction\n",
    "        self.Py    = np.zeros((n,n)) # momentum in y-direction\n",
    "        self.coordinates()           # setup cooridnate system\n",
    "    \n",
    "    def coordinates(self):\n",
    "        \"\"\" Coordinate initialization \"\"\"\n",
    "        n = self.n              # shorthand, used a lot below\n",
    "        self.ds = self.Lbox/n\n",
    "        self.dx = self.ds\n",
    "        self.dy = self.ds\n",
    "        # cell-centered coordinates are in the interval [-1+ds/2,...,1-ds/2]\n",
    "        self.x = np.linspace(-self.Lbox*0.5,self.Lbox*0.5,num=self.n,endpoint=False)+0.5*self.ds\n",
    "        self.y = self.x\n",
    "        # make a 2D radius function for convenience\n",
    "        self.r = np.zeros((n,n))\n",
    "        for i in range(n):\n",
    "            self.r[i] = (self.y**2 + self.x[i]**2)**0.5\n",
    "\n",
    "    def velocity(self):\n",
    "        \"\"\" Compute velocity from conservative variables and return in (2,n,n) array \"\"\"\n",
    "        return np.array([self.Px/self.rho, self.Py/self.rho])\n",
    "\n",
    "    def pressure(self):\n",
    "        \"\"\" Compute pressure from conservative variables \"\"\"\n",
    "        if (self.gamma==1.0):\n",
    "            P = self.cs**2 * self.rho\n",
    "        else:\n",
    "            Eint = self.Etot - 0.5*(self.Px**2 + self.Py**2)/self.rho \n",
    "            P = (self.gamma-1.)*Eint\n",
    "        return P\n",
    "\n",
    "    def temperature(self):\n",
    "        \"\"\" Compute the 'temperature', defined as P/rho = kB / mu T \"\"\"\n",
    "        return self.pressure() / self.rho\n",
    "    \n",
    "    def Courant(self,C=0.5):\n",
    "        \"\"\" Courant condition for HD \"\"\"\n",
    "        v = self.velocity()\n",
    "        speed = np.sqrt(v[0]**2 + v[1]**2)\n",
    "        cs = np.sqrt(self.gamma*self.pressure()/self.rho)\n",
    "        return C*self.ds/np.max(cs+speed)\n",
    "    "
   ]
  },
  {
   "cell_type": "markdown",
   "metadata": {},
   "source": [
    "## Riemann Solvers"
   ]
  },
  {
   "cell_type": "markdown",
   "metadata": {},
   "source": [
    "Riemann solvers are used to compute the fluxes that pass mass, momentum, and energy from cell to cell.  When working in two dimensions, we need to treat the interfaces on all four sides of each cell, with differences between _left_ and _right_, and _bottom_ and _top_ controlling the changes of conserved quantities."
   ]
  },
  {
   "cell_type": "markdown",
   "metadata": {},
   "source": [
    "#### __Task 1: Complete the 2-D LLF and HLL solvers (20p)__\n",
    "Given the description (in the comments below) of how to combine the fluxes, and what you learned in the Tuesday exercise, add the energy equation to the LLF solver, and complete the HLL Riemann solver. Notice the solver is two dimensional."
   ]
  },
  {
   "cell_type": "code",
   "execution_count": 3,
   "metadata": {},
   "outputs": [],
   "source": [
    "# Conservative variables computed from primitve variable\n",
    "def primitive_to_conservative(q):\n",
    "    U = void()\n",
    "    U.D  = q.D\n",
    "    U.mU = q.D*q.U\n",
    "    U.mV = q.D*q.V\n",
    "    #if q.gamma != 1:\n",
    "    #    U.Etot = ...\n",
    "    return U\n",
    "\n",
    "# Hydro flux from conservative and primitive variables\n",
    "def Hydro_Flux(q,U):\n",
    "    F = void()\n",
    "    F.D = U.mU\n",
    "    F.mU = U.mU*q.U + q.P\n",
    "    F.mV = U.mV*q.U\n",
    "    #if q.gamma != 1:\n",
    "    #    F.Etot = ...\n",
    "    return F"
   ]
  },
  {
   "cell_type": "markdown",
   "metadata": {},
   "source": [
    "### LLF fluxes\n",
    "LLF is the most diffuse Riemann solver. But also the most stable."
   ]
  },
  {
   "cell_type": "code",
   "execution_count": 4,
   "metadata": {},
   "outputs": [],
   "source": [
    "def LLF(ql,qr):\n",
    "    # sound speed for each side of interface (l==left, r==right)\n",
    "    c_left  = (ql.gamma*ql.P/ql.D)**0.5\n",
    "    c_right = (qr.gamma*qr.P/qr.D)**0.5\n",
    "    c_max = np.maximum (c_left, c_right)\n",
    "    \n",
    "    # maximum propagation speed anywhere\n",
    "    cmax = np.maximum (np.abs(ql.U)+c_max, np.abs(qr.U)+c_max)\n",
    "\n",
    "    # Hydro conservative variable\n",
    "    Ul = primitive_to_conservative(ql)\n",
    "    Ur = primitive_to_conservative(qr)\n",
    "\n",
    "    # Hydro fluxes\n",
    "    Fl = Hydro_Flux(ql,Ul)\n",
    "    Fr = Hydro_Flux(qr,Ur)\n",
    "    \n",
    "    # LLF flux based on maximum wavespeed.\n",
    "    # The general form is \n",
    "    #   (F_left + F_right - cmax*(U_right - U_left)) / 2\n",
    "    # where U = (rho, rho*U, rho*V, E_tot) are the conserved variables\n",
    "    Flux = void()\n",
    "    Flux.D  = 0.5*(Fl.D  + Fr.D  - cmax*(Ur.D  - Ul.D))\n",
    "    Flux.mU = 0.5*(Fl.mU + Fr.mU - cmax*(Ur.mU - Ul.mU))\n",
    "    Flux.mV = 0.5*(Fl.mV + Fr.mV - cmax*(Ur.mV - Ul.mV))\n",
    "    #if ql.gamma != 1:\n",
    "    #    Flux.Etot = ...\n",
    "\n",
    "    return Flux"
   ]
  },
  {
   "cell_type": "markdown",
   "metadata": {},
   "source": [
    "### HLL (Harten, Lax, van Leer) fluxes\n",
    "This is a bit less diffuse.  The first part is identical to the LFF solver, and only the method to combine the left and right fluxes at the interfaces differ. "
   ]
  },
  {
   "cell_type": "code",
   "execution_count": 5,
   "metadata": {},
   "outputs": [],
   "source": [
    "def HLL(ql,qr):\n",
    "    # sound speed for each side of interface (l==left, r==right), and maxmimum sound speed (c_max)\n",
    "    #...\n",
    "\n",
    "    # maximum wave speeds to the left and right (guaranteed to have correct sign)\n",
    "    SL = np.minimum(np.minimum(Ul,Ur)-c_max,0) # <= 0.\n",
    "    SR = np.maximum(np.maximum(Ul,Ur)+c_max,0) # >= 0.\n",
    "\n",
    "    # Hydro conservative variable\n",
    "    #...\n",
    "\n",
    "    # Hydro fluxes    \n",
    "    #...\n",
    "\n",
    "    # HLL flux based on wavespeeds. If SL < 0 and SR > 0 then mix state appropriately\n",
    "    # The general form is \n",
    "    #    (SR * F_left - SL * F_right + SL * SR *(U_right - U_left)) / (SR - SL)\n",
    "    # where U is the state vector of the conserved variables\n",
    "    Flux = void()\n",
    "    #Flux.D = ...\n",
    "    #Flux.mU = ...\n",
    "    #Flux.mV = ...\n",
    "    #if ql.gamma != 1:\n",
    "    #    Flux.Etot = ...\n",
    "    return Flux"
   ]
  },
  {
   "cell_type": "markdown",
   "metadata": {},
   "source": [
    "### Slope limiter\n",
    "Monotonized Central (MonCen) slope limiter.  In two dimensions, return the  slopes in both directions, with shape (2,n,n)"
   ]
  },
  {
   "cell_type": "code",
   "execution_count": 6,
   "metadata": {},
   "outputs": [],
   "source": [
    "def left_slope(f,axis=0):\n",
    "    return (f-np.roll(f,1,axis))\n",
    "\n",
    "def MonCen(f):\n",
    "    \"\"\" Monotonized central slope limiter \"\"\"\n",
    "    if f.ndim==1:\n",
    "        ls=left_slope(f)\n",
    "        rs=np.roll(ls,-1)\n",
    "        cs=np.zeros(ls.shape)\n",
    "        w=np.where(ls*rs>0.0)\n",
    "        cs[w]=2.0*ls[w]*rs[w]/(ls[w]+rs[w])\n",
    "        return cs\n",
    "    else:\n",
    "        shape=np.insert(f.shape,0,f.ndim)\n",
    "        slopes=np.zeros(shape)\n",
    "        for i in range(f.ndim):\n",
    "            ls=left_slope(f,axis=i)\n",
    "            rs=np.roll(ls,-1,axis=i)\n",
    "            cs=np.zeros(f.shape)\n",
    "            w=np.where(ls*rs>0.0)\n",
    "            cs[w]=2.0*ls[w]*rs[w]/(ls[w]+rs[w])\n",
    "            slopes[i]=cs\n",
    "        return slopes"
   ]
  },
  {
   "cell_type": "markdown",
   "metadata": {},
   "source": [
    "### MUSCL Method for time updates in two dimensions\n",
    "To simplfy the equations we write the system in vector notation, with a _state vector_ $U$, and a _flux vector_ $F$, and assume we have two dimensions. $u$ is the velocity in the $x$-direction, $v$ is the velocity in the $y$-direction. Then for the flux along the first dimension we have\n",
    "\\begin{align}\n",
    "U &= (\\rho, \\rho u, \\rho v) \\\\\n",
    "F_x &= (\\rho u, \\rho u u + P, \\rho v u) \\\\\n",
    "\\partial_t U + \\partial_x F_x & = 0\n",
    "\\end{align}\n",
    "\n",
    "From last week's lecture slide we have the __master equation__ for solving the system along one coordinate axis:\n",
    "\\begin{equation}\n",
    "U(t + \\Delta t,x_{i-1/2}) - U(t,x_{i-1/2}) = - \\frac{\\Delta t}{\\Delta x} \\left[ \\tilde F_x(t + {\\Delta t \\over 2},x_{i}) - \\tilde F_x(t + {\\Delta t \\over 2},x_{i-1}) \\right]\\,,\n",
    "\\end{equation}\n",
    "where the flux terms are integrals over the time step and the cell faces (that in 1D is just a point, but in 2D a line, and in 3D an area)\n",
    "\\begin{equation}\n",
    "\\tilde F_x(t + {\\Delta t \\over 2},x_{i}) = {1 \\over \\Delta t}\n",
    "\\int^{t + \\Delta t}_t \\textrm{d} t' F_x(t', U_I(t',x_i))\\,,\n",
    "\\end{equation}\n",
    "and $U_I$ are the point values of $U$ at the interface.\n",
    "\n",
    "The 2D MUSCL method improves on Godunov method by approximating the time integral and assuming that we can make a slope interpolation for the values at the interface.\n",
    "The alogrithm goes as follows\n",
    "  1. From the state vector $U$ compute the _primitive_ variables q = ($\\rho$,$v$,$P$)\n",
    "  2. Compute the spatial slopes from center of cell to interface. Making the slopes monotonized (TVD) if needed. The slope accross a cell are $\\Delta q_x$ and $\\Delta q_y$.\n",
    "  3. Compute a naive time evolution for the primitve variables at the center of the cell using an Euler step and the Lagranian hydro equations. E.g.\n",
    "\\begin{equation}\n",
    "\\Delta q_t = \\Delta t \\frac{\\textrm{d}q}{\\textrm{d}t}\n",
    "\\end{equation}\n",
    "\n",
    "Step 4 to 7 have to be done first in the $x$-direction and then in the $y$-direction\n",
    "\n",
    "  4. Approximate $q(t+\\Delta/2, (x,y)\\pm\\Delta s/2) = q(t,x,y) + (\\Delta q_t \\pm \\Delta q_s) / 2$ where $s$ is either the $x$ or $y$ direction\n",
    "  5. Shift point of view from cells to interfaces and consider fluid variables on the _left_ and _right_ sides of _interfaces_.\n",
    "  6. Use an (approximate) Riemann solver to compute the fluxes. If considering the $y$-direction permute coordinate directions to make it the primary direction (which is what the Riemann solver expects).\n",
    "  7. Update the state vector based on the fluxes. Fluxes have to be inversely permuted if necessary.\n",
    "\n",
    "Below is the code corresponding to the algorithm. "
   ]
  },
  {
   "cell_type": "code",
   "execution_count": 7,
   "metadata": {},
   "outputs": [],
   "source": [
    "def muscl_2d (u, dt, Slope=MonCen, Riemann_Solver=LLF):\n",
    "    ds   = u.ds\n",
    "    ids  = 1. / u.ds # 1 / cell size, useful for derivatives below\n",
    "    dtds = dt/u.ds\n",
    "\n",
    "    # 1) Compute primitive variables (rho, v, P)\n",
    "    # make sure to copy u.rho to D, otherwise D becomes a \"pointer\" to u.rho, and updates itself in 7)\n",
    "    D = np.copy(u.rho)         # D: density (n,n)\n",
    "    v = u.velocity()           # v: velocity (2,n,n)\n",
    "    P = u.pressure()           # P: pressure (n,n)\n",
    "\n",
    "    # 2) Compute slope limited derivatives based on centered points\n",
    "    dD = Slope(D) * ids        # returns (2,n,n)\n",
    "    dP = Slope(P) * ids        # returns (2,n,n)\n",
    "    dv0 = Slope(v[0]) * ids    # returns (2,n,n)\n",
    "    dv1 = Slope(v[1]) * ids    # returns (2,n,n)\n",
    "    dv = np.array([dv0,dv1])   # shape = (2,2,n,n)\n",
    "\n",
    "    # 3) Trace forward to find solution at [t+dt/2, x +- dx/2]\n",
    "    \n",
    "    # Time evolution with source terms\n",
    "    div = dv[0,0] + dv[1,1]                  # div(v)\n",
    "    D_t = - v[0]*dD[0] - v[1]*dD[1] - D*div  # dD/dt = -v*grad(D) - D*div(v)\n",
    "    P_t = - v[0]*dP[0] - v[1]*dP[1] - u.gamma*P*div   # dP/dt = -v*grad(P) - gamma*P*div(v)\n",
    "    v_t = np.empty_like(v)                   # create empty array with shape = (2,n,n)\n",
    "    v_t[0] = - v[0]*dv[0,0] - v[1]*dv[0,1] - dP[0]/D  # dv/dt = -v*grad(v) - grad(P)/D\n",
    "    v_t[1] = - v[0]*dv[1,0] - v[1]*dv[1,1] - dP[1]/D\n",
    "    \n",
    "    # Loop over X- and Y-direction\n",
    "    for axis in range(2):\n",
    "        ql = void(); ql.gamma = u.gamma\n",
    "        qr = void(); qr.gamma = u.gamma\n",
    "        \n",
    "        # Calculates the parallel and perpendicular velocities to the coordinate direction\n",
    "        # X-axis: iu=0, iv=1, Y-axis: iu=1, iv=0\n",
    "        iu = axis\n",
    "        iv = (axis + 1) % 2\n",
    "        # Parallel (U) and perpendicular (V) velocities\n",
    "        U = v[iu]; dU = dv[iu]; U_t = v_t[iu]\n",
    "        V = v[iv]; dV = dv[iv]; V_t = v_t[iv]\n",
    "\n",
    "        # 4) Spatial interpolation \"axis\"-direction + time terms\n",
    "\n",
    "        # left state -- AS SEEN FROM THE INTERFACE\n",
    "        ql.D = D + 0.5*(dt*D_t + ds*dD[axis])\n",
    "        ql.P = P + 0.5*(dt*P_t + ds*dP[axis]) \n",
    "        ql.U = U + 0.5*(dt*U_t + ds*dU[axis])\n",
    "        ql.V = V + 0.5*(dt*V_t + ds*dV[axis])\n",
    "\n",
    "        # right state -- AS SEEN FROM THE INTERFACE\n",
    "        qr.D = D + 0.5*(dt*D_t - ds*dD[axis])\n",
    "        qr.P = P + 0.5*(dt*P_t - ds*dP[axis])\n",
    "        qr.U = U + 0.5*(dt*U_t - ds*dU[axis])\n",
    "        qr.V = V + 0.5*(dt*V_t - ds*dV[axis])\n",
    "\n",
    "        # 5) Roll down -1 in the \"axis\" direction so that we collect\n",
    "        #    left and right state (as seen from the interface) at the same grid index\n",
    "        qr.D = np.roll(qr.D,-1,axis=axis)\n",
    "        qr.P = np.roll(qr.P,-1,axis=axis)\n",
    "        qr.U = np.roll(qr.U,-1,axis=axis)\n",
    "        qr.V = np.roll(qr.V,-1,axis=axis)\n",
    "\n",
    "        # 6) Solve for flux based on interface values\n",
    "        Flux = Riemann_Solver(ql,qr)\n",
    "\n",
    "        # 7) Update conserved variables with fluxes\n",
    "        u.rho  -= dtds * (Flux.D - np.roll(Flux.D,1,axis=axis))\n",
    "        if u.gamma != 1:\n",
    "            u.Etot -= dtds * (Flux.Etot - np.roll(Flux.Etot,1,axis=axis))\n",
    "        if axis==0: # X-axis\n",
    "            u.Px   -= dtds * (Flux.mU - np.roll(Flux.mU,1,axis=axis))\n",
    "            u.Py   -= dtds * (Flux.mV - np.roll(Flux.mV,1,axis=axis))\n",
    "        if axis==1: # Y-axis\n",
    "            u.Px   -= dtds * (Flux.mV - np.roll(Flux.mV,1,axis=axis))\n",
    "            u.Py   -= dtds * (Flux.mU - np.roll(Flux.mU,1,axis=axis))\n",
    "\n",
    "    u.t  += dt # update time\n",
    "    u.it += 1  # update number of iterations\n",
    "\n",
    "    return u"
   ]
  },
  {
   "cell_type": "markdown",
   "metadata": {},
   "source": [
    "# Blast Wave in 2-D"
   ]
  },
  {
   "cell_type": "markdown",
   "metadata": {},
   "source": [
    "Releasing a large amount of energy into a background fluid creates an explosion characterized by a strong shock wave, which then expands radially outwards from the point where the energy was released. In astrophysics, this happens, for example, in the case of supernovae.\n",
    "\n",
    "This is called a Sedov-Taylor blast wave. Sedov and Taylor first solved the problem in the context of atomic bomb explosions, but the solution is also useful in astrophysics. It can be used to test and validate hydrodynamical computer codes since an analytical solution exists. Blast waves are good candidates for adaptive mesh refinement (AMR) technique, that you read about in the book, but they can also be resolved with a uniform grid that we will use in this exercise."
   ]
  },
  {
   "cell_type": "markdown",
   "metadata": {},
   "source": [
    "#### __Task 2: Add a profile that defines the blast (10p)__"
   ]
  },
  {
   "cell_type": "markdown",
   "metadata": {},
   "source": [
    "Complete the blast wave setup with an initial profile for the total energy, of the form"
   ]
  },
  {
   "cell_type": "markdown",
   "metadata": {},
   "source": [
    "\\begin{equation}\\tag{2}\n",
    "f(r) = 1 + e0 \\, B \\, e^{-\\left(\\frac{r}{w\\Delta r}\\right)^p}\n",
    "\\end{equation}"
   ]
  },
  {
   "cell_type": "markdown",
   "metadata": {},
   "source": [
    "where $p$ is an exponent of order $2-4$, and $w$ controls the with in cell size ($\\Delta r$) units.  In the code, use `e0` for the total energy. The factor $B$ is there to normalize the total energy to be the same no matter what is chosen for $w$ and $p$. E.g. $B$ should be chosen such that\n",
    "\\begin{equation}\n",
    "\\int dV B \\, e^{-\\left(\\frac{r}{w\\Delta r}\\right)^p} = \\sum B \\, \\Delta x \\Delta y \\, e^{-\\left(\\frac{r}{w\\Delta r}\\right)^p} = 1\n",
    "\\end{equation}"
   ]
  },
  {
   "cell_type": "code",
   "execution_count": 8,
   "metadata": {},
   "outputs": [],
   "source": [
    "class blast_wave(hd):\n",
    "    \"\"\" An extension of the hd() class with initial conditions \"\"\"\n",
    "    def __init__(u,n=64,gamma=1.4,e0=1e3,d0=0.0,power=2,w=3.,eps=0.05):\n",
    "        hd.__init__(u,n)\n",
    "        u.gamma = gamma\n",
    "        u.rho  = np.ones((n,n))\n",
    "        #profile = ...\n",
    "        #u.Etot = np.ones((n,n)) + profile"
   ]
  },
  {
   "cell_type": "markdown",
   "metadata": {},
   "source": [
    "We want the $y$ coordinate increasing upwards in image plots, so we define a variant of `imshow` (change default `size` according to taste):"
   ]
  },
  {
   "cell_type": "code",
   "execution_count": 9,
   "metadata": {},
   "outputs": [],
   "source": [
    "def imshow(f,size=10,axis=None):\n",
    "    plt.figure(figsize=(size,size))\n",
    "    if axis is None:\n",
    "        extent = None\n",
    "    else:\n",
    "        extent = ([axis.min(), axis.max(), axis.min(), axis.max()])\n",
    "\n",
    "    plt.imshow(np.transpose(f),origin='lower',extent=extent)\n",
    "    plt.colorbar();\n",
    "def title(e0=1e5,d0=1.0,C=0.5,n=128,solver=HLL):\n",
    "    plt.title('e0={:.0e}   d0={:.0e}   C={:.1f}  n={}  {}'.format(e0,d0,C,n,solver.__name__));"
   ]
  },
  {
   "cell_type": "markdown",
   "metadata": {},
   "source": [
    "Try it out on the initial condition:"
   ]
  },
  {
   "cell_type": "code",
   "execution_count": 10,
   "metadata": {},
   "outputs": [
    {
     "data": {
      "image/png": "[encoded data removed]",
      "text/plain": [
       "<Figure size 1000x1000 with 2 Axes>"
      ]
     },
     "metadata": {},
     "output_type": "display_data"
    },
    {
     "data": {
      "image/png": "[encoded data removed]",
      "text/plain": [
       "<Figure size 1000x1000 with 2 Axes>"
      ]
     },
     "metadata": {},
     "output_type": "display_data"
    }
   ],
   "source": [
    "u = blast_wave(n=128,w=10)\n",
    "imshow(np.log(u.Etot),axis=u.x)\n",
    "imshow(np.log(u.rho),axis=u.x)"
   ]
  },
  {
   "cell_type": "markdown",
   "metadata": {},
   "source": [
    "#### __Task 3: Scaling relations (20p)__"
   ]
  },
  {
   "cell_type": "markdown",
   "metadata": {},
   "source": [
    "Even without the exact analytical solution, one can already test the correctness using the scaling behaviour of the expanding shock.\n",
    "\n",
    "The radius of an expanding 3-D blast wave in a homogeneous medium scales as\n",
    "\n",
    "\\begin{equation}\\tag{1}\n",
    "R \\sim E^{1/5} \\rho^{-1/5} t^{2/5}\n",
    "\\end{equation}\n",
    "\n",
    "We would like to test if we can reproduce the scaling of the shock radius. To do this, run the eperiment, and figure out a way to track the radius as a function of time (search for a suitable maximum as a function of distance from the center). Does it match the expectation, or else how does it scale with time? Produce a plot of the shock radius as a function of time. Check in the output PDFs that the printout actually matches the edge of the shock and that the maximum of the density is not at some other place.\n",
    "\n",
    "The dimensional analysis assumes a blast wave expanding in a three dimensional medium with a density having dimensions $\\rho \\sim M/L^3$. But we are running in two dimensions. Derive the scaling law for two dimensions by figuring out the unique combination of time ($t$), density ($\\Sigma = M/L^2$), and energy ($M L^2 / S^2$) that gives the appropriate length scale. Does this now match with the shock radius observed in the simulation?"
   ]
  },
  {
   "cell_type": "markdown",
   "metadata": {},
   "source": [
    "### A small Blast Wave example"
   ]
  },
  {
   "cell_type": "markdown",
   "metadata": {},
   "source": [
    "This should take about 3 seconds:"
   ]
  },
  {
   "cell_type": "code",
   "execution_count": 11,
   "metadata": {
    "tags": []
   },
   "outputs": [
    {
     "ename": "AttributeError",
     "evalue": "'void' object has no attribute 'Etot'",
     "output_type": "error",
     "traceback": [
      "\u001b[0;31m---------------------------------------------------------------------------\u001b[0m",
      "\u001b[0;31mAttributeError\u001b[0m                            Traceback (most recent call last)",
      "Cell \u001b[0;32mIn [11], line 10\u001b[0m\n\u001b[1;32m      8\u001b[0m \u001b[38;5;28;01mfor\u001b[39;00m it \u001b[38;5;129;01min\u001b[39;00m \u001b[38;5;28mrange\u001b[39m(nt):\n\u001b[1;32m      9\u001b[0m     dt\u001b[38;5;241m=\u001b[39mu\u001b[38;5;241m.\u001b[39mCourant(C)\n\u001b[0;32m---> 10\u001b[0m     u \u001b[38;5;241m=\u001b[39m \u001b[43mmuscl_2d\u001b[49m\u001b[43m(\u001b[49m\u001b[43mu\u001b[49m\u001b[43m,\u001b[49m\u001b[43mdt\u001b[49m\u001b[43m,\u001b[49m\u001b[43mSlope\u001b[49m\u001b[38;5;241;43m=\u001b[39;49m\u001b[43mMonCen\u001b[49m\u001b[43m,\u001b[49m\u001b[43mRiemann_Solver\u001b[49m\u001b[38;5;241;43m=\u001b[39;49m\u001b[43msolver\u001b[49m\u001b[43m)\u001b[49m\n\u001b[1;32m     11\u001b[0m used\u001b[38;5;241m=\u001b[39mtime()\u001b[38;5;241m-\u001b[39mstart\n\u001b[1;32m     12\u001b[0m \u001b[38;5;28mprint\u001b[39m(\u001b[38;5;124m'\u001b[39m\u001b[38;5;132;01m{:.1f}\u001b[39;00m\u001b[38;5;124m sec, \u001b[39m\u001b[38;5;132;01m{:.2f}\u001b[39;00m\u001b[38;5;124m microseconds/update\u001b[39m\u001b[38;5;124m'\u001b[39m\u001b[38;5;241m.\u001b[39mformat(used,\u001b[38;5;241m1e6\u001b[39m\u001b[38;5;241m*\u001b[39mused\u001b[38;5;241m/\u001b[39m(n\u001b[38;5;241m*\u001b[39m\u001b[38;5;241m*\u001b[39m\u001b[38;5;241m2\u001b[39m\u001b[38;5;241m*\u001b[39mnt)))\n",
      "Cell \u001b[0;32mIn [7], line 69\u001b[0m, in \u001b[0;36mmuscl_2d\u001b[0;34m(u, dt, Slope, Riemann_Solver)\u001b[0m\n\u001b[1;32m     67\u001b[0m u\u001b[38;5;241m.\u001b[39mrho  \u001b[38;5;241m-\u001b[39m\u001b[38;5;241m=\u001b[39m dtds \u001b[38;5;241m*\u001b[39m (Flux\u001b[38;5;241m.\u001b[39mD \u001b[38;5;241m-\u001b[39m np\u001b[38;5;241m.\u001b[39mroll(Flux\u001b[38;5;241m.\u001b[39mD,\u001b[38;5;241m1\u001b[39m,axis\u001b[38;5;241m=\u001b[39maxis))\n\u001b[1;32m     68\u001b[0m \u001b[38;5;28;01mif\u001b[39;00m u\u001b[38;5;241m.\u001b[39mgamma \u001b[38;5;241m!=\u001b[39m \u001b[38;5;241m1\u001b[39m:\n\u001b[0;32m---> 69\u001b[0m     u\u001b[38;5;241m.\u001b[39mEtot \u001b[38;5;241m-\u001b[39m\u001b[38;5;241m=\u001b[39m dtds \u001b[38;5;241m*\u001b[39m (\u001b[43mFlux\u001b[49m\u001b[38;5;241;43m.\u001b[39;49m\u001b[43mEtot\u001b[49m \u001b[38;5;241m-\u001b[39m np\u001b[38;5;241m.\u001b[39mroll(Flux\u001b[38;5;241m.\u001b[39mEtot,\u001b[38;5;241m1\u001b[39m,axis\u001b[38;5;241m=\u001b[39maxis))\n\u001b[1;32m     70\u001b[0m \u001b[38;5;28;01mif\u001b[39;00m axis\u001b[38;5;241m==\u001b[39m\u001b[38;5;241m0\u001b[39m: \u001b[38;5;66;03m# X-axis\u001b[39;00m\n\u001b[1;32m     71\u001b[0m     u\u001b[38;5;241m.\u001b[39mPx   \u001b[38;5;241m-\u001b[39m\u001b[38;5;241m=\u001b[39m dtds \u001b[38;5;241m*\u001b[39m (Flux\u001b[38;5;241m.\u001b[39mmU \u001b[38;5;241m-\u001b[39m np\u001b[38;5;241m.\u001b[39mroll(Flux\u001b[38;5;241m.\u001b[39mmU,\u001b[38;5;241m1\u001b[39m,axis\u001b[38;5;241m=\u001b[39maxis))\n",
      "\u001b[0;31mAttributeError\u001b[0m: 'void' object has no attribute 'Etot'"
     ]
    }
   ],
   "source": [
    "e0 = 1e3\n",
    "n = 128\n",
    "C = 0.5\n",
    "nt = 300\n",
    "solver = LLF\n",
    "u = blast_wave(n=n,e0=e0,gamma=1.4,w=3.,power=4,eps=0.1)\n",
    "start = time()\n",
    "for it in range(nt):\n",
    "    dt=u.Courant(C)\n",
    "    u = muscl_2d(u,dt,Slope=MonCen,Riemann_Solver=solver)\n",
    "used=time()-start\n",
    "print('{:.1f} sec, {:.2f} microseconds/update'.format(used,1e6*used/(n**2*nt)))\n",
    "imshow(u.rho,axis=u.x)\n",
    "title(e0=e0,C=C,n=n,solver=solver)\n",
    "imshow(u.temperature(),axis=u.x)\n",
    "title(e0=e0,C=C,n=n,solver=solver)"
   ]
  },
  {
   "cell_type": "markdown",
   "metadata": {},
   "source": [
    "You may want to use this cheap setup to explore the effect of for example making the width $w$ smaller (to keep things as similar as possible, we added a factor in the peak energy in proportion to $1/w^2$)"
   ]
  },
  {
   "cell_type": "markdown",
   "metadata": {
    "tags": []
   },
   "source": [
    "### A Blast Wave example, with tendencies for instabilities"
   ]
  },
  {
   "cell_type": "markdown",
   "metadata": {},
   "source": [
    "Define a new function that runs an experiment with a given solver and resolution and makes a few plots. Notice how you may give the keyword `tend` to run the experiment until an exact time."
   ]
  },
  {
   "cell_type": "code",
   "execution_count": 12,
   "metadata": {
    "scrolled": true
   },
   "outputs": [],
   "source": [
    "def example(n=400,nt=-1,solver=HLL,d0=0.,e0=1e3,w=3.,tend=None):\n",
    "    C = 0.5\n",
    "    if nt==-1:\n",
    "        nt = n\n",
    "    estimate=6.*(n/200.)**3 * nt / n\n",
    "    if estimate>9.9:\n",
    "        print(\"this will take approx {:.0f} seconds\".format(estimate))\n",
    "    u = blast_wave(n=n,d0=d0,e0=e0,gamma=1.4,w=w,power=4)\n",
    "    start = time()\n",
    "    if tend is None:\n",
    "        while u.it < nt:\n",
    "            dt=u.Courant(C)\n",
    "            u = muscl_2d(u,dt,Slope=MonCen,Riemann_Solver=solver)\n",
    "    else:\n",
    "        # add and extra condition of max 10.000 iterations in case\n",
    "        # hydrodynamics crashes and timestep goes to zero\n",
    "        while u.t < tend and u.it < 1e4:\n",
    "            dt = u.Courant(C)\n",
    "            dt = min(dt, tend - u.t) # make last timestep exactly reach tend\n",
    "            u = muscl_2d(u,dt,Slope=MonCen,Riemann_Solver=solver)\n",
    "\n",
    "    used=time()-start\n",
    "    print('{:.1f} sec, {:.2f} microseconds/update'.format(used,1e6*used/(n**2*nt)))\n",
    "    if tend is None:\n",
    "        print('End time :', u.t)\n",
    "\n",
    "    imshow(u.rho,axis=u.x)\n",
    "    title(e0=e0,d0=d0,C=C,n=n,solver=solver)\n",
    "    imshow(u.temperature(),axis=u.x)\n",
    "    title(e0=e0,d0=d0,C=C,n=n,solver=solver)\n",
    "\n",
    "    return u"
   ]
  },
  {
   "cell_type": "markdown",
   "metadata": {},
   "source": [
    "Run two quick examples with LLF and HLL solvers. Notice, by plotting e.g. the density, how LLF is more diffusive than HLL."
   ]
  },
  {
   "cell_type": "code",
   "execution_count": 13,
   "metadata": {},
   "outputs": [
    {
     "ename": "AttributeError",
     "evalue": "'void' object has no attribute 'Etot'",
     "output_type": "error",
     "traceback": [
      "\u001b[0;31m---------------------------------------------------------------------------\u001b[0m",
      "\u001b[0;31mAttributeError\u001b[0m                            Traceback (most recent call last)",
      "Cell \u001b[0;32mIn [13], line 1\u001b[0m\n\u001b[0;32m----> 1\u001b[0m u1\u001b[38;5;241m=\u001b[39m\u001b[43mexample\u001b[49m\u001b[43m(\u001b[49m\u001b[43mn\u001b[49m\u001b[38;5;241;43m=\u001b[39;49m\u001b[38;5;241;43m128\u001b[39;49m\u001b[43m,\u001b[49m\u001b[43msolver\u001b[49m\u001b[38;5;241;43m=\u001b[39;49m\u001b[43mLLF\u001b[49m\u001b[43m)\u001b[49m\n",
      "Cell \u001b[0;32mIn [12], line 13\u001b[0m, in \u001b[0;36mexample\u001b[0;34m(n, nt, solver, d0, e0, w, tend)\u001b[0m\n\u001b[1;32m     11\u001b[0m     \u001b[38;5;28;01mwhile\u001b[39;00m u\u001b[38;5;241m.\u001b[39mit \u001b[38;5;241m<\u001b[39m nt:\n\u001b[1;32m     12\u001b[0m         dt\u001b[38;5;241m=\u001b[39mu\u001b[38;5;241m.\u001b[39mCourant(C)\n\u001b[0;32m---> 13\u001b[0m         u \u001b[38;5;241m=\u001b[39m \u001b[43mmuscl_2d\u001b[49m\u001b[43m(\u001b[49m\u001b[43mu\u001b[49m\u001b[43m,\u001b[49m\u001b[43mdt\u001b[49m\u001b[43m,\u001b[49m\u001b[43mSlope\u001b[49m\u001b[38;5;241;43m=\u001b[39;49m\u001b[43mMonCen\u001b[49m\u001b[43m,\u001b[49m\u001b[43mRiemann_Solver\u001b[49m\u001b[38;5;241;43m=\u001b[39;49m\u001b[43msolver\u001b[49m\u001b[43m)\u001b[49m\n\u001b[1;32m     14\u001b[0m \u001b[38;5;28;01melse\u001b[39;00m:\n\u001b[1;32m     15\u001b[0m     \u001b[38;5;66;03m# add and extra condition of max 10.000 iterations in case\u001b[39;00m\n\u001b[1;32m     16\u001b[0m     \u001b[38;5;66;03m# hydrodynamics crashes and timestep goes to zero\u001b[39;00m\n\u001b[1;32m     17\u001b[0m     \u001b[38;5;28;01mwhile\u001b[39;00m u\u001b[38;5;241m.\u001b[39mt \u001b[38;5;241m<\u001b[39m tend \u001b[38;5;129;01mand\u001b[39;00m u\u001b[38;5;241m.\u001b[39mit \u001b[38;5;241m<\u001b[39m \u001b[38;5;241m1e4\u001b[39m:\n",
      "Cell \u001b[0;32mIn [7], line 69\u001b[0m, in \u001b[0;36mmuscl_2d\u001b[0;34m(u, dt, Slope, Riemann_Solver)\u001b[0m\n\u001b[1;32m     67\u001b[0m u\u001b[38;5;241m.\u001b[39mrho  \u001b[38;5;241m-\u001b[39m\u001b[38;5;241m=\u001b[39m dtds \u001b[38;5;241m*\u001b[39m (Flux\u001b[38;5;241m.\u001b[39mD \u001b[38;5;241m-\u001b[39m np\u001b[38;5;241m.\u001b[39mroll(Flux\u001b[38;5;241m.\u001b[39mD,\u001b[38;5;241m1\u001b[39m,axis\u001b[38;5;241m=\u001b[39maxis))\n\u001b[1;32m     68\u001b[0m \u001b[38;5;28;01mif\u001b[39;00m u\u001b[38;5;241m.\u001b[39mgamma \u001b[38;5;241m!=\u001b[39m \u001b[38;5;241m1\u001b[39m:\n\u001b[0;32m---> 69\u001b[0m     u\u001b[38;5;241m.\u001b[39mEtot \u001b[38;5;241m-\u001b[39m\u001b[38;5;241m=\u001b[39m dtds \u001b[38;5;241m*\u001b[39m (\u001b[43mFlux\u001b[49m\u001b[38;5;241;43m.\u001b[39;49m\u001b[43mEtot\u001b[49m \u001b[38;5;241m-\u001b[39m np\u001b[38;5;241m.\u001b[39mroll(Flux\u001b[38;5;241m.\u001b[39mEtot,\u001b[38;5;241m1\u001b[39m,axis\u001b[38;5;241m=\u001b[39maxis))\n\u001b[1;32m     70\u001b[0m \u001b[38;5;28;01mif\u001b[39;00m axis\u001b[38;5;241m==\u001b[39m\u001b[38;5;241m0\u001b[39m: \u001b[38;5;66;03m# X-axis\u001b[39;00m\n\u001b[1;32m     71\u001b[0m     u\u001b[38;5;241m.\u001b[39mPx   \u001b[38;5;241m-\u001b[39m\u001b[38;5;241m=\u001b[39m dtds \u001b[38;5;241m*\u001b[39m (Flux\u001b[38;5;241m.\u001b[39mmU \u001b[38;5;241m-\u001b[39m np\u001b[38;5;241m.\u001b[39mroll(Flux\u001b[38;5;241m.\u001b[39mmU,\u001b[38;5;241m1\u001b[39m,axis\u001b[38;5;241m=\u001b[39maxis))\n",
      "\u001b[0;31mAttributeError\u001b[0m: 'void' object has no attribute 'Etot'"
     ]
    }
   ],
   "source": [
    "u1=example(n=128,solver=LLF)"
   ]
  },
  {
   "cell_type": "code",
   "execution_count": null,
   "metadata": {},
   "outputs": [],
   "source": [
    "u2=example(n=128,solver=HLL)"
   ]
  },
  {
   "cell_type": "code",
   "execution_count": null,
   "metadata": {},
   "outputs": [],
   "source": [
    "plt.figure(figsize=(10,6))\n",
    "plt.plot(u1.rho[:,u1.n//2],'-o',label='LLF')\n",
    "plt.plot(u2.rho[:,u2.n//2],'-o',label='HLL')\n",
    "plt.legend()\n",
    "plt.xlim(28,45);"
   ]
  },
  {
   "cell_type": "markdown",
   "metadata": {},
   "source": [
    "To explore the substructure in the blast wave, we need higher resolution. This example should take about 20 seconds to run, and produce a thinner shock front:"
   ]
  },
  {
   "cell_type": "code",
   "execution_count": null,
   "metadata": {
    "scrolled": true
   },
   "outputs": [],
   "source": [
    "u=example(n=300,solver=HLL)"
   ]
  },
  {
   "cell_type": "markdown",
   "metadata": {},
   "source": [
    "#### __Task 4: Rayleigh-Taylor instabilities in blast waves (30p)__"
   ]
  },
  {
   "cell_type": "markdown",
   "metadata": {},
   "source": [
    "A supernova exploding in the interstellar medium does not only have a high pressure, it also contains a significant amount of mass. To simulate this, try adding mass to your experiment, by using a similar profile for density, with `m0` being the total mass in the profile.\n",
    "\n",
    "Add mass by setting `m0` to something similar to the box mass, eg. 0.5, corresponding to a dense and warm source of the blast. Run the simulation followed by the analysis again. What is the impact of adding mass? How does the expansion change? How does the radius as a function of time change? What about the structure of the shock: Does it look similar to what you saw in the first run? If not, why not?\n",
    "\n",
    "And: Can you make significant Rayleigh-Taylor instabilities develop, by tuning the parameters (include increasing `n`)?  Note that when you change `n` it is useful to set `tend`, to get to the same radius, so the cost (wall clock time) increases with a factor of 8, for each power of 2 (note that it is not necessary to use powers of 2). It may help to add a bit of random noise with amplitude `eps` to e.g. the density profile, to seed the perturbations (what is seeding the perturbations without the noise?).\n"
   ]
  },
  {
   "cell_type": "markdown",
   "metadata": {},
   "source": [
    "#### Extra Tasks (and extra points!) for the interested"
   ]
  },
  {
   "cell_type": "markdown",
   "metadata": {},
   "source": [
    "If you want to have fun with blast waves, you can extend the setup to include several blastwaves, or include areas in your \"ISM\" that have different density.\n",
    "\n",
    "  * What happens if your blastwave collide with another one\n",
    "  * What happens if a blastwave explodes outside a \"cloud\" (e.g. a dense circular region)\n",
    "  * What happens if it explodes on the edge, or inside?\n",
    "  \n",
    "What do you learn from your experiments about the effect of feedback from Supernovae in the ISM?"
   ]
  },
  {
   "cell_type": "markdown",
   "metadata": {},
   "source": [
    "### __Absalon turn-in__"
   ]
  },
  {
   "cell_type": "markdown",
   "metadata": {},
   "source": [
    "Upload a max 3 page report (max 4 pages if you go for the extra tasks), the notebook and a PDF of the notebook, with the coding tasks completed. You can also upload movies. Please include comments and figures in the report. "
   ]
  }
 ],
 "metadata": {
  "kernelspec": {
   "display_name": "Python 3 (ipykernel)",
   "language": "python",
   "name": "python3"
  },
  "language_info": {
   "codemirror_mode": {
    "name": "ipython",
    "version": 3
   },
   "file_extension": ".py",
   "mimetype": "text/x-python",
   "name": "python",
   "nbconvert_exporter": "python",
   "pygments_lexer": "ipython3",
   "version": "3.8.15"
  }
 },
 "nbformat": 4,
 "nbformat_minor": 4
}
